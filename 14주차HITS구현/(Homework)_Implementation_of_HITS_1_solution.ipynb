{
  "cells": [
    {
      "cell_type": "markdown",
      "source": [
        "# IAB - Hands-on Tutorial for Link Analysis\n",
        "\n",
        "Welcome to IAB - hands-on tutorial for link analysis.\n",
        "In this tutorial, we will study several techniques for link analysis in graphs.\n",
        "This tutorial consists of two sessions and one homework, and each of them will handle the following topic:\n",
        "\n",
        "* **Session 1-1**. Tutorial on PageRank - Part 1 (60 mins)\n",
        "* **Session 1-2**. Tutorial on PageRank - Part 2 (60 mins)\n",
        "* **Session 2**. Tutorial on Topic-specific PageRank (120 mins)\n",
        "* <span style=\"color:blue\">**Homework**. Implementation of HITS</span>\n",
        "\n",
        "We recommend fully understanding the lecture videos related to link analysis (or ranking) models such as PageRank, Topic-specific PageRank, and HITS before entering this tutorial since we will **NOT** explain the theoretical backgrounds on these techniques during the tutorial.\n",
        "We will mainly focus on how to implement the algorithms of those models and how to rank nodes in real-world graphs using those ranking models.\n",
        "\n",
        "The main contributors of this material are as follows:\n",
        "* *Jihyeong Jeon* (jeonjihyeong@gmail.com)\n",
        "* *Jaeri Lee* (jlunits2@gmail.com)\n",
        "* *Jong-eun Lee* (kjayjay40@gmail.com)\n",
        "* *U Kang* (ukang@snu.ac.kr)\n",
        "------"
      ],
      "metadata": {
        "id": "wEdPh2wC9Tbb"
      }
    },
    {
      "cell_type": "code",
      "source": [
        "from google.colab import drive\n",
        "drive.mount('/content/drive')"
      ],
      "metadata": {
        "id": "rQnnyq_1SUYE",
        "outputId": "89def808-fdd2-44b2-9c62-1e5cf7b36fa2",
        "colab": {
          "base_uri": "https://localhost:8080/"
        }
      },
      "execution_count": null,
      "outputs": [
        {
          "output_type": "stream",
          "name": "stdout",
          "text": [
            "Drive already mounted at /content/drive; to attempt to forcibly remount, call drive.mount(\"/content/drive\", force_remount=True).\n"
          ]
        }
      ]
    },
    {
      "cell_type": "markdown",
      "source": [
        "-----\n",
        "## Homework. Implementation of HITS\n",
        "In this homework, you will implement HITS in Python.\n",
        "The main goals of this homework are summarized as follows:\n",
        "* **Goal 1.** How to implement HITS based on sparse matrices using `numpy` and `scipy` in Python\n",
        "* **Goal 2.** To perform a qualitative analysis of the ranking result from HITS in real-world networks\n",
        "\n",
        "The outline of this homework is as follows:\n",
        "* **Step 1.** Review HITS algorithm\n",
        "* **Step 2.** Implement HITS algorithm - the sparse matrix version\n",
        "* **Step 3.** Validate your HITS implementation\n",
        "* **Step 4.** Qualitative analysis of the ranking result from HITS\n",
        "\n",
        "<span style=\"color:blue\">Note that we will evaluate the result from Step 2 at this homework. Before submitting your homework, please verify if your implementation is correct at Step 3. <span>\n",
        "\n",
        "------"
      ],
      "metadata": {
        "id": "peno912F9Tbd"
      }
    },
    {
      "cell_type": "markdown",
      "source": [
        "-----\n",
        "### Step 1. Review HITS algorithm\n",
        "\n",
        "In this step, we will briefly review HITS algorithm which is another global node ranking model in graphs."
      ],
      "metadata": {
        "id": "GxN54ETu9Tbe"
      }
    },
    {
      "cell_type": "markdown",
      "source": [
        "#### Step 1-1. Mathematical definition of HITS\n",
        "Given an adjacency matrix of a graph, HITS computes the hub and authority score vectors which can be used for ranking nodes in the graph.\n",
        "\n",
        "##### Problem definition of HITS\n",
        "* **Input**: adjacency matrix $\\mathbf{A}\\in \\mathbb{R}^{n \\times n}$ of a graph $G=(V, E)$\n",
        "* **Output**: hub score vector $\\mathbf{h} \\in \\mathbb{R}^{n}$, and authority score vector $\\mathbf{a} \\in \\mathbb{R}^{n}$ such that\n",
        "\n",
        "$$\n",
        "\\mathbf{h} = \\mathbf{A}\\mathbf{a} \\\\\n",
        "\\mathbf{a} = \\mathbf{A}^{\\top}\\mathbf{h}\n",
        "$$\n",
        "\n",
        "* The above equations are called the equations for HITS.\n",
        "\n",
        "Note that HITS does not require the row-normalized adjacency matrix."
      ],
      "metadata": {
        "id": "dH4TqizC9Tbf"
      }
    },
    {
      "cell_type": "markdown",
      "source": [
        "#### Step 1-2. Iterative Algorithm for HITS\n",
        "As described in the lecture video, the hub and authority score vectors, $\\mathbf{h}$ and $\\mathbf{a}$, are obtained by iteratively computing the equations for HITS.\n",
        "Note that for each iteration, we need to L2-normalize the vectors $\\mathbf{h}$ and $\\mathbf{a}$.\n",
        "The following pseudo-code represents the iterative algorithm for HITS.\n",
        "\n",
        "<img src=/content/drive/MyDrive/images/iterative-algorithm-hits.png\" width=\"400\">\n",
        "\n",
        "Implement the iterative algorithm in Python.\n",
        "\n",
        "\n",
        "------"
      ],
      "metadata": {
        "id": "4IyOqXEc9Tbf"
      }
    },
    {
      "cell_type": "markdown",
      "source": [
        "### Step 2. Implement HITS algorithm - the sparse matrix version\n",
        "Implement the sparse matrix version of HITS algorithm in Python."
      ],
      "metadata": {
        "id": "OW1vf8n79Tbg"
      }
    },
    {
      "cell_type": "code",
      "execution_count": null,
      "source": [
        "try:\n",
        "    import numpy\n",
        "except ImportError:\n",
        "    print(\"numpy is not installed, type pip install numpy\")\n",
        "\n",
        "try:\n",
        "    import scipy\n",
        "except ImportError:\n",
        "    print(\"scipy is not installed, type pip install scipy\")\n",
        "\n",
        "try:\n",
        "    import matplotlib\n",
        "except ImportError:\n",
        "    print(\"matplotlib is not installed, type pip install matplotlib\")\n",
        "\n",
        "try:\n",
        "    import pandas\n",
        "except ImportError:\n",
        "    print(\"pandas is not installed, type pip install pandas\")\n",
        "\n",
        "try:\n",
        "    from IPython.display import display\n",
        "except ImportError:\n",
        "    print(\"ipython is not installed, type pip install ipython\")"
      ],
      "outputs": [],
      "metadata": {
        "collapsed": true,
        "id": "FUl-u1n19Tbg"
      }
    },
    {
      "cell_type": "markdown",
      "source": [
        "#### Step 2-2. Implement the phase for loading the graph dataset\n",
        "In this step, we will implement the phase for loading the graph dataset of the sparse matrix version of HITS.\n",
        "We first need to import the following packages for this."
      ],
      "metadata": {
        "id": "Dk-PcRXc9Tbj"
      }
    },
    {
      "cell_type": "code",
      "execution_count": null,
      "source": [
        "# the below commands restrict the number of computation threads to 1\n",
        "import os\n",
        "os.environ[\"MKL_NUM_THREADS\"] = \"1\"\n",
        "os.environ[\"NUMEXPR_NUM_THREADS\"] = \"1\"\n",
        "os.environ[\"OMP_NUM_THREADS\"] = \"1\"\n",
        "\n",
        "import numpy as np\n",
        "from scipy.sparse import csr_matrix, find\n",
        "import pandas as pd\n",
        "from IPython.display import display"
      ],
      "outputs": [],
      "metadata": {
        "collapsed": true,
        "id": "C9x2-dtN9Tbl"
      }
    },
    {
      "cell_type": "markdown",
      "source": [
        "As in the previous sessions, we implement the following function for loading graph datasets.\n",
        "Note that we do not need to modify the function since the functionality in the version is the same with that of Session 2."
      ],
      "metadata": {
        "id": "ByJ9bKNg9Tbm"
      }
    },
    {
      "cell_type": "code",
      "execution_count": null,
      "source": [
        "class SparseHITS:\n",
        "    def load_graph_dataset(self, data_home, is_undirected=False):\n",
        "        '''\n",
        "        Load the graph dataset from the given directory (data_home)\n",
        "\n",
        "        inputs:\n",
        "            data_home: string\n",
        "                directory path containing a dataset (edges.tsv, node_labels.tsv)\n",
        "            is_undirected: bool\n",
        "                if the graph is undirected\n",
        "        '''\n",
        "        # Step 1. self file paths from data_home\n",
        "        edge_path = \"{}/edges.tsv\".format(data_home)\n",
        "\n",
        "        # Step 2. read the list of edges from edge_path\n",
        "        edges = np.loadtxt(edge_path, dtype=int)\n",
        "        n = int(np.amax(edges[:, 0:2])) + 1\n",
        "\n",
        "        # Step 3. convert the edge list to the weighted adjacency matrix\n",
        "        rows = edges[:, 0]\n",
        "        cols = edges[:, 1]\n",
        "        weights = edges[:, 2]\n",
        "        self.A = csr_matrix((weights, (rows, cols)), shape=(n, n), dtype=float)\n",
        "        if is_undirected == True:\n",
        "            self.A = self.A + self.A.T\n",
        "        self.AT = self.A.T\n",
        "\n",
        "        # Step 4. set n (# of nodes) and m (# of edges)\n",
        "        self.n = self.A.shape[0]     # number of nodes\n",
        "        self.m = self.A.nnz          # number of edges"
      ],
      "outputs": [],
      "metadata": {
        "collapsed": true,
        "id": "L7XdVrEd9Tbo"
      }
    },
    {
      "cell_type": "code",
      "execution_count": null,
      "source": [
        "class SparseHITS(SparseHITS):\n",
        "    def load_node_labels(self, data_home):\n",
        "        '''\n",
        "        Load the node labels from the given directory (data_home)\n",
        "\n",
        "        inputs:\n",
        "            data_home: string\n",
        "                directory path containing a dataset\n",
        "        '''\n",
        "        label_path = \"{}/node_labels.tsv\".format(data_home)\n",
        "        self.node_labels = pd.read_csv(label_path, sep=\"\\t\")"
      ],
      "outputs": [],
      "metadata": {
        "collapsed": true,
        "id": "nY9zieqJ9Tbq"
      }
    },
    {
      "cell_type": "markdown",
      "source": [
        "Let's check if the function is correctly implemented.\n",
        "We will use the small dataset at `./data/small` as before."
      ],
      "metadata": {
        "id": "8D-0mAPV9Tbs"
      }
    },
    {
      "cell_type": "code",
      "execution_count": null,
      "source": [
        "hits = SparseHITS()\n",
        "hits.load_graph_dataset('/content/drive/MyDrive/data/small', is_undirected=False)\n",
        "print(\"The number n of nodes: {}\".format(hits.n))\n",
        "print(\"The number m of edges: {}\".format(hits.m))"
      ],
      "outputs": [
        {
          "output_type": "stream",
          "name": "stdout",
          "text": [
            "The number n of nodes: 29\n",
            "The number m of edges: 376\n"
          ]
        }
      ],
      "metadata": {
        "id": "e9Bz6KFT9Tbs",
        "outputId": "354504ca-9e36-43d9-cc87-7f6b011fdd11",
        "colab": {
          "base_uri": "https://localhost:8080/"
        }
      }
    },
    {
      "cell_type": "markdown",
      "source": [
        "#### Step 2-3. Implement the iterative phase (Homework)\n",
        "\n",
        "Contrary to PageRank, HITS does not need a normalization phase for the adjacency matrix.\n",
        "In this step, we implement the iterative phase of HITS in the following algorithm.\n",
        "\n",
        "<img src=\"./images/iterative-algorithm-hits.png\" width=\"400\">"
      ],
      "metadata": {
        "id": "dCj3Ji2i9Tbu"
      }
    },
    {
      "cell_type": "code",
      "execution_count": null,
      "source": [
        "class SparseHITS(SparseHITS):\n",
        "    def iterate_HITS(self, epsilon=1e-9, maxIters=100):\n",
        "        '''\n",
        "        ///Homework!///\n",
        "        Iterate the HITS equation to obatin the hub & authority score vectors\n",
        "\n",
        "        inputs:\n",
        "            epsilon: float\n",
        "                the error tolerance of the iteration\n",
        "            maxIters: int\n",
        "                the maximum number of iterations\n",
        "\n",
        "        outputs:\n",
        "            h: np.ndarray (n x 1 vector)\n",
        "                the final hub score vector\n",
        "            a: np.ndarray (n x 1 vector)\n",
        "                the final authority score vector\n",
        "            h_residuals: list\n",
        "                the list of hub residuals over the iteration\n",
        "            a_residuals: list\n",
        "                the list of authority residuals over the iteration\n",
        "\n",
        "        '''\n",
        "        # From ==========================\n",
        "        # implement the HITS algorithm\n",
        "        # To ============================\n",
        "        #1, #2\n",
        "# self.A = csr_matrix((weights, (rows, cols)), shape=(n, n), dtype=float)\n",
        "\n",
        "        h=np.zeros(self.n)\n",
        "        a=np.zeros(self.n)\n",
        "\n",
        "        old_h=np.ones(self.n)/self.n\n",
        "        h_residuals = []\n",
        "\n",
        "        old_a=np.ones(self.n)/self.n\n",
        "        a_residuals = []\n",
        "\n",
        "        #3\n",
        "        for t in range(maxIters):\n",
        "          #4 h<- Aa'\n",
        "\n",
        "          h=(self.A).dot(old_a)\n",
        "\n",
        "          #5 a<- (A^T)h\n",
        "\n",
        "          a=(self.AT).dot(h)\n",
        "\n",
        "          #6 L2-normalize h and a, i.e., 정규화 하긴 하는데 양수로 나오게끔 함.\n",
        "          h = h * np.sign(h)\n",
        "          h = h/np.linalg.norm(h, 2)\n",
        "          a = a * np.sign(a)\n",
        "          a = a/np.linalg.norm(a, 2)\n",
        "\n",
        "          #7 compute residuals norm=1일때의 delta h, a\n",
        "          h_residual=np.linalg.norm(h-old_h,1)\n",
        "          h_residuals.append(h_residual)\n",
        "\n",
        "          a_residual=np.linalg.norm(a-old_a,1)\n",
        "          a_residuals.append(a_residual)\n",
        "\n",
        "          #8 update h' <- h and a' <- a\n",
        "          old_h=h\n",
        "          old_a=a\n",
        "\n",
        "          #9 until residuals <epsilon\n",
        "          if h_residual < epsilon and a_residual < epsilon:\n",
        "              break\n",
        "\n",
        "        # since SVD is not unique, h and a could be negative according to a random seed\n",
        "        # in this case, we need to make the scores non-negative and L2-normalize them out\n",
        "        # h = h * np.sign(h) 절댓값 넣는 것과 같은 효과\n",
        "        # h = h / np.linalg.norm(h, 2) L2 norm 정규화 과정과 같음.\n",
        "        # a = a * np.sign(a)\n",
        "        # a = a / np.linalg.norm(a, 2)\n",
        "\n",
        "        return h, a, h_residuals, a_residuals"
      ],
      "outputs": [],
      "metadata": {
        "collapsed": true,
        "id": "qVdinWSz9Tbv"
      }
    },
    {
      "cell_type": "markdown",
      "source": [
        "Let's check the implementation is correctly performed.\n",
        "Please check ranking results based on hub and authority scores using `pandas`.\n",
        "\n",
        "**Homework. ** Print your top-$5$ ranking results on the files `hub.csv` and `auth.csv`, respectively.\n",
        "* format: each line print node id and its hub or authority score where they are comma-separated, i.e., `node_id, score`. Each score should be down to $4$ places of decimals.\n",
        "* `hub.csv`: it should contain top-$5$ rankings sorted in the decreasing order of the hub scores.\n",
        "* `auth.csv`: it should contain top-$5$ rankings sorted in the decreasing order of the authority scores.\n",
        "* To write an object of `pandas` to a file, please try to use `to_csv` function of `pandas`.\n",
        "    - https://pandas.pydata.org/pandas-docs/stable/generated/pandas.DataFrame.to_csv.html"
      ],
      "metadata": {
        "id": "9oNpWtbs9Tby"
      }
    },
    {
      "cell_type": "code",
      "execution_count": null,
      "source": [
        "import pandas as pd\n",
        "\n",
        "def rank_nodes(ranking_scores, topk=-1):\n",
        "    sorted_nodes = np.flipud(np.argsort(ranking_scores))\n",
        "    sorted_scores = ranking_scores[sorted_nodes]\n",
        "    ranking_results = pd.DataFrame()\n",
        "    ranking_results[\"node_id\"] = sorted_nodes\n",
        "    ranking_results[\"score\"] = sorted_scores\n",
        "\n",
        "    return ranking_results[0:topk]"
      ],
      "outputs": [],
      "metadata": {
        "collapsed": true,
        "id": "sUwzCR299Tb0"
      }
    },
    {
      "cell_type": "code",
      "execution_count": null,
      "source": [
        "hits = SparseHITS()\n",
        "hits.load_graph_dataset('/content/drive/MyDrive/data/small', is_undirected=False)\n",
        "h, a, _, _ = hits.iterate_HITS(epsilon=1e-9, maxIters=100)\n",
        "\n",
        "print(\"Top-5 rankings based on the hub score vector:\")\n",
        "display(rank_nodes(h, 5))\n",
        "\n",
        "print(\"Top-5 rankings based on the authority score vector\")\n",
        "display(rank_nodes(a, 5))\n",
        "\n",
        "# Homework!\n",
        "# Print your results on files 'hub.csv' and 'auth.csv', respectively.\n",
        "# Reference: https://pandas.pydata.org/pandas-docs/stable/generated/pandas.DataFrame.to_csv.html\n",
        "rank_nodes(h,5).to_csv('hub.csv', sep=',', index=False, header=False, float_format='%.4f')\n",
        "rank_nodes(a,5).to_csv('auth.csv', sep=',', index=False, header=False, float_format='%.4f')"
      ],
      "outputs": [
        {
          "output_type": "stream",
          "name": "stdout",
          "text": [
            "Top-5 rankings based on the hub score vector:\n"
          ]
        },
        {
          "output_type": "display_data",
          "data": {
            "text/plain": [
              "   node_id     score\n",
              "0        4  0.320863\n",
              "1        5  0.317454\n",
              "2        3  0.293383\n",
              "3        2  0.224871\n",
              "4       21  0.219779"
            ],
            "text/html": [
              "\n",
              "  <div id=\"df-c5419252-c526-4b5f-ab5c-e2f57f5f1d8b\">\n",
              "    <div class=\"colab-df-container\">\n",
              "      <div>\n",
              "<style scoped>\n",
              "    .dataframe tbody tr th:only-of-type {\n",
              "        vertical-align: middle;\n",
              "    }\n",
              "\n",
              "    .dataframe tbody tr th {\n",
              "        vertical-align: top;\n",
              "    }\n",
              "\n",
              "    .dataframe thead th {\n",
              "        text-align: right;\n",
              "    }\n",
              "</style>\n",
              "<table border=\"1\" class=\"dataframe\">\n",
              "  <thead>\n",
              "    <tr style=\"text-align: right;\">\n",
              "      <th></th>\n",
              "      <th>node_id</th>\n",
              "      <th>score</th>\n",
              "    </tr>\n",
              "  </thead>\n",
              "  <tbody>\n",
              "    <tr>\n",
              "      <th>0</th>\n",
              "      <td>4</td>\n",
              "      <td>0.320863</td>\n",
              "    </tr>\n",
              "    <tr>\n",
              "      <th>1</th>\n",
              "      <td>5</td>\n",
              "      <td>0.317454</td>\n",
              "    </tr>\n",
              "    <tr>\n",
              "      <th>2</th>\n",
              "      <td>3</td>\n",
              "      <td>0.293383</td>\n",
              "    </tr>\n",
              "    <tr>\n",
              "      <th>3</th>\n",
              "      <td>2</td>\n",
              "      <td>0.224871</td>\n",
              "    </tr>\n",
              "    <tr>\n",
              "      <th>4</th>\n",
              "      <td>21</td>\n",
              "      <td>0.219779</td>\n",
              "    </tr>\n",
              "  </tbody>\n",
              "</table>\n",
              "</div>\n",
              "      <button class=\"colab-df-convert\" onclick=\"convertToInteractive('df-c5419252-c526-4b5f-ab5c-e2f57f5f1d8b')\"\n",
              "              title=\"Convert this dataframe to an interactive table.\"\n",
              "              style=\"display:none;\">\n",
              "        \n",
              "  <svg xmlns=\"http://www.w3.org/2000/svg\" height=\"24px\"viewBox=\"0 0 24 24\"\n",
              "       width=\"24px\">\n",
              "    <path d=\"M0 0h24v24H0V0z\" fill=\"none\"/>\n",
              "    <path d=\"M18.56 5.44l.94 2.06.94-2.06 2.06-.94-2.06-.94-.94-2.06-.94 2.06-2.06.94zm-11 1L8.5 8.5l.94-2.06 2.06-.94-2.06-.94L8.5 2.5l-.94 2.06-2.06.94zm10 10l.94 2.06.94-2.06 2.06-.94-2.06-.94-.94-2.06-.94 2.06-2.06.94z\"/><path d=\"M17.41 7.96l-1.37-1.37c-.4-.4-.92-.59-1.43-.59-.52 0-1.04.2-1.43.59L10.3 9.45l-7.72 7.72c-.78.78-.78 2.05 0 2.83L4 21.41c.39.39.9.59 1.41.59.51 0 1.02-.2 1.41-.59l7.78-7.78 2.81-2.81c.8-.78.8-2.07 0-2.86zM5.41 20L4 18.59l7.72-7.72 1.47 1.35L5.41 20z\"/>\n",
              "  </svg>\n",
              "      </button>\n",
              "      \n",
              "  <style>\n",
              "    .colab-df-container {\n",
              "      display:flex;\n",
              "      flex-wrap:wrap;\n",
              "      gap: 12px;\n",
              "    }\n",
              "\n",
              "    .colab-df-convert {\n",
              "      background-color: #E8F0FE;\n",
              "      border: none;\n",
              "      border-radius: 50%;\n",
              "      cursor: pointer;\n",
              "      display: none;\n",
              "      fill: #1967D2;\n",
              "      height: 32px;\n",
              "      padding: 0 0 0 0;\n",
              "      width: 32px;\n",
              "    }\n",
              "\n",
              "    .colab-df-convert:hover {\n",
              "      background-color: #E2EBFA;\n",
              "      box-shadow: 0px 1px 2px rgba(60, 64, 67, 0.3), 0px 1px 3px 1px rgba(60, 64, 67, 0.15);\n",
              "      fill: #174EA6;\n",
              "    }\n",
              "\n",
              "    [theme=dark] .colab-df-convert {\n",
              "      background-color: #3B4455;\n",
              "      fill: #D2E3FC;\n",
              "    }\n",
              "\n",
              "    [theme=dark] .colab-df-convert:hover {\n",
              "      background-color: #434B5C;\n",
              "      box-shadow: 0px 1px 3px 1px rgba(0, 0, 0, 0.15);\n",
              "      filter: drop-shadow(0px 1px 2px rgba(0, 0, 0, 0.3));\n",
              "      fill: #FFFFFF;\n",
              "    }\n",
              "  </style>\n",
              "\n",
              "      <script>\n",
              "        const buttonEl =\n",
              "          document.querySelector('#df-c5419252-c526-4b5f-ab5c-e2f57f5f1d8b button.colab-df-convert');\n",
              "        buttonEl.style.display =\n",
              "          google.colab.kernel.accessAllowed ? 'block' : 'none';\n",
              "\n",
              "        async function convertToInteractive(key) {\n",
              "          const element = document.querySelector('#df-c5419252-c526-4b5f-ab5c-e2f57f5f1d8b');\n",
              "          const dataTable =\n",
              "            await google.colab.kernel.invokeFunction('convertToInteractive',\n",
              "                                                     [key], {});\n",
              "          if (!dataTable) return;\n",
              "\n",
              "          const docLinkHtml = 'Like what you see? Visit the ' +\n",
              "            '<a target=\"_blank\" href=https://colab.research.google.com/notebooks/data_table.ipynb>data table notebook</a>'\n",
              "            + ' to learn more about interactive tables.';\n",
              "          element.innerHTML = '';\n",
              "          dataTable['output_type'] = 'display_data';\n",
              "          await google.colab.output.renderOutput(dataTable, element);\n",
              "          const docLink = document.createElement('div');\n",
              "          docLink.innerHTML = docLinkHtml;\n",
              "          element.appendChild(docLink);\n",
              "        }\n",
              "      </script>\n",
              "    </div>\n",
              "  </div>\n",
              "  "
            ]
          },
          "metadata": {}
        },
        {
          "output_type": "stream",
          "name": "stdout",
          "text": [
            "Top-5 rankings based on the authority score vector\n"
          ]
        },
        {
          "output_type": "display_data",
          "data": {
            "text/plain": [
              "   node_id     score\n",
              "0        7  0.269209\n",
              "1        8  0.262543\n",
              "2       10  0.260004\n",
              "3       13  0.249306\n",
              "4       11  0.242907"
            ],
            "text/html": [
              "\n",
              "  <div id=\"df-04968442-4f5d-4727-836b-b6450e781402\">\n",
              "    <div class=\"colab-df-container\">\n",
              "      <div>\n",
              "<style scoped>\n",
              "    .dataframe tbody tr th:only-of-type {\n",
              "        vertical-align: middle;\n",
              "    }\n",
              "\n",
              "    .dataframe tbody tr th {\n",
              "        vertical-align: top;\n",
              "    }\n",
              "\n",
              "    .dataframe thead th {\n",
              "        text-align: right;\n",
              "    }\n",
              "</style>\n",
              "<table border=\"1\" class=\"dataframe\">\n",
              "  <thead>\n",
              "    <tr style=\"text-align: right;\">\n",
              "      <th></th>\n",
              "      <th>node_id</th>\n",
              "      <th>score</th>\n",
              "    </tr>\n",
              "  </thead>\n",
              "  <tbody>\n",
              "    <tr>\n",
              "      <th>0</th>\n",
              "      <td>7</td>\n",
              "      <td>0.269209</td>\n",
              "    </tr>\n",
              "    <tr>\n",
              "      <th>1</th>\n",
              "      <td>8</td>\n",
              "      <td>0.262543</td>\n",
              "    </tr>\n",
              "    <tr>\n",
              "      <th>2</th>\n",
              "      <td>10</td>\n",
              "      <td>0.260004</td>\n",
              "    </tr>\n",
              "    <tr>\n",
              "      <th>3</th>\n",
              "      <td>13</td>\n",
              "      <td>0.249306</td>\n",
              "    </tr>\n",
              "    <tr>\n",
              "      <th>4</th>\n",
              "      <td>11</td>\n",
              "      <td>0.242907</td>\n",
              "    </tr>\n",
              "  </tbody>\n",
              "</table>\n",
              "</div>\n",
              "      <button class=\"colab-df-convert\" onclick=\"convertToInteractive('df-04968442-4f5d-4727-836b-b6450e781402')\"\n",
              "              title=\"Convert this dataframe to an interactive table.\"\n",
              "              style=\"display:none;\">\n",
              "        \n",
              "  <svg xmlns=\"http://www.w3.org/2000/svg\" height=\"24px\"viewBox=\"0 0 24 24\"\n",
              "       width=\"24px\">\n",
              "    <path d=\"M0 0h24v24H0V0z\" fill=\"none\"/>\n",
              "    <path d=\"M18.56 5.44l.94 2.06.94-2.06 2.06-.94-2.06-.94-.94-2.06-.94 2.06-2.06.94zm-11 1L8.5 8.5l.94-2.06 2.06-.94-2.06-.94L8.5 2.5l-.94 2.06-2.06.94zm10 10l.94 2.06.94-2.06 2.06-.94-2.06-.94-.94-2.06-.94 2.06-2.06.94z\"/><path d=\"M17.41 7.96l-1.37-1.37c-.4-.4-.92-.59-1.43-.59-.52 0-1.04.2-1.43.59L10.3 9.45l-7.72 7.72c-.78.78-.78 2.05 0 2.83L4 21.41c.39.39.9.59 1.41.59.51 0 1.02-.2 1.41-.59l7.78-7.78 2.81-2.81c.8-.78.8-2.07 0-2.86zM5.41 20L4 18.59l7.72-7.72 1.47 1.35L5.41 20z\"/>\n",
              "  </svg>\n",
              "      </button>\n",
              "      \n",
              "  <style>\n",
              "    .colab-df-container {\n",
              "      display:flex;\n",
              "      flex-wrap:wrap;\n",
              "      gap: 12px;\n",
              "    }\n",
              "\n",
              "    .colab-df-convert {\n",
              "      background-color: #E8F0FE;\n",
              "      border: none;\n",
              "      border-radius: 50%;\n",
              "      cursor: pointer;\n",
              "      display: none;\n",
              "      fill: #1967D2;\n",
              "      height: 32px;\n",
              "      padding: 0 0 0 0;\n",
              "      width: 32px;\n",
              "    }\n",
              "\n",
              "    .colab-df-convert:hover {\n",
              "      background-color: #E2EBFA;\n",
              "      box-shadow: 0px 1px 2px rgba(60, 64, 67, 0.3), 0px 1px 3px 1px rgba(60, 64, 67, 0.15);\n",
              "      fill: #174EA6;\n",
              "    }\n",
              "\n",
              "    [theme=dark] .colab-df-convert {\n",
              "      background-color: #3B4455;\n",
              "      fill: #D2E3FC;\n",
              "    }\n",
              "\n",
              "    [theme=dark] .colab-df-convert:hover {\n",
              "      background-color: #434B5C;\n",
              "      box-shadow: 0px 1px 3px 1px rgba(0, 0, 0, 0.15);\n",
              "      filter: drop-shadow(0px 1px 2px rgba(0, 0, 0, 0.3));\n",
              "      fill: #FFFFFF;\n",
              "    }\n",
              "  </style>\n",
              "\n",
              "      <script>\n",
              "        const buttonEl =\n",
              "          document.querySelector('#df-04968442-4f5d-4727-836b-b6450e781402 button.colab-df-convert');\n",
              "        buttonEl.style.display =\n",
              "          google.colab.kernel.accessAllowed ? 'block' : 'none';\n",
              "\n",
              "        async function convertToInteractive(key) {\n",
              "          const element = document.querySelector('#df-04968442-4f5d-4727-836b-b6450e781402');\n",
              "          const dataTable =\n",
              "            await google.colab.kernel.invokeFunction('convertToInteractive',\n",
              "                                                     [key], {});\n",
              "          if (!dataTable) return;\n",
              "\n",
              "          const docLinkHtml = 'Like what you see? Visit the ' +\n",
              "            '<a target=\"_blank\" href=https://colab.research.google.com/notebooks/data_table.ipynb>data table notebook</a>'\n",
              "            + ' to learn more about interactive tables.';\n",
              "          element.innerHTML = '';\n",
              "          dataTable['output_type'] = 'display_data';\n",
              "          await google.colab.output.renderOutput(dataTable, element);\n",
              "          const docLink = document.createElement('div');\n",
              "          docLink.innerHTML = docLinkHtml;\n",
              "          element.appendChild(docLink);\n",
              "        }\n",
              "      </script>\n",
              "    </div>\n",
              "  </div>\n",
              "  "
            ]
          },
          "metadata": {}
        }
      ],
      "metadata": {
        "id": "9cwPJj639Tb3",
        "colab": {
          "base_uri": "https://localhost:8080/",
          "height": 431
        },
        "outputId": "c3e3bd12-3145-45f4-d14b-9ad58299270f"
      }
    },
    {
      "cell_type": "markdown",
      "source": [
        "-----\n",
        "### Step 3. Validate your HITS implementation\n",
        "\n",
        "Validate the implementation of HITS.\n",
        "Similarly to PageRank, check if the residuals of the iterative algorithm monotonically decrease, and compare between the exact and iterative solutions of HITS."
      ],
      "metadata": {
        "id": "I2oj20f69Tb5"
      }
    },
    {
      "cell_type": "markdown",
      "source": [
        "#### Step 3-1. Check if the residuals of the iterative algorithm monotonically decrease"
      ],
      "metadata": {
        "id": "ZLpjFLIw9Tb6"
      }
    },
    {
      "cell_type": "code",
      "execution_count": null,
      "source": [
        "%matplotlib inline\n",
        "import matplotlib.pyplot as plt\n",
        "plt.rcParams.update({'font.size': 13}) # set the font-size in the figure\n",
        "\n",
        "def plot_residuals(residuals, title):\n",
        "    plt.semilogy(residuals, marker='o', markersize=5)\n",
        "    plt.title(title)\n",
        "    plt.ylim(ymin=1e-10, ymax=1e1)\n",
        "    plt.ylabel('Residual')\n",
        "    plt.xlabel('# of iterations')\n",
        "    plt.grid(True)\n",
        "    plt.show()"
      ],
      "outputs": [],
      "metadata": {
        "collapsed": true,
        "id": "NGdq7R5n9Tb6"
      }
    },
    {
      "cell_type": "markdown",
      "source": [
        "Let's check the plot for the hub residuals first."
      ],
      "metadata": {
        "id": "gwTAm-YJ9Tb7"
      }
    },
    {
      "cell_type": "code",
      "execution_count": null,
      "source": [
        "hits = SparseHITS()\n",
        "hits.load_graph_dataset('/content/drive/MyDrive/data/small', is_undirected=False)\n",
        "h, a, h_residuals, a_residuals = hits.iterate_HITS(epsilon=1e-9, maxIters=100)\n",
        "\n",
        "plot_residuals(h_residuals, 'Change of Hub Residuals from HITS')"
      ],
      "outputs": [
        {
          "output_type": "display_data",
          "data": {
            "text/plain": [
              "<Figure size 640x480 with 1 Axes>"
            ],
            "image/png": "[encoded data removed]"
          },
          "metadata": {}
        }
      ],
      "metadata": {
        "id": "IgUaOfLE9Tb8",
        "outputId": "8b9ab8a0-014e-42c2-cbea-cb1f2efd67aa",
        "colab": {
          "base_uri": "https://localhost:8080/",
          "height": 482
        }
      }
    },
    {
      "cell_type": "markdown",
      "source": [
        "Next, the following will plot the authority residuals."
      ],
      "metadata": {
        "id": "MLnf5o4w9Tb-"
      }
    },
    {
      "cell_type": "code",
      "execution_count": null,
      "source": [
        "plot_residuals(a_residuals, 'Change of Authority Residuals from HITS')"
      ],
      "outputs": [
        {
          "output_type": "display_data",
          "data": {
            "text/plain": [
              "<Figure size 640x480 with 1 Axes>"
            ],
            "image/png": "[encoded data removed]"
          },
          "metadata": {}
        }
      ],
      "metadata": {
        "id": "YGEZgduT9Tb_",
        "outputId": "a513f333-b302-4cfe-d2ec-95b6c5c5d263",
        "colab": {
          "base_uri": "https://localhost:8080/",
          "height": 482
        }
      }
    },
    {
      "cell_type": "markdown",
      "source": [
        "As you can see, those residuals monotonically decrease as the number of iteration increases."
      ],
      "metadata": {
        "id": "LWQVWfkI9TcB"
      }
    },
    {
      "cell_type": "markdown",
      "source": [
        "#### Step 3-2. Check if the iterative solution is equal to the exact solution of HITS\n",
        "\n",
        "As explained in the lecture video, we can directly compute the hub ans authority score vectors of HITS as follows:\n",
        "* The hub score vector $\\mathbf{h}$ is the principle eigenvector of $\\mathbf{A}\\mathbf{A}^{\\top}$.\n",
        "* The authority score vector $\\mathbf{a}$ is the principle eigenvector of $\\mathbf{A}^{\\top}\\mathbf{A}$.\n",
        "\n",
        "The principle eigenvector of a matrix is an eigenvector of the largest eigenvalue.\n",
        "Suppose the Singular Value Decomposition (SVD) of the adjacency matrix is $\\mathbf{A}=\\mathbf{U}\\mathbf{S}\\mathbf{V}^{\\top}$. Then,\n",
        "* $\\mathbf{h}$ is the first (most left) vector of $\\mathbf{U}$.\n",
        "* $\\mathbf{a}$ is the first (most left) vector of $\\mathbf{V}$.\n",
        "\n",
        "We will not describe the detailed proofs for the above statements, but we can use them as the exact solutions for the hub and authority score vectors.\n",
        "\n",
        "We will implement the following function to compute the exact solutions.\n",
        "Note that since the adjacency matrix $\\mathbf{A}$ is a sparse matrix, we will use `svds` (sparse SVD) in `scipy`.\n",
        "* `svds`: this performs SVD on a sparse matrix\n",
        "    - https://docs.scipy.org/doc/scipy/reference/generated/scipy.sparse.linalg.svds.html"
      ],
      "metadata": {
        "id": "BwV3Eqpo9TcB"
      }
    },
    {
      "cell_type": "code",
      "execution_count": null,
      "source": [
        "from scipy.sparse.linalg import svds\n",
        "\n",
        "class SparseHITS(SparseHITS):\n",
        "    def compute_exact_HITS(self):\n",
        "        '''\n",
        "        Compute the exact hub & authority score vectors from the closed form\n",
        "\n",
        "        outputs:\n",
        "            h: np.ndarray (n x 1 vector)\n",
        "                the final hub score vector\n",
        "            a: np.ndarray (n x 1 vector)\n",
        "                the final authority score vector\n",
        "        '''\n",
        "        h, s, a = svds(self.A, k=1)\n",
        "\n",
        "        h = np.asarray(h).flatten()\n",
        "        a = np.asarray(a).flatten()\n",
        "\n",
        "        return h, a"
      ],
      "outputs": [],
      "metadata": {
        "collapsed": true,
        "id": "H8epiiIL9TcB"
      }
    },
    {
      "cell_type": "markdown",
      "source": [
        "Let's check the error between the exact and iterative solutions of HITS."
      ],
      "metadata": {
        "id": "ljQgRjJY9TcE"
      }
    },
    {
      "cell_type": "code",
      "execution_count": null,
      "source": [
        "hits = SparseHITS()\n",
        "hits.load_graph_dataset('/content/drive/MyDrive/data/small', is_undirected=False)\n",
        "h_exact, a_exact = hits.compute_exact_HITS()\n",
        "h_iter, a_iter, _, _ = hits.iterate_HITS(epsilon=1e-9, maxIters=100)\n",
        "\n",
        "h_error = np.linalg.norm(h_exact - h_iter, 1)\n",
        "print(\"Error between exact and iterative hub scores: {:e}\".format(h_error))\n",
        "\n",
        "a_error = np.linalg.norm(a_exact - a_iter, 1)\n",
        "print(\"Error between exact and iterative authority scores: {:e}\".format(a_error))"
      ],
      "outputs": [
        {
          "output_type": "stream",
          "name": "stdout",
          "text": [
            "Error between exact and iterative hub scores: 9.695925e+00\n",
            "Error between exact and iterative authority scores: 1.008930e+01\n"
          ]
        }
      ],
      "metadata": {
        "id": "V-cUdMDq9TcF",
        "outputId": "eddcff35-5282-4a53-985e-659e0d42b489",
        "colab": {
          "base_uri": "https://localhost:8080/"
        }
      }
    },
    {
      "cell_type": "markdown",
      "source": [
        "-----\n",
        "### Step 4. Qualitative analysis of the ranking result from HITS\n",
        "\n",
        "Now, we will do a qualitative analysis of the ranking result from HITS on a real-world graph.\n",
        "For this, we first use the following code which is already implemented through the previous sessions."
      ],
      "metadata": {
        "id": "mgPjpFSV9TcH"
      }
    },
    {
      "cell_type": "code",
      "execution_count": null,
      "source": [
        "class SparseHITS(SparseHITS):\n",
        "    def rank_nodes(self, ranking_scores, topk=-1):\n",
        "        '''\n",
        "        Rank nodes in the order of given ranking scores.\n",
        "        This function reports top-k rankings.\n",
        "\n",
        "        inputs:\n",
        "            ranking_scores: np.ndarray\n",
        "                ranking score vector\n",
        "            topk: int\n",
        "                top-k ranking parameter, default is -1 indicating report all ranks\n",
        "        '''\n",
        "        sorted_nodes = np.flipud(np.argsort(ranking_scores)) # argsort in the descending order\n",
        "        sorted_scores = ranking_scores[sorted_nodes]         # sort the ranking scores\n",
        "        ranks = range(1, self.n+1) # 0~n-1\n",
        "\n",
        "        result_labels = self.node_labels.iloc[sorted_nodes][0:topk]\n",
        "        result_labels.insert(0, \"rank\", ranks[0:topk])\n",
        "        result_labels[\"score\"] = sorted_scores[0:topk]\n",
        "        result_labels.reset_index(drop = True, inplace = True)\n",
        "        return result_labels"
      ],
      "outputs": [],
      "metadata": {
        "collapsed": true,
        "id": "qCkqBBFC9TcH"
      }
    },
    {
      "cell_type": "markdown",
      "source": [
        "The dataset used in this step is *enron* at `./data/enron` which has been used in Session 2.\n",
        "Please refer to Session 2 for the detailed description for the dataset.\n",
        "\n",
        "After loading the dataset, we will compute the hub and authority score vectors of HITS."
      ],
      "metadata": {
        "id": "xadOeMow9TcJ"
      }
    },
    {
      "cell_type": "code",
      "execution_count": null,
      "source": [
        "data_home = '/content/drive/MyDrive/data/enron'\n",
        "hits = SparseHITS()\n",
        "hits.load_graph_dataset(data_home, is_undirected=False)\n",
        "hits.load_node_labels(data_home)\n",
        "h, a, h_residuals, a_residuals = hits.iterate_HITS(epsilon=1e-9, maxIters=100)"
      ],
      "outputs": [],
      "metadata": {
        "collapsed": true,
        "id": "OD2vxHUh9TcJ"
      }
    },
    {
      "cell_type": "markdown",
      "source": [
        "Let's check the top-10 rankings based on the hub score vector in the network."
      ],
      "metadata": {
        "id": "rgY3Ozzt9TcL"
      }
    },
    {
      "cell_type": "code",
      "execution_count": null,
      "source": [
        "print(\"Top-10 rankings based on the hub score vector:\")\n",
        "display(hits.rank_nodes(h, topk=10))"
      ],
      "outputs": [
        {
          "output_type": "stream",
          "name": "stdout",
          "text": [
            "Top-10 rankings based on the hub score vector:\n"
          ]
        },
        {
          "output_type": "display_data",
          "data": {
            "text/plain": [
              "   rank  node_id                    address     score\n",
              "0     1      141       no.address@enron.com  0.464946\n",
              "1     2      371          40enron@enron.com  0.301402\n",
              "2     3      733       tana.jones@enron.com  0.155692\n",
              "3     4      671  sara.shackleton@enron.com  0.135909\n",
              "4     5      105      steven.kean@enron.com  0.124172\n",
              "5     6     1328    mark.haedicke@enron.com  0.114921\n",
              "6     7       90    jeff.dasovich@enron.com  0.110499\n",
              "7     8     1624      mark.taylor@enron.com  0.108638\n",
              "8     9        2    john.lavorato@enron.com  0.107663\n",
              "9    10      156   louise.kitchen@enron.com  0.105987"
            ],
            "text/html": [
              "\n",
              "  <div id=\"df-2931963c-b4fa-46f7-9abf-df231641a9c5\">\n",
              "    <div class=\"colab-df-container\">\n",
              "      <div>\n",
              "<style scoped>\n",
              "    .dataframe tbody tr th:only-of-type {\n",
              "        vertical-align: middle;\n",
              "    }\n",
              "\n",
              "    .dataframe tbody tr th {\n",
              "        vertical-align: top;\n",
              "    }\n",
              "\n",
              "    .dataframe thead th {\n",
              "        text-align: right;\n",
              "    }\n",
              "</style>\n",
              "<table border=\"1\" class=\"dataframe\">\n",
              "  <thead>\n",
              "    <tr style=\"text-align: right;\">\n",
              "      <th></th>\n",
              "      <th>rank</th>\n",
              "      <th>node_id</th>\n",
              "      <th>address</th>\n",
              "      <th>score</th>\n",
              "    </tr>\n",
              "  </thead>\n",
              "  <tbody>\n",
              "    <tr>\n",
              "      <th>0</th>\n",
              "      <td>1</td>\n",
              "      <td>141</td>\n",
              "      <td>no.address@enron.com</td>\n",
              "      <td>0.464946</td>\n",
              "    </tr>\n",
              "    <tr>\n",
              "      <th>1</th>\n",
              "      <td>2</td>\n",
              "      <td>371</td>\n",
              "      <td>40enron@enron.com</td>\n",
              "      <td>0.301402</td>\n",
              "    </tr>\n",
              "    <tr>\n",
              "      <th>2</th>\n",
              "      <td>3</td>\n",
              "      <td>733</td>\n",
              "      <td>tana.jones@enron.com</td>\n",
              "      <td>0.155692</td>\n",
              "    </tr>\n",
              "    <tr>\n",
              "      <th>3</th>\n",
              "      <td>4</td>\n",
              "      <td>671</td>\n",
              "      <td>sara.shackleton@enron.com</td>\n",
              "      <td>0.135909</td>\n",
              "    </tr>\n",
              "    <tr>\n",
              "      <th>4</th>\n",
              "      <td>5</td>\n",
              "      <td>105</td>\n",
              "      <td>steven.kean@enron.com</td>\n",
              "      <td>0.124172</td>\n",
              "    </tr>\n",
              "    <tr>\n",
              "      <th>5</th>\n",
              "      <td>6</td>\n",
              "      <td>1328</td>\n",
              "      <td>mark.haedicke@enron.com</td>\n",
              "      <td>0.114921</td>\n",
              "    </tr>\n",
              "    <tr>\n",
              "      <th>6</th>\n",
              "      <td>7</td>\n",
              "      <td>90</td>\n",
              "      <td>jeff.dasovich@enron.com</td>\n",
              "      <td>0.110499</td>\n",
              "    </tr>\n",
              "    <tr>\n",
              "      <th>7</th>\n",
              "      <td>8</td>\n",
              "      <td>1624</td>\n",
              "      <td>mark.taylor@enron.com</td>\n",
              "      <td>0.108638</td>\n",
              "    </tr>\n",
              "    <tr>\n",
              "      <th>8</th>\n",
              "      <td>9</td>\n",
              "      <td>2</td>\n",
              "      <td>john.lavorato@enron.com</td>\n",
              "      <td>0.107663</td>\n",
              "    </tr>\n",
              "    <tr>\n",
              "      <th>9</th>\n",
              "      <td>10</td>\n",
              "      <td>156</td>\n",
              "      <td>louise.kitchen@enron.com</td>\n",
              "      <td>0.105987</td>\n",
              "    </tr>\n",
              "  </tbody>\n",
              "</table>\n",
              "</div>\n",
              "      <button class=\"colab-df-convert\" onclick=\"convertToInteractive('df-2931963c-b4fa-46f7-9abf-df231641a9c5')\"\n",
              "              title=\"Convert this dataframe to an interactive table.\"\n",
              "              style=\"display:none;\">\n",
              "        \n",
              "  <svg xmlns=\"http://www.w3.org/2000/svg\" height=\"24px\"viewBox=\"0 0 24 24\"\n",
              "       width=\"24px\">\n",
              "    <path d=\"M0 0h24v24H0V0z\" fill=\"none\"/>\n",
              "    <path d=\"M18.56 5.44l.94 2.06.94-2.06 2.06-.94-2.06-.94-.94-2.06-.94 2.06-2.06.94zm-11 1L8.5 8.5l.94-2.06 2.06-.94-2.06-.94L8.5 2.5l-.94 2.06-2.06.94zm10 10l.94 2.06.94-2.06 2.06-.94-2.06-.94-.94-2.06-.94 2.06-2.06.94z\"/><path d=\"M17.41 7.96l-1.37-1.37c-.4-.4-.92-.59-1.43-.59-.52 0-1.04.2-1.43.59L10.3 9.45l-7.72 7.72c-.78.78-.78 2.05 0 2.83L4 21.41c.39.39.9.59 1.41.59.51 0 1.02-.2 1.41-.59l7.78-7.78 2.81-2.81c.8-.78.8-2.07 0-2.86zM5.41 20L4 18.59l7.72-7.72 1.47 1.35L5.41 20z\"/>\n",
              "  </svg>\n",
              "      </button>\n",
              "      \n",
              "  <style>\n",
              "    .colab-df-container {\n",
              "      display:flex;\n",
              "      flex-wrap:wrap;\n",
              "      gap: 12px;\n",
              "    }\n",
              "\n",
              "    .colab-df-convert {\n",
              "      background-color: #E8F0FE;\n",
              "      border: none;\n",
              "      border-radius: 50%;\n",
              "      cursor: pointer;\n",
              "      display: none;\n",
              "      fill: #1967D2;\n",
              "      height: 32px;\n",
              "      padding: 0 0 0 0;\n",
              "      width: 32px;\n",
              "    }\n",
              "\n",
              "    .colab-df-convert:hover {\n",
              "      background-color: #E2EBFA;\n",
              "      box-shadow: 0px 1px 2px rgba(60, 64, 67, 0.3), 0px 1px 3px 1px rgba(60, 64, 67, 0.15);\n",
              "      fill: #174EA6;\n",
              "    }\n",
              "\n",
              "    [theme=dark] .colab-df-convert {\n",
              "      background-color: #3B4455;\n",
              "      fill: #D2E3FC;\n",
              "    }\n",
              "\n",
              "    [theme=dark] .colab-df-convert:hover {\n",
              "      background-color: #434B5C;\n",
              "      box-shadow: 0px 1px 3px 1px rgba(0, 0, 0, 0.15);\n",
              "      filter: drop-shadow(0px 1px 2px rgba(0, 0, 0, 0.3));\n",
              "      fill: #FFFFFF;\n",
              "    }\n",
              "  </style>\n",
              "\n",
              "      <script>\n",
              "        const buttonEl =\n",
              "          document.querySelector('#df-2931963c-b4fa-46f7-9abf-df231641a9c5 button.colab-df-convert');\n",
              "        buttonEl.style.display =\n",
              "          google.colab.kernel.accessAllowed ? 'block' : 'none';\n",
              "\n",
              "        async function convertToInteractive(key) {\n",
              "          const element = document.querySelector('#df-2931963c-b4fa-46f7-9abf-df231641a9c5');\n",
              "          const dataTable =\n",
              "            await google.colab.kernel.invokeFunction('convertToInteractive',\n",
              "                                                     [key], {});\n",
              "          if (!dataTable) return;\n",
              "\n",
              "          const docLinkHtml = 'Like what you see? Visit the ' +\n",
              "            '<a target=\"_blank\" href=https://colab.research.google.com/notebooks/data_table.ipynb>data table notebook</a>'\n",
              "            + ' to learn more about interactive tables.';\n",
              "          element.innerHTML = '';\n",
              "          dataTable['output_type'] = 'display_data';\n",
              "          await google.colab.output.renderOutput(dataTable, element);\n",
              "          const docLink = document.createElement('div');\n",
              "          docLink.innerHTML = docLinkHtml;\n",
              "          element.appendChild(docLink);\n",
              "        }\n",
              "      </script>\n",
              "    </div>\n",
              "  </div>\n",
              "  "
            ]
          },
          "metadata": {}
        }
      ],
      "metadata": {
        "id": "c9vZSs029TcL",
        "outputId": "4cb3c9ef-4aea-4d63-e8d0-e8833c37cce0",
        "colab": {
          "base_uri": "https://localhost:8080/",
          "height": 381
        }
      }
    },
    {
      "cell_type": "markdown",
      "source": [
        "Let's check the top-10 rankings based on the authority score vector in the network."
      ],
      "metadata": {
        "id": "U_CiDKBM9TcN"
      }
    },
    {
      "cell_type": "code",
      "execution_count": null,
      "source": [
        "print(\"Top-10 rankings based on the authority score vector:\")\n",
        "display(hits.rank_nodes(a, topk=10))"
      ],
      "outputs": [
        {
          "output_type": "stream",
          "name": "stdout",
          "text": [
            "Top-10 rankings based on the authority score vector:\n"
          ]
        },
        {
          "output_type": "display_data",
          "data": {
            "text/plain": [
              "   rank  node_id                    address     score\n",
              "0     1      156   louise.kitchen@enron.com  0.196387\n",
              "1     2        2    john.lavorato@enron.com  0.149168\n",
              "2     3      228     greg.whalley@enron.com  0.137076\n",
              "3     4       97       sally.beck@enron.com  0.126122\n",
              "4     5      733       tana.jones@enron.com  0.125953\n",
              "5     6        1       tim.belden@enron.com  0.120326\n",
              "6     7     1624      mark.taylor@enron.com  0.119657\n",
              "7     8     1136  elizabeth.sager@enron.com  0.108948\n",
              "8     9      671  sara.shackleton@enron.com  0.108918\n",
              "9    10      136  richard.shapiro@enron.com  0.103350"
            ],
            "text/html": [
              "\n",
              "  <div id=\"df-5225eb76-ebd2-4593-8104-542dced77699\">\n",
              "    <div class=\"colab-df-container\">\n",
              "      <div>\n",
              "<style scoped>\n",
              "    .dataframe tbody tr th:only-of-type {\n",
              "        vertical-align: middle;\n",
              "    }\n",
              "\n",
              "    .dataframe tbody tr th {\n",
              "        vertical-align: top;\n",
              "    }\n",
              "\n",
              "    .dataframe thead th {\n",
              "        text-align: right;\n",
              "    }\n",
              "</style>\n",
              "<table border=\"1\" class=\"dataframe\">\n",
              "  <thead>\n",
              "    <tr style=\"text-align: right;\">\n",
              "      <th></th>\n",
              "      <th>rank</th>\n",
              "      <th>node_id</th>\n",
              "      <th>address</th>\n",
              "      <th>score</th>\n",
              "    </tr>\n",
              "  </thead>\n",
              "  <tbody>\n",
              "    <tr>\n",
              "      <th>0</th>\n",
              "      <td>1</td>\n",
              "      <td>156</td>\n",
              "      <td>louise.kitchen@enron.com</td>\n",
              "      <td>0.196387</td>\n",
              "    </tr>\n",
              "    <tr>\n",
              "      <th>1</th>\n",
              "      <td>2</td>\n",
              "      <td>2</td>\n",
              "      <td>john.lavorato@enron.com</td>\n",
              "      <td>0.149168</td>\n",
              "    </tr>\n",
              "    <tr>\n",
              "      <th>2</th>\n",
              "      <td>3</td>\n",
              "      <td>228</td>\n",
              "      <td>greg.whalley@enron.com</td>\n",
              "      <td>0.137076</td>\n",
              "    </tr>\n",
              "    <tr>\n",
              "      <th>3</th>\n",
              "      <td>4</td>\n",
              "      <td>97</td>\n",
              "      <td>sally.beck@enron.com</td>\n",
              "      <td>0.126122</td>\n",
              "    </tr>\n",
              "    <tr>\n",
              "      <th>4</th>\n",
              "      <td>5</td>\n",
              "      <td>733</td>\n",
              "      <td>tana.jones@enron.com</td>\n",
              "      <td>0.125953</td>\n",
              "    </tr>\n",
              "    <tr>\n",
              "      <th>5</th>\n",
              "      <td>6</td>\n",
              "      <td>1</td>\n",
              "      <td>tim.belden@enron.com</td>\n",
              "      <td>0.120326</td>\n",
              "    </tr>\n",
              "    <tr>\n",
              "      <th>6</th>\n",
              "      <td>7</td>\n",
              "      <td>1624</td>\n",
              "      <td>mark.taylor@enron.com</td>\n",
              "      <td>0.119657</td>\n",
              "    </tr>\n",
              "    <tr>\n",
              "      <th>7</th>\n",
              "      <td>8</td>\n",
              "      <td>1136</td>\n",
              "      <td>elizabeth.sager@enron.com</td>\n",
              "      <td>0.108948</td>\n",
              "    </tr>\n",
              "    <tr>\n",
              "      <th>8</th>\n",
              "      <td>9</td>\n",
              "      <td>671</td>\n",
              "      <td>sara.shackleton@enron.com</td>\n",
              "      <td>0.108918</td>\n",
              "    </tr>\n",
              "    <tr>\n",
              "      <th>9</th>\n",
              "      <td>10</td>\n",
              "      <td>136</td>\n",
              "      <td>richard.shapiro@enron.com</td>\n",
              "      <td>0.103350</td>\n",
              "    </tr>\n",
              "  </tbody>\n",
              "</table>\n",
              "</div>\n",
              "      <button class=\"colab-df-convert\" onclick=\"convertToInteractive('df-5225eb76-ebd2-4593-8104-542dced77699')\"\n",
              "              title=\"Convert this dataframe to an interactive table.\"\n",
              "              style=\"display:none;\">\n",
              "        \n",
              "  <svg xmlns=\"http://www.w3.org/2000/svg\" height=\"24px\"viewBox=\"0 0 24 24\"\n",
              "       width=\"24px\">\n",
              "    <path d=\"M0 0h24v24H0V0z\" fill=\"none\"/>\n",
              "    <path d=\"M18.56 5.44l.94 2.06.94-2.06 2.06-.94-2.06-.94-.94-2.06-.94 2.06-2.06.94zm-11 1L8.5 8.5l.94-2.06 2.06-.94-2.06-.94L8.5 2.5l-.94 2.06-2.06.94zm10 10l.94 2.06.94-2.06 2.06-.94-2.06-.94-.94-2.06-.94 2.06-2.06.94z\"/><path d=\"M17.41 7.96l-1.37-1.37c-.4-.4-.92-.59-1.43-.59-.52 0-1.04.2-1.43.59L10.3 9.45l-7.72 7.72c-.78.78-.78 2.05 0 2.83L4 21.41c.39.39.9.59 1.41.59.51 0 1.02-.2 1.41-.59l7.78-7.78 2.81-2.81c.8-.78.8-2.07 0-2.86zM5.41 20L4 18.59l7.72-7.72 1.47 1.35L5.41 20z\"/>\n",
              "  </svg>\n",
              "      </button>\n",
              "      \n",
              "  <style>\n",
              "    .colab-df-container {\n",
              "      display:flex;\n",
              "      flex-wrap:wrap;\n",
              "      gap: 12px;\n",
              "    }\n",
              "\n",
              "    .colab-df-convert {\n",
              "      background-color: #E8F0FE;\n",
              "      border: none;\n",
              "      border-radius: 50%;\n",
              "      cursor: pointer;\n",
              "      display: none;\n",
              "      fill: #1967D2;\n",
              "      height: 32px;\n",
              "      padding: 0 0 0 0;\n",
              "      width: 32px;\n",
              "    }\n",
              "\n",
              "    .colab-df-convert:hover {\n",
              "      background-color: #E2EBFA;\n",
              "      box-shadow: 0px 1px 2px rgba(60, 64, 67, 0.3), 0px 1px 3px 1px rgba(60, 64, 67, 0.15);\n",
              "      fill: #174EA6;\n",
              "    }\n",
              "\n",
              "    [theme=dark] .colab-df-convert {\n",
              "      background-color: #3B4455;\n",
              "      fill: #D2E3FC;\n",
              "    }\n",
              "\n",
              "    [theme=dark] .colab-df-convert:hover {\n",
              "      background-color: #434B5C;\n",
              "      box-shadow: 0px 1px 3px 1px rgba(0, 0, 0, 0.15);\n",
              "      filter: drop-shadow(0px 1px 2px rgba(0, 0, 0, 0.3));\n",
              "      fill: #FFFFFF;\n",
              "    }\n",
              "  </style>\n",
              "\n",
              "      <script>\n",
              "        const buttonEl =\n",
              "          document.querySelector('#df-5225eb76-ebd2-4593-8104-542dced77699 button.colab-df-convert');\n",
              "        buttonEl.style.display =\n",
              "          google.colab.kernel.accessAllowed ? 'block' : 'none';\n",
              "\n",
              "        async function convertToInteractive(key) {\n",
              "          const element = document.querySelector('#df-5225eb76-ebd2-4593-8104-542dced77699');\n",
              "          const dataTable =\n",
              "            await google.colab.kernel.invokeFunction('convertToInteractive',\n",
              "                                                     [key], {});\n",
              "          if (!dataTable) return;\n",
              "\n",
              "          const docLinkHtml = 'Like what you see? Visit the ' +\n",
              "            '<a target=\"_blank\" href=https://colab.research.google.com/notebooks/data_table.ipynb>data table notebook</a>'\n",
              "            + ' to learn more about interactive tables.';\n",
              "          element.innerHTML = '';\n",
              "          dataTable['output_type'] = 'display_data';\n",
              "          await google.colab.output.renderOutput(dataTable, element);\n",
              "          const docLink = document.createElement('div');\n",
              "          docLink.innerHTML = docLinkHtml;\n",
              "          element.appendChild(docLink);\n",
              "        }\n",
              "      </script>\n",
              "    </div>\n",
              "  </div>\n",
              "  "
            ]
          },
          "metadata": {}
        }
      ],
      "metadata": {
        "id": "nFfQYm3E9TcN",
        "outputId": "368b0531-f1ca-4745-aa43-7eca6d20c153",
        "colab": {
          "base_uri": "https://localhost:8080/",
          "height": 381
        }
      }
    },
    {
      "cell_type": "markdown",
      "source": [
        "-----\n",
        "## Homework. Summary\n",
        "\n",
        "In this homework, you implemented HITS algorithm (the sparse matrix version) in Python.\n",
        "More specifically, you are able to answer the following goals now.\n",
        "\n",
        "* **Goal 1.** How to implement HITS based on sparse matrices using `numpy` and `scipy` in Python\n",
        "    - You implemented the iterative algorithm for HITS based on sparse matrices.\n",
        "* **Goal 2.** To perform a qualitative analysis of the ranking result from HITS in real-world networks\n",
        "    - You performed a qualitative analysis on the `enron` dataset which is a real-world network."
      ],
      "metadata": {
        "id": "Ls1yHtBx9TcP"
      }
    }
  ],
  "metadata": {
    "colab": {
      "provenance": []
    },
    "kernelspec": {
      "name": "python3",
      "display_name": "Python 3.9.11 64-bit"
    },
    "language_info": {
      "codemirror_mode": {
        "name": "ipython",
        "version": 3
      },
      "file_extension": ".py",
      "mimetype": "text/x-python",
      "name": "python",
      "nbconvert_exporter": "python",
      "pygments_lexer": "ipython3",
      "version": "3.9.11"
    },
    "interpreter": {
      "hash": "5c8a46471b4787ca2eb59fae70df0f0bf36ba0bbd4d41f35b955e37c9ac4b07c"
    }
  },
  "nbformat": 4,
  "nbformat_minor": 0
}