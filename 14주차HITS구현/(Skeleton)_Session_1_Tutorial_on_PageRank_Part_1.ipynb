{
  "cells": [
    {
      "cell_type": "markdown",
      "source": [
        "# IAB - Hands-on Tutorial for Link Analysis\n",
        "\n",
        "Welcome to IAB - hands-on tutorial for link analysis.\n",
        "In this tutorial, we will study several techniques for link analysis in graphs.\n",
        "This tutorial consists of three sessions and one homework, and each of them will handle the following topic:\n",
        "\n",
        "* <span style=\"color:blue\">**Session 1**. Tutorial on PageRank - Part 1 (60 mins)</span>\n",
        "* **Session 2**. Tutorial on PageRank - Part 2 (60 mins)\n",
        "* **Session 3**. Tutorial on Topic-specific PageRank (120 mins)\n",
        "* **Homework**. Implementation of HITS\n",
        "\n",
        "We recommend fully understanding the lecture videos related to link analysis (or ranking) models such as PageRank, Topic-specific PageRank, and HITS before entering this tutorial since we will not explain the theoretical backgrounds on these techniques during the tutorial.\n",
        "We will mainly focus on how to implement the algorithms of those models and how to rank nodes in real-world graphs using those ranking models.\n",
        "\n",
        "The main contributors of this material are as follows:\n",
        "* *Jihyeong Jeon* (jeonjihyeong@gmail.com)\n",
        "* *Jaeri Lee* (jlunits2@gmail.com)\n",
        "* *Jong-eun Lee* (kjayjay40@gmail.com)\n",
        "* *U Kang* (ukang@snu.ac.kr)\n",
        "------"
      ],
      "metadata": {
        "id": "yfhPBZk_ovGH"
      }
    },
    {
      "cell_type": "markdown",
      "source": [
        "------\n",
        "## Session 1. Tutorial on PageRank - Part 1 (60 mins)\n",
        "In this session, we will explore how to implement PageRank in Python.\n",
        "The main goals of this session are summarized as follows:\n",
        "* **Goal 1.** How to implement PageRank based on dense matrices using `numpy` in Python\n",
        "* **Goal 2.** How to verify your PageRank implementation\n",
        "* **Goal 3.** To understand the problem of the dense matrix version\n",
        "\n",
        "The outline of this session is as follows:\n",
        "* **Step 1.** Review PageRank\n",
        "* **Step 2.** Set up requirements for this tutorial\n",
        "* **Step 3.** Implement PageRank - the dense matrix version\n",
        "* **Step 4.** Validate your PageRank implementation\n",
        "* **Step 5.** What is the problem of the dense matrix version?\n",
        "\n",
        "------"
      ],
      "metadata": {
        "id": "cNOesbROovGJ"
      }
    },
    {
      "cell_type": "markdown",
      "source": [
        "### Step 1. Review PageRank\n",
        "We will briefly review PageRank and its equation which are required for the implementation of PageRank in Python.\n",
        "Note that we will not touch the details on PageRank (e.g., how to derive PageRank equation); if you want to know the details, please see the corresponding lecture video.\n",
        "\n",
        "Before going further, let's check several conventions on mathematical notations used in this tutorial.\n",
        "* **Scalar**: lower case & regular face\n",
        "    - $\\alpha$, $\\beta$, and $\\gamma$\n",
        "* **Set**: upper case & regular face\n",
        "    - $A$, $B$, and $C$\n",
        "* **Vector** and **matrix**: smaller case for vectors & upper case for matrices & bold face\n",
        "    - $\\mathbf{x}$, $\\mathbf{A}$, and $\\mathbf{S}$\n",
        "    - $x_{i}$ is $i$-th element of vector $\\mathbf{x}$\n",
        "    - $A_{ij}$ is $(i, j)$-th element of matrix $\\mathbf{A}$\n",
        "* **Number domain**: blackboard bold\n",
        "    - $\\mathbb{R}$: set of real numbers\n",
        "    - $\\mathbb{R}^{n}$: $n$-dimensional space in real numbers\n",
        "        - set of $n$-dimensional vectors, i.e., $\\mathbf{x} \\in \\mathbb{R}^{n}$\n",
        "    - $\\mathbb{R}^{n \\times m}$: $n \\times m$-dimensional space in real numbers\n",
        "        - set of $n \\times m$ real number matrices, i.e., $\\mathbf{A}\\in \\mathbb{R}^{n \\times m}$"
      ],
      "metadata": {
        "id": "R37j7xm2ovGK"
      }
    },
    {
      "cell_type": "markdown",
      "source": [
        "#### Step 1-1. Mathematical definitions of PageRank\n",
        "Now, let's look into the problem definition of PageRank to be implemented through this tutorial.\n",
        "##### Problem definition of PageRank\n",
        "* **Input**: adjacency matrix $\\mathbf{A} \\in \\mathbb{R}^{n \\times n}$ of a graph $G=(V,E)$, and teleport probability $\\beta$\n",
        "    - $V$ is the set of nodes\n",
        "    - $E$ is the set of edges\n",
        "    - $n$ is the number of nodes in the graph $G$, i.e., $n=|V|$\n",
        "    - $m$ is the number of edges in the graph $G$, i.e., $m=|E|$\n",
        "* **Output**: the PageRank score vector $\\mathbf{p} \\in \\mathbb{R}^{n}$ such that\n",
        "\n",
        "$$\\mathbf{p} = (1-\\beta)\\mathbf{\\tilde{A}}^{\\top}\\mathbf{p} + \\beta\\mathbf{q}$$\n",
        "\n",
        "- The above equation is called *PageRank equation*. The notations used in the PageRank equation are described below:\n",
        "    - $\\mathbf{\\tilde{A}}$ is the row-normalized adjacency matrix of the graph $G$, i.e., the sum of each row of $\\mathbf{\\tilde{A}}$ should be $1$\n",
        "    - $\\mathbf{q}=\\left[\\frac{1}{n}\\right]_{n}$ is $n$-dimensional vector whose entry is $1/n$. It is usually called a *query vector*.\n",
        "    - The PageRank score of node $u$ is denoted by $p_u$ indicating the importance of node $u$ in the graph $G.$\n",
        "\n",
        "*CAUTION*: Note that the notations used in the problem definition are slightly different from those in the lecture slide.\n",
        "Especially, we need to be careful to use the notation of the adjacency matrix.\n",
        "The detailed difference is as follows:\n",
        "* The slide version: the adjacency matrix (here, it is equivalent to $\\mathbf{A}^{\\top}$) is destination-to-source, i.e., if there is an edge $u \\rightarrow v$, then $A_{vu}^{\\top} = 1$.\n",
        "* The tutorial version: the adjacency matrix $\\mathbf{A}$ is source-to-destination, i.e., if there is an edge $u \\rightarrow v$, then $A_{uv}=1$."
      ],
      "metadata": {
        "id": "YnKnAGKQovGL"
      }
    },
    {
      "cell_type": "markdown",
      "source": [
        "The definitions of adjacency matrix $\\mathbf{A}$ and row-normalized adjacency matrix $\\mathbf{\\tilde{A}}$ are described in the following definitions, respectively.\n",
        "\n",
        "##### Definition of adjacency matrix $\\mathbf{A}$\n",
        "For each edge $u \\rightarrow v$ in $E$, $A_{uv}=1$. Otherwise, $A_{uv}=0$ (i.e., if there is no edge between two nodes, the value of the adjacency matrix is zero).\n",
        "\n",
        "##### Definition of row-normalized adjacency matrix $\\mathbf{\\tilde{A}}$\n",
        "For each edge $u \\rightarrow v$ in $E$, $\\tilde{A}_{uv}=\\frac{1}{|O_{u}|}$ where $O_{u}$ is the set of out-neighbors of node $u$.\n",
        "Let $\\mathbf{D}$ be a diagonal matrix where $u$-th diagonal entry is $|O_{u}|$ (i.e., the out-degree of node $u$).\n",
        "Then, the row-normalized adjacency matrix $\\mathbf{\\tilde{A}}$ is easily obtained by the following equation:\n",
        "\n",
        "$$\\mathbf{\\tilde{A}} = \\mathbf{D}^{-1}\\mathbf{A}$$\n",
        "\n",
        "where $\\mathbf{D}^{-1}$ is the inverse of $\\mathbf{D}$ (i.e., $u$-th diagonal entry of $\\mathbf{D}^{-1}$ is $\\frac{1}{|O_{u}|}$)."
      ],
      "metadata": {
        "id": "WAXZBH5xovGM"
      }
    },
    {
      "cell_type": "markdown",
      "source": [
        "#### Step 1-2. Iterative Algorithm for PageRank\n",
        "\n",
        "As described in the lecture video, the PageRank score vector $\\mathbf{p}$ is obtained by iteratively computing the PageRank equation.\n",
        "The following pseudo-code represents the iterative algorithm for PageRank.\n",
        "\n",
        "<img src=\"./images/iterative-algorithm-pagerank.png\" width=\"400\">\n",
        "\n",
        "We will implement the iterative algorithm in Python."
      ],
      "metadata": {
        "id": "tqb3iwAsovGN"
      }
    },
    {
      "cell_type": "markdown",
      "source": [
        "------\n",
        "### Step 2. Set up requirements for this tutorial\n",
        "\n",
        "Before going further, we need to check if several Python packages are installed.\n",
        "We will use `numpy`, `matplotlib`, and `pandas` in this session.\n",
        "Let's check the installation.\n",
        "If you encounter error messages, please install required packages.\n",
        "Otherwise, you can move to the next step.\n"
      ],
      "metadata": {
        "id": "aTVeb5V6ovGO"
      }
    },
    {
      "cell_type": "code",
      "execution_count": null,
      "source": [
        "try:\n",
        "    import numpy\n",
        "except ImportError:\n",
        "    print(\"numpy is not installed, type pip install numpy\")\n",
        "\n",
        "try:\n",
        "    import matplotlib\n",
        "except ImportError:\n",
        "    print(\"matplotlib is not installed, type pip install matplotlib\")\n",
        "\n",
        "try:\n",
        "    import pandas\n",
        "except ImportError:\n",
        "    print(\"pandas is not installed, type pip install pandas\")\n",
        "\n",
        "try:\n",
        "    from IPython.display import display\n",
        "except ImportError:\n",
        "    print(\"ipython is not installed, type pip install ipython\")"
      ],
      "outputs": [],
      "metadata": {
        "collapsed": true,
        "id": "PswMDD8BovGO"
      }
    },
    {
      "cell_type": "markdown",
      "source": [
        "------\n",
        "### Step 3. Implement PageRank - the dense matrix version\n",
        "\n",
        "In this step, we will implement the iterative algorithm for PageRank using dense matrices provided by *numpy* in Python.\n",
        "\n",
        "Note that we will test the dense version implementation using a small graph since it has a scalability issue, which will be discussed in Step 5 (and, we will resolve this issue in the next session)."
      ],
      "metadata": {
        "id": "4ojI9t0HovGR"
      }
    },
    {
      "cell_type": "markdown",
      "source": [
        "####  Description of a dataset used in this step\n",
        "\n",
        "We describe a small graph dataset used in this step.\n",
        "The name of the dataset is *SeventhGraders* which is a social network describing connections between students.\n",
        "More specifically, this directed network contains friendships between students from 29 seventh grade students from a school in Victoria.\n",
        "A node represents a student.\n",
        "An edge between two nodes shows that the left student picked the right student as his friend (e.g., $u \\rightarrow v$ indicates $u$ considers $v$ as his friend).\n",
        "The statistics of the dataset is as follows:\n",
        "\n",
        "| Statistic | Value |\n",
        "| --- | --- |\n",
        "| $n$: the number of nodes | 29 |\n",
        "| $m$: the number of edges | 376|\n",
        "| the number of female students | 17 |\n",
        "| the number of male students | 12 |\n",
        "\n",
        "The dataset is located at `./data/small` contatining `edges.tsv` and `node_labels.tsv`.\n",
        "\n",
        "* `edges.tsv`: This file contains the list of (directed) edges with the following format:\n",
        "> `source_node \\t target_node \\t weight`\n",
        "\n",
        "The node index starts from `0`. The following is the top-5 head lines of the file.\n",
        "```\n",
        "0        1        1\n",
        "0        2        1\n",
        "0        3        1\n",
        "0        4        1\n",
        "0        5        1\n",
        "...\n",
        "```\n",
        "* `node_labels.tsv`: This file contains the list of node labels with the following format:\n",
        "> `node \\t label`\n",
        "\n",
        "Each label indicates the node's gender and (anonymous) name. The following is the top-5 head lines of the file.\n",
        "```\n",
        "0        male_noah\n",
        "1        male_liam\n",
        "2        male_william\n",
        "3        male_benjamin\n",
        "4        male_jacob\n",
        "...\n",
        "```"
      ],
      "metadata": {
        "id": "IoGi-6jnovGS"
      }
    },
    {
      "cell_type": "markdown",
      "source": [
        "#### Step 3-1. Implement the phase for loading the graph dataset\n",
        "Your first job is to implement `load_graph_dataset` and `load_node_labels` functions to load the datasets `edges.tsv` and `node_labels.tsv`, respectively.\n",
        "These functions are given the directory path for the dataset (i.e., `./data/small`), and load the adjacency matrix $\\mathbf{A}$ and the list of node labels of the graph, respectively.\n",
        "\n",
        "For that, we first import several required Python packages as follows:"
      ],
      "metadata": {
        "id": "xitSYI-uovGT"
      }
    },
    {
      "cell_type": "code",
      "execution_count": null,
      "source": [
        "# the below commands restrict the number of computation threads to 1\n",
        "import os\n",
        "os.environ[\"MKL_NUM_THREADS\"] = \"1\"\n",
        "os.environ[\"NUMEXPR_NUM_THREADS\"] = \"1\"\n",
        "os.environ[\"OMP_NUM_THREADS\"] = \"1\"\n",
        "\n",
        "import numpy as np\n",
        "import pandas as pd"
      ],
      "outputs": [],
      "metadata": {
        "collapsed": true,
        "id": "hVDYoCQlovGT"
      }
    },
    {
      "cell_type": "markdown",
      "source": [
        "We briefly introduce several APIs in `numpy` used when implementing the below function which constructs the adjacency matrix of a graph.\n",
        "* `loadtxt`: this loads data from a text file\n",
        "    - https://docs.scipy.org/doc/numpy/reference/generated/numpy.loadtxt.html\n",
        "* `amax`: this returns the maximum of an array\n",
        "    - https://docs.scipy.org/doc/numpy/reference/generated/numpy.amax.html\n",
        "* `shape`: this returns the dimension of an array (or matrix)\n",
        "    - `A.shape` will return `(m, n)` where m is # of rows, and n is # of columns\n",
        "    - https://docs.scipy.org/doc/numpy/reference/generated/numpy.ndarray.shape.html\n",
        "* `count_nonzero`: this returns the number of non-zeros of a matrix\n",
        "    - https://docs.scipy.org/doc/numpy/reference/generated/numpy.count_nonzero.html\n",
        "* slice: `edges[:, 0:2]` will return the first and second columns of `edges` matrix."
      ],
      "metadata": {
        "id": "CLI7ddj2ovGW"
      }
    },
    {
      "cell_type": "code",
      "execution_count": null,
      "source": [
        "class DensePageRank:\n",
        "    def load_graph_dataset(self, data_home, is_undirected=False):\n",
        "        '''\n",
        "        Load the graph dataset from the given directory (data_home)\n",
        "\n",
        "        inputs:\n",
        "            data_home: string\n",
        "                directory path conatining a dataset\n",
        "            is_undirected: bool\n",
        "                if the graph is undirected\n",
        "        '''\n",
        "        # Step 1. set file paths from data_home\n",
        "        edge_path = \"{}/edges.tsv\".format(data_home)\n",
        "\n",
        "        # Step 2. read the list of edges from edge_path\n",
        "        edges = np.loadtxt(edge_path, dtype=int)\n",
        "        n = int(np.amax(edges[:, 0:2])) + 1 # the current n is the maximum node id (starting from 0)\n",
        "\n",
        "        # Step 3. convert the edge list to the adjacency matrix\n",
        "        self.A = np.zeros((n, n))\n",
        "        for i in range(edges.shape[0]):\n",
        "            source, target, weight = edges[i, :]\n",
        "            self.A[(source, target)] = weight\n",
        "            if is_undirected:\n",
        "                self.A[(target, source)] = weight\n",
        "\n",
        "        # Step 4. set n (# of nodes) and m (# of edges)\n",
        "        self.n = n                         # number of nodes\n",
        "        self.m = np.count_nonzero(self.A)  # number of edges"
      ],
      "outputs": [],
      "metadata": {
        "collapsed": true,
        "id": "FeyCWFrjovGW"
      }
    },
    {
      "cell_type": "markdown",
      "source": [
        "Then, we implement the function `load_node_labels` for loading the node labels using `pandas`.\n",
        "* `read_csv`: this reads a file into `DataFrame` (a table)\n",
        "    - https://pandas.pydata.org/pandas-docs/stable/generated/pandas.read_csv.html"
      ],
      "metadata": {
        "id": "zsg9W_MTovGZ"
      }
    },
    {
      "cell_type": "code",
      "execution_count": null,
      "source": [
        "class DensePageRank(DensePageRank):\n",
        "    def load_node_labels(self, data_home):\n",
        "        '''\n",
        "        Load the node labels from the given directory (data_home)\n",
        "\n",
        "        inputs:\n",
        "            data_home: string\n",
        "                directory path conatining a dataset\n",
        "        '''\n",
        "        label_path = \"{}/node_labels.tsv\".format(data_home)\n",
        "        self.node_labels = pd.read_csv(label_path, sep=\"\\t\")"
      ],
      "outputs": [],
      "metadata": {
        "collapsed": true,
        "id": "U1sG_KjBovGZ"
      }
    },
    {
      "cell_type": "markdown",
      "source": [
        "Let's check if the function is correctly implemented.\n",
        "Note that the dataset is a directed network; hence, you should set `is_unidrected` to `False`."
      ],
      "metadata": {
        "id": "y9RSzornovGb"
      }
    },
    {
      "cell_type": "code",
      "execution_count": null,
      "source": [
        "data_home = '/content/drive/MyDrive/data/small'\n",
        "dpr = DensePageRank()\n",
        "dpr.load_graph_dataset(data_home, is_undirected=False)\n",
        "dpr.load_node_labels(data_home)\n",
        "\n",
        "# print the number of nodes and edges\n",
        "print(\"The number n of nodes: {}\".format(dpr.n))\n",
        "print(\"The number m of edges: {}\".format(dpr.m))\n",
        "\n",
        "# print the heads (5) of the node labels\n",
        "display(dpr.node_labels.head(5))"
      ],
      "outputs": [
        {
          "output_type": "stream",
          "name": "stdout",
          "text": [
            "The number n of nodes: 29\n",
            "The number m of edges: 376\n"
          ]
        },
        {
          "output_type": "display_data",
          "data": {
            "text/plain": [
              "   node_id            label\n",
              "0         0       male_noah\n",
              "1         1       male_liam\n",
              "2         2    male_william\n",
              "3         3   male_benjamin\n",
              "4         4      male_jacob"
            ],
            "text/html": [
              "\n",
              "  <div id=\"df-fa10ced4-47b3-459d-8e5b-482c35083c4c\">\n",
              "    <div class=\"colab-df-container\">\n",
              "      <div>\n",
              "<style scoped>\n",
              "    .dataframe tbody tr th:only-of-type {\n",
              "        vertical-align: middle;\n",
              "    }\n",
              "\n",
              "    .dataframe tbody tr th {\n",
              "        vertical-align: top;\n",
              "    }\n",
              "\n",
              "    .dataframe thead th {\n",
              "        text-align: right;\n",
              "    }\n",
              "</style>\n",
              "<table border=\"1\" class=\"dataframe\">\n",
              "  <thead>\n",
              "    <tr style=\"text-align: right;\">\n",
              "      <th></th>\n",
              "      <th>node_id</th>\n",
              "      <th>label</th>\n",
              "    </tr>\n",
              "  </thead>\n",
              "  <tbody>\n",
              "    <tr>\n",
              "      <th>0</th>\n",
              "      <td>0</td>\n",
              "      <td>male_noah</td>\n",
              "    </tr>\n",
              "    <tr>\n",
              "      <th>1</th>\n",
              "      <td>1</td>\n",
              "      <td>male_liam</td>\n",
              "    </tr>\n",
              "    <tr>\n",
              "      <th>2</th>\n",
              "      <td>2</td>\n",
              "      <td>male_william</td>\n",
              "    </tr>\n",
              "    <tr>\n",
              "      <th>3</th>\n",
              "      <td>3</td>\n",
              "      <td>male_benjamin</td>\n",
              "    </tr>\n",
              "    <tr>\n",
              "      <th>4</th>\n",
              "      <td>4</td>\n",
              "      <td>male_jacob</td>\n",
              "    </tr>\n",
              "  </tbody>\n",
              "</table>\n",
              "</div>\n",
              "      <button class=\"colab-df-convert\" onclick=\"convertToInteractive('df-fa10ced4-47b3-459d-8e5b-482c35083c4c')\"\n",
              "              title=\"Convert this dataframe to an interactive table.\"\n",
              "              style=\"display:none;\">\n",
              "        \n",
              "  <svg xmlns=\"http://www.w3.org/2000/svg\" height=\"24px\"viewBox=\"0 0 24 24\"\n",
              "       width=\"24px\">\n",
              "    <path d=\"M0 0h24v24H0V0z\" fill=\"none\"/>\n",
              "    <path d=\"M18.56 5.44l.94 2.06.94-2.06 2.06-.94-2.06-.94-.94-2.06-.94 2.06-2.06.94zm-11 1L8.5 8.5l.94-2.06 2.06-.94-2.06-.94L8.5 2.5l-.94 2.06-2.06.94zm10 10l.94 2.06.94-2.06 2.06-.94-2.06-.94-.94-2.06-.94 2.06-2.06.94z\"/><path d=\"M17.41 7.96l-1.37-1.37c-.4-.4-.92-.59-1.43-.59-.52 0-1.04.2-1.43.59L10.3 9.45l-7.72 7.72c-.78.78-.78 2.05 0 2.83L4 21.41c.39.39.9.59 1.41.59.51 0 1.02-.2 1.41-.59l7.78-7.78 2.81-2.81c.8-.78.8-2.07 0-2.86zM5.41 20L4 18.59l7.72-7.72 1.47 1.35L5.41 20z\"/>\n",
              "  </svg>\n",
              "      </button>\n",
              "      \n",
              "  <style>\n",
              "    .colab-df-container {\n",
              "      display:flex;\n",
              "      flex-wrap:wrap;\n",
              "      gap: 12px;\n",
              "    }\n",
              "\n",
              "    .colab-df-convert {\n",
              "      background-color: #E8F0FE;\n",
              "      border: none;\n",
              "      border-radius: 50%;\n",
              "      cursor: pointer;\n",
              "      display: none;\n",
              "      fill: #1967D2;\n",
              "      height: 32px;\n",
              "      padding: 0 0 0 0;\n",
              "      width: 32px;\n",
              "    }\n",
              "\n",
              "    .colab-df-convert:hover {\n",
              "      background-color: #E2EBFA;\n",
              "      box-shadow: 0px 1px 2px rgba(60, 64, 67, 0.3), 0px 1px 3px 1px rgba(60, 64, 67, 0.15);\n",
              "      fill: #174EA6;\n",
              "    }\n",
              "\n",
              "    [theme=dark] .colab-df-convert {\n",
              "      background-color: #3B4455;\n",
              "      fill: #D2E3FC;\n",
              "    }\n",
              "\n",
              "    [theme=dark] .colab-df-convert:hover {\n",
              "      background-color: #434B5C;\n",
              "      box-shadow: 0px 1px 3px 1px rgba(0, 0, 0, 0.15);\n",
              "      filter: drop-shadow(0px 1px 2px rgba(0, 0, 0, 0.3));\n",
              "      fill: #FFFFFF;\n",
              "    }\n",
              "  </style>\n",
              "\n",
              "      <script>\n",
              "        const buttonEl =\n",
              "          document.querySelector('#df-fa10ced4-47b3-459d-8e5b-482c35083c4c button.colab-df-convert');\n",
              "        buttonEl.style.display =\n",
              "          google.colab.kernel.accessAllowed ? 'block' : 'none';\n",
              "\n",
              "        async function convertToInteractive(key) {\n",
              "          const element = document.querySelector('#df-fa10ced4-47b3-459d-8e5b-482c35083c4c');\n",
              "          const dataTable =\n",
              "            await google.colab.kernel.invokeFunction('convertToInteractive',\n",
              "                                                     [key], {});\n",
              "          if (!dataTable) return;\n",
              "\n",
              "          const docLinkHtml = 'Like what you see? Visit the ' +\n",
              "            '<a target=\"_blank\" href=https://colab.research.google.com/notebooks/data_table.ipynb>data table notebook</a>'\n",
              "            + ' to learn more about interactive tables.';\n",
              "          element.innerHTML = '';\n",
              "          dataTable['output_type'] = 'display_data';\n",
              "          await google.colab.output.renderOutput(dataTable, element);\n",
              "          const docLink = document.createElement('div');\n",
              "          docLink.innerHTML = docLinkHtml;\n",
              "          element.appendChild(docLink);\n",
              "        }\n",
              "      </script>\n",
              "    </div>\n",
              "  </div>\n",
              "  "
            ]
          },
          "metadata": {}
        }
      ],
      "metadata": {
        "id": "szrE9T89ovGc",
        "outputId": "9651b6e7-4939-4d0f-90ec-1f84c6708819",
        "colab": {
          "base_uri": "https://localhost:8080/",
          "height": 242
        }
      }
    },
    {
      "cell_type": "markdown",
      "source": [
        "#### Step 3-2. Implement the normalization phase\n",
        "Next, we need the row-normalized adjacency matrix $\\mathbf{\\tilde{A}}$ of the adjacency matrix $\\mathbf{A}$.\n",
        "We briefly introduce several APIs in `numpy` to implement a function for $\\mathbf{\\tilde{A}}$.\n",
        "* `sum`: this performs the summation of an arror or a matrix\n",
        "    * `A.sum(axis = 0)`: column-wise sum of matrix A (will be a vector)\n",
        "    * `A.sum(axis = 1)`: row-wise sum of matirx A (will be a vector)\n",
        "    * https://docs.scipy.org/doc/numpy/reference/generated/numpy.sum.html\n",
        "* `dot`: this performs a matrix multiplication.\n",
        "    * given matrix `A` and vector `x`, `A.dot(x)` will perform the matrix-vector multiplication between `A` and `x`, i.e., `Ax`.\n",
        "    * https://docs.scipy.org/doc/numpy-1.15.0/reference/generated/numpy.dot.html\n",
        "* `diag`: given a vector, this builds a diagonal matrix whose diagonal entries corresponds to the given vector.\n",
        "    * https://docs.scipy.org/doc/numpy/reference/generated/numpy.diag.html\n",
        "* `T`: this takes the transpose of a matrix, e.g., A.T is the transpose of matrix A\n",
        "\n",
        "In this phase, our goal is to implement the following operation:\n",
        "\n",
        "$$\\mathbf{\\tilde{A}} = \\mathbf{D}^{-1}\\mathbf{A}$$\n",
        "\n",
        "Here is one trick for the diagonal matrix $\\mathbf{D}$.\n",
        "One of mathematical properties of a diagonal matrix is that the inverse of a diagonal matrix is a matrix whose diagonal entries are inverted.\n",
        "Hence, we do not need to do matrix inversion explicitly for this.\n",
        "Let $\\text{diag}(d_1, \\cdots, d_n)$ be a diagonal matrix.\n",
        "Then, $\\text{diag}(d_1, \\cdots, d_n)^{-1} = \\text{diag}(d_1^{-1}, \\cdots, d_n^{-1})$."
      ],
      "metadata": {
        "id": "z_AnGmCrovGe"
      }
    },
    {
      "cell_type": "code",
      "execution_count": null,
      "source": [
        "class DensePageRank(DensePageRank):\n",
        "    def normalize(self):\n",
        "        '''\n",
        "        Perform the row-normalization of the given adjacency matrix\n",
        "        '''\n",
        "        # Step 1. obtain the out-degree vector d\n",
        "        d = self.A.sum(axis = 1)           # row-wise summation\n",
        "\n",
        "        # Step 2. obtain the inverse of the out-degree matrix\n",
        "        d = np.maximum(d, np.ones(self.n)) # handles zero out-degree nodes, `maximum` perform entry-wise maximum\n",
        "        invd = 1.0 / d                # entry-wise division\n",
        "        invD = np.diag(invd)          # convert invd vector to a diagonal matrix\n",
        "\n",
        "        # Step 3. compute the row-normalized adjacency matrix\n",
        "        self.nA = invD.dot(self.A)   # nA = invD * A\n",
        "        self.nAT = self.nA.T         # nAT is the transpose of nA\n",
        "\n",
        "        self.out_degrees = d"
      ],
      "outputs": [],
      "metadata": {
        "collapsed": true,
        "id": "TAOr63V8ovGf"
      }
    },
    {
      "cell_type": "markdown",
      "source": [
        "Let's check if the function is correctly implemented.\n",
        "Note that in the row-normalized matrix $\\mathbf{\\tilde{A}}$, the sum of each row should be $1$.\n",
        "Hence, check if the sum of each row of $\\mathbf{\\tilde{A}}$ is $1$.\n",
        "\n",
        "*CAUTION*: someone might encounter $0.99999...$ instead of exact $1.0$ due to floating point operations.\n",
        "In that case, you can ignore very small error in the values. This is not  critical for the final PageRank scores.\n",
        "If you see a value of a node much less than $1$ where the out-degree of the node is greater than $0$, then you need to inspect if there is an error in your implementation.\n",
        "If the out-degree of a node is $0$, then the row-wise sum should be $0$."
      ],
      "metadata": {
        "id": "8qWEftPhovGh"
      }
    },
    {
      "cell_type": "code",
      "execution_count": null,
      "source": [
        "dpr = DensePageRank()\n",
        "dpr.load_graph_dataset('/content/drive/MyDrive/data/small', is_undirected=False)\n",
        "dpr.normalize()\n",
        "\n",
        "# check the sum of each row in the row-normalized matrix nA\n",
        "row_sums = dpr.nA.sum(axis=1)\n",
        "for (i, degree, row_sum) in zip(range(dpr.n), dpr.out_degrees, row_sums):\n",
        "    print(\"node: {:2d}, out-degree: {:2d},  row_sum: {:.2f}\".format(i, int(degree), row_sum))"
      ],
      "outputs": [
        {
          "output_type": "stream",
          "name": "stdout",
          "text": [
            "node:  0, out-degree: 14,  row_sum: 1.00\n",
            "node:  1, out-degree: 15,  row_sum: 1.00\n",
            "node:  2, out-degree: 17,  row_sum: 1.00\n",
            "node:  3, out-degree: 23,  row_sum: 1.00\n",
            "node:  4, out-degree: 27,  row_sum: 1.00\n",
            "node:  5, out-degree: 27,  row_sum: 1.00\n",
            "node:  6, out-degree: 12,  row_sum: 1.00\n",
            "node:  7, out-degree: 14,  row_sum: 1.00\n",
            "node:  8, out-degree: 16,  row_sum: 1.00\n",
            "node:  9, out-degree: 12,  row_sum: 1.00\n",
            "node: 10, out-degree: 14,  row_sum: 1.00\n",
            "node: 11, out-degree: 10,  row_sum: 1.00\n",
            "node: 12, out-degree: 13,  row_sum: 1.00\n",
            "node: 13, out-degree:  8,  row_sum: 1.00\n",
            "node: 14, out-degree:  9,  row_sum: 1.00\n",
            "node: 15, out-degree:  5,  row_sum: 1.00\n",
            "node: 16, out-degree:  6,  row_sum: 1.00\n",
            "node: 17, out-degree:  1,  row_sum: 1.00\n",
            "node: 18, out-degree:  6,  row_sum: 1.00\n",
            "node: 19, out-degree: 13,  row_sum: 1.00\n",
            "node: 20, out-degree: 15,  row_sum: 1.00\n",
            "node: 21, out-degree: 19,  row_sum: 1.00\n",
            "node: 22, out-degree: 12,  row_sum: 1.00\n",
            "node: 23, out-degree: 16,  row_sum: 1.00\n",
            "node: 24, out-degree: 11,  row_sum: 1.00\n",
            "node: 25, out-degree: 16,  row_sum: 1.00\n",
            "node: 26, out-degree: 15,  row_sum: 1.00\n",
            "node: 27, out-degree:  5,  row_sum: 1.00\n",
            "node: 28, out-degree:  5,  row_sum: 1.00\n"
          ]
        }
      ],
      "metadata": {
        "id": "EQmyQUO1ovGh",
        "outputId": "03d7dca1-1c0c-4866-bd12-cfc0c08f2046",
        "colab": {
          "base_uri": "https://localhost:8080/"
        }
      }
    },
    {
      "cell_type": "markdown",
      "source": [
        "#### Step 3-3. Implement the iterative phase\n",
        "Now, we are ready to implement the iterative algorithm for PageRank.\n",
        "Based on Algorithm 1, we will fill the following function `iterate_PageRank`.\n",
        "For convenience, we provide the iterative algorithm in this cell again.\n",
        "\n",
        "<img src=\"./images/iterative-algorithm-pagerank.png\" width=\"400\">\n",
        "\n",
        "To implement the above algorithm, we need to know the following stuffs:\n",
        "* (Input) Where is the normalized adjacency matrix? $\\rightarrow$ use `self.nA` or `self.nAT` (its transposed version)\n",
        "* (lines 1 and 2) How to create one and zero vectors? $\\rightarrow$ use `np.ones()` and `np.zeros()` as follows:"
      ],
      "metadata": {
        "id": "CM7_6Ub5ovGk"
      }
    },
    {
      "cell_type": "code",
      "execution_count": null,
      "source": [
        "one_vector = np.ones(10) # create a vector having 10 ones\n",
        "display(one_vector)\n",
        "\n",
        "zero_vector = np.zeros(10) # create a vector having 10 zeros\n",
        "display(zero_vector)"
      ],
      "outputs": [
        {
          "output_type": "display_data",
          "data": {
            "text/plain": [
              "array([1., 1., 1., 1., 1., 1., 1., 1., 1., 1.])"
            ]
          },
          "metadata": {}
        },
        {
          "output_type": "display_data",
          "data": {
            "text/plain": [
              "array([0., 0., 0., 0., 0., 0., 0., 0., 0., 0.])"
            ]
          },
          "metadata": {}
        }
      ],
      "metadata": {
        "id": "R_fEjYc4ovGk",
        "outputId": "e5fed266-9d20-4fd0-87d8-d4487597501a",
        "colab": {
          "base_uri": "https://localhost:8080/",
          "height": 53
        }
      }
    },
    {
      "cell_type": "markdown",
      "source": [
        "* (line 4) How to perform a matrix-vector multiplication? $\\rightarrow$ use `np.dot()` function as follows:"
      ],
      "metadata": {
        "id": "Bkl-EM6wovGm"
      }
    },
    {
      "cell_type": "code",
      "execution_count": null,
      "source": [
        "A = np.random.rand(3, 3) # genrate a 3 x 3 random matrix\n",
        "display(A)\n",
        "\n",
        "b = np.ones(3) # genreate a 3 x 1 one vector\n",
        "\n",
        "ret = A.dot(b) # perform A * b\n",
        "display(ret)"
      ],
      "outputs": [
        {
          "output_type": "display_data",
          "data": {
            "text/plain": [
              "array([[0.96851031, 0.60562362, 0.33233835],\n",
              "       [0.10614155, 0.01733686, 0.9628242 ],\n",
              "       [0.25636755, 0.67093498, 0.54343848]])"
            ]
          },
          "metadata": {}
        },
        {
          "output_type": "display_data",
          "data": {
            "text/plain": [
              "array([1.90647228, 1.08630261, 1.47074101])"
            ]
          },
          "metadata": {}
        }
      ],
      "metadata": {
        "id": "gTvr_MP0ovGn",
        "outputId": "41fff766-40c7-4806-cfc9-e68bd289472b",
        "colab": {
          "base_uri": "https://localhost:8080/",
          "height": 88
        }
      }
    },
    {
      "cell_type": "markdown",
      "source": [
        "* (line 4) How to perform a multiplication between a scalar and a vector? $\\rightarrow$ use `*` operation as follows:"
      ],
      "metadata": {
        "id": "4pNdoNxhovGp"
      }
    },
    {
      "cell_type": "code",
      "execution_count": null,
      "source": [
        "B = np.ones(3) # generate a vector\n",
        "display(B)\n",
        "\n",
        "c = 5\n",
        "\n",
        "ret = c * B # scalar multiplication\n",
        "display(ret)"
      ],
      "outputs": [
        {
          "output_type": "display_data",
          "data": {
            "text/plain": [
              "array([1., 1., 1.])"
            ]
          },
          "metadata": {}
        },
        {
          "output_type": "display_data",
          "data": {
            "text/plain": [
              "array([5., 5., 5.])"
            ]
          },
          "metadata": {}
        }
      ],
      "metadata": {
        "id": "DLkPTD9eovGq",
        "outputId": "d8b2405b-a463-4cb6-8008-4629b726953c",
        "colab": {
          "base_uri": "https://localhost:8080/",
          "height": 53
        }
      }
    },
    {
      "cell_type": "markdown",
      "source": [
        "* (lines 4 and 5) How to do vector addition and subtraction? $\\rightarrow$ use $+$ and $-$ operations, respectively, as follows:"
      ],
      "metadata": {
        "id": "pwTa59KFovGs"
      }
    },
    {
      "cell_type": "code",
      "execution_count": null,
      "source": [
        "a = np.asarray([1, 2, 3]) # generate a vector with [1, 2, 3]\n",
        "b = np.asarray([5, 6, 7]) # generate a vector with [5, 6, 7]\n",
        "\n",
        "display(a + b) # vector addition\n",
        "\n",
        "display(a - b) # vector subtraction"
      ],
      "outputs": [
        {
          "output_type": "display_data",
          "data": {
            "text/plain": [
              "array([ 6,  8, 10])"
            ]
          },
          "metadata": {}
        },
        {
          "output_type": "display_data",
          "data": {
            "text/plain": [
              "array([-4, -4, -4])"
            ]
          },
          "metadata": {}
        }
      ],
      "metadata": {
        "id": "gfAj4ps1ovGt",
        "outputId": "ab5f2cf8-bbba-4798-f5d1-e47d920ff47d",
        "colab": {
          "base_uri": "https://localhost:8080/",
          "height": 53
        }
      }
    },
    {
      "cell_type": "markdown",
      "source": [
        "* (line 5) How to compute L1-norm of a vector? $\\rightarrow$ use `np.linalg.norm()` function as follows:"
      ],
      "metadata": {
        "id": "HIc7XjicovGv"
      }
    },
    {
      "cell_type": "code",
      "execution_count": null,
      "source": [
        "a = np.asarray([-1, 2, -3])\n",
        "\n",
        "l1_norm = np.linalg.norm(a, 1) # compute L1-norm of vector a\n",
        "\n",
        "display(l1_norm)"
      ],
      "outputs": [
        {
          "output_type": "display_data",
          "data": {
            "text/plain": [
              "6.0"
            ]
          },
          "metadata": {}
        }
      ],
      "metadata": {
        "id": "oJfZg-x-ovGv",
        "outputId": "533a13d7-5e81-4caf-cef1-ae385ec8f2e9",
        "colab": {
          "base_uri": "https://localhost:8080/",
          "height": 35
        }
      }
    },
    {
      "cell_type": "code",
      "execution_count": null,
      "source": [
        "class DensePageRank(DensePageRank):\n",
        "    def iterate_PageRank(self, b=0.15, epsilon=1e-9, maxIters=100):\n",
        "        '''\n",
        "        //Try it yourself!//\n",
        "        Iterate the PageRank equation to obatin the PageRank score vector\n",
        "\n",
        "        inputs:\n",
        "            b: float (between 0 and 1)\n",
        "                the teleport probability, beta\n",
        "            epsilon : float\n",
        "                the error tolerance of the iteration\n",
        "            maxIters : int\n",
        "                the maximum number of iterations\n",
        "\n",
        "        outputs:\n",
        "            p: np.ndarray (n x 1 vector)\n",
        "                the final PageRank score vector\n",
        "            residuals: list\n",
        "                the list of residuals over the iteration\n",
        "        '''\n",
        "\n",
        "        p = np.zeros(self.n)           # pagerank score vector where self.n is # of nodes\n",
        "        residuals = []                 # set the list for residuals over iterations\n",
        "\n",
        "        # set query vector (n x 1) q (line 1 in Algorithm 1)\n",
        "        pass\n",
        "\n",
        "        # initilize PageRank score vector, old_p (p'), to a zero vector (line 2 in Algorithm `)\n",
        "        pass\n",
        "\n",
        "        # implement 3~7 lines in Algorithm 1 using the above functions;\n",
        "        # note that you should append the residual of each iteration in the `residuals` list\n",
        "        # note that the normalized adjacency matrix is stored in `self.nA` or `self.nAT` which is the transposed one\n",
        "        q=np.ones(self.n)/self.n\n",
        "        old_p=q\n",
        "        residuals=[]\n",
        "\n",
        "        for t in range(maxIters):\n",
        "            p=(1-b)*(self.nAT.dot(old_p))+(b*q)\n",
        "            residual=np.linalg.norm(p - old_p,1)\n",
        "            residuals.append(residual)\n",
        "            old_p=p\n",
        "\n",
        "            if residual<epsilon:\n",
        "              break\n",
        "\n",
        "\n",
        "        return p, residuals"
      ],
      "outputs": [],
      "metadata": {
        "collapsed": true,
        "id": "_AstN8XRovGx"
      }
    },
    {
      "cell_type": "markdown",
      "source": [
        "Let's check the result of the iterative algorithm."
      ],
      "metadata": {
        "id": "KbeQBicSovGz"
      }
    },
    {
      "cell_type": "code",
      "execution_count": null,
      "source": [
        "data_home = '/content/drive/MyDrive/data/small'\n",
        "dpr = DensePageRank()\n",
        "dpr.load_graph_dataset(data_home, is_undirected=False)\n",
        "dpr.load_node_labels(data_home)\n",
        "dpr.normalize()\n",
        "p, residuals = dpr.iterate_PageRank(b=0.15, epsilon=1e-9, maxIters=100)\n",
        "#b값을 바꾸면서결과확인가능.\n",
        "\n",
        "# print the PageRank score of each node\n",
        "for (i, score) in zip(range(dpr.n), p):\n",
        "    print(\"node: {:2d}, PageRank score: {:.4f}\".format(i, score))"
      ],
      "outputs": [
        {
          "output_type": "stream",
          "name": "stdout",
          "text": [
            "node:  0, PageRank score: 0.0237\n",
            "node:  1, PageRank score: 0.0393\n",
            "node:  2, PageRank score: 0.0387\n",
            "node:  3, PageRank score: 0.0177\n",
            "node:  4, PageRank score: 0.0345\n",
            "node:  5, PageRank score: 0.0446\n",
            "node:  6, PageRank score: 0.0200\n",
            "node:  7, PageRank score: 0.0522\n",
            "node:  8, PageRank score: 0.0518\n",
            "node:  9, PageRank score: 0.0327\n",
            "node: 10, PageRank score: 0.0508\n",
            "node: 11, PageRank score: 0.0435\n",
            "node: 12, PageRank score: 0.0466\n",
            "node: 13, PageRank score: 0.0454\n",
            "node: 14, PageRank score: 0.0420\n",
            "node: 15, PageRank score: 0.0334\n",
            "node: 16, PageRank score: 0.0214\n",
            "node: 17, PageRank score: 0.0203\n",
            "node: 18, PageRank score: 0.0183\n",
            "node: 19, PageRank score: 0.0437\n",
            "node: 20, PageRank score: 0.0478\n",
            "node: 21, PageRank score: 0.0243\n",
            "node: 22, PageRank score: 0.0449\n",
            "node: 23, PageRank score: 0.0274\n",
            "node: 24, PageRank score: 0.0346\n",
            "node: 25, PageRank score: 0.0350\n",
            "node: 26, PageRank score: 0.0255\n",
            "node: 27, PageRank score: 0.0187\n",
            "node: 28, PageRank score: 0.0211\n"
          ]
        }
      ],
      "metadata": {
        "id": "t4JU5i8xovG0",
        "outputId": "846776c6-2e70-4689-e2f7-2010ca0b70fb",
        "colab": {
          "base_uri": "https://localhost:8080/"
        }
      }
    },
    {
      "cell_type": "markdown",
      "source": [
        "-----\n",
        "### Step 4. Validate your PageRank implementation\n",
        "\n",
        "In this step, we will verify if the implementation for PageRank is correctly done.\n",
        "There are two ways to perform the validation.\n",
        "First, we need to check if the residuals over the iteration decrease monotonically.\n",
        "Second, we should check if the solution from the iteration phase is equal (or very close) to the exact solution from the closed form of the PageRank equation.\n",
        "We will describe the details on the closed form in Step 4-2.\n",
        "After checking these, we will implement a function for ranking nodes in the order of PageRank scores in Step 4-3."
      ],
      "metadata": {
        "id": "EZ88PELRovG2"
      }
    },
    {
      "cell_type": "markdown",
      "source": [
        "#### Step 4-1. Check if the residuals monotonically decrease\n",
        "\n",
        "Note that we stored the residuals into `residuals` returned by `iterate_PageRank` as the second argument.\n",
        "In other words, by plotting `residuals`, we can check the tendency of the residuals over the iterations.\n",
        "For plotting this, we first import `matplotlib` as follows:"
      ],
      "metadata": {
        "id": "MESBPtn3ovG4"
      }
    },
    {
      "cell_type": "code",
      "execution_count": null,
      "source": [
        "%matplotlib inline\n",
        "import matplotlib.pyplot as plt\n",
        "plt.rcParams.update({'font.size': 13}) # set the font-size in the figure"
      ],
      "outputs": [],
      "metadata": {
        "collapsed": true,
        "id": "S2wevhwrovG5"
      }
    },
    {
      "cell_type": "markdown",
      "source": [
        "Then, we will implement a function `plot_residuals` for the plot.\n",
        "Note that this function will be reused for validating the implementations for other ranking models such as Topic-specific PageRank and HITS.\n",
        "Let's fill the following function."
      ],
      "metadata": {
        "id": "MpgnerWjovG7"
      }
    },
    {
      "cell_type": "code",
      "execution_count": null,
      "source": [
        "def plot_residuals(residuals, title):\n",
        "    plt.semilogy(residuals, marker='o', markersize=5)\n",
        "    plt.title(title)\n",
        "    plt.ylim(ymin=1e-10, ymax=1e-0)\n",
        "    plt.ylabel('Residual')\n",
        "    plt.xlabel('# of iterations')\n",
        "    plt.grid(True)\n",
        "    plt.show()"
      ],
      "outputs": [],
      "metadata": {
        "collapsed": true,
        "id": "eEDEfqZVovG8"
      }
    },
    {
      "cell_type": "markdown",
      "source": [
        "Let's check the plot for the residuals using `plot_residuals`."
      ],
      "metadata": {
        "id": "oCaJyjKLovG9"
      }
    },
    {
      "cell_type": "code",
      "execution_count": null,
      "source": [
        "plot_residuals(residuals, 'Change of Residuals from PageRank')"
      ],
      "outputs": [
        {
          "output_type": "display_data",
          "data": {
            "text/plain": [
              "<Figure size 640x480 with 1 Axes>"
            ],
            "image/png": "[encoded data removed]"
          },
          "metadata": {}
        }
      ],
      "metadata": {
        "id": "zTPJ5VxvovG-",
        "outputId": "d7c9dd6d-8a82-4b0f-bbf7-97246a88ea9e",
        "colab": {
          "base_uri": "https://localhost:8080/",
          "height": 482
        }
      }
    },
    {
      "cell_type": "markdown",
      "source": [
        "Note that the residual should decrease monotonically as the number of iterations increases, and the line should be terminated when the residual is less than the given error tolerance (e.g., $\\epsilon=10^{-9}$ in this example).\n",
        "\n",
        "The residual indicates the difference between the current PageRank score vector and the previous one.\n",
        "In other words, the difference decreases as the number of iterations increases.\n",
        "Theoretically, they become the same when we infinitely repeat the iteration, and we call this situation *convergence*.\n",
        "When the residual behaves as in the figure, we say the PageRank score vector converges.\n",
        "\n",
        "One remaining question is then, *is the converged PageRank score vector really true value?* Note that since the residual analysis just handles the difference of the consecutive score vectors, we cannot answer the question with only this plot.\n",
        "\n",
        "The short answer is *YES*, i.e., it always converges to the true PageRank score vector, which has been proved theoretically.\n",
        "We will not discuss the theoretical proof since it is too complex to cover during the tutorial.\n",
        "Instead, we will check this point empirically in the following step."
      ],
      "metadata": {
        "id": "8iB3mS8MovHA"
      }
    },
    {
      "cell_type": "markdown",
      "source": [
        "#### Step 4-2. Check if the iterative solution is equal to the exact solution of PageRank\n",
        "\n",
        "We first derive the closed form of the PageRank equation as follows:\n",
        "\n",
        "$$\n",
        "\\mathbf{p} = (1-\\beta)\\mathbf{\\tilde{A}}^{\\top}\\mathbf{p} + \\beta\\mathbf{q} \\\\\n",
        "\\Leftrightarrow \\mathbf{p} - (1-\\beta)\\mathbf{\\tilde{A}}^{\\top}\\mathbf{p} = \\beta\\mathbf{q} \\\\\n",
        "\\Leftrightarrow \\left(\\mathbf{I} - (1-\\beta)\\mathbf{\\tilde{A}}^{\\top}\\right)\\mathbf{p} = \\beta\\mathbf{q} \\\\\n",
        "\\Leftrightarrow \\mathbf{p} = \\beta\\left(\\mathbf{I} - (1-\\beta)\\mathbf{\\tilde{A}}^{\\top}\\right)^{-1}\\mathbf{q} \\\\\n",
        "$$\n",
        "\n",
        "where $\\mathbf{I}$ is the identity matrix whose dimension is $n$.\n",
        "According to the derivation, we are able to directly compute the PageRank score without the iteration.\n",
        "And, the solution from the closed equation is called the *exact solution*.\n",
        "The reason why we implement the iterative phase is that the matrix inversion is a computationally expensive operation;\n",
        "hence, it is intractable to compute the PageRank score on a large-scale graph via matrix inversion.\n",
        "However, for a small graph, we can perform the matrix inversion to obtain the exact solution in a reasonable time, and use the solution to compare with the iterative solution.\n",
        "\n",
        "For this, we implement a function `compute_exact_PageRank` based on the closed form."
      ],
      "metadata": {
        "id": "9QbbxE5covHB"
      }
    },
    {
      "cell_type": "code",
      "execution_count": null,
      "source": [
        "class DensePageRank(DensePageRank):\n",
        "    def compute_exact_PageRank(self, b=0.15):\n",
        "        '''\n",
        "        Compute the exact PageRank score vector from the closed form\n",
        "\n",
        "        inputs:\n",
        "            b: float (between 0 and 1)\n",
        "                the teleport probability\n",
        "        outputs:\n",
        "            p: np.ndarray (n x 1 vector)\n",
        "                the final PageRank score vector\n",
        "        '''\n",
        "        q = np.ones(self.n)/self.n          # set the query vector q\n",
        "\n",
        "        H = np.eye(self.n) - (1.0 - b)*self.nAT\n",
        "        invH = np.linalg.inv(H)\n",
        "\n",
        "        p = b*(invH.dot(q))\n",
        "\n",
        "        return p"
      ],
      "outputs": [],
      "metadata": {
        "collapsed": true,
        "id": "i2wPde8HovHB"
      }
    },
    {
      "cell_type": "markdown",
      "source": [
        "Now, let's compare the exact PageRank score vector and the iterative one.\n",
        "One convenient way is to measure the difference between them using L1-norm as\n",
        "\n",
        "$$\n",
        "error = \\lVert \\mathbf{p}_{exact} - \\mathbf{p}_{iter}\\rVert_{1}\n",
        "$$\n",
        "\n",
        "where $\\mathbf{p}_{exact}$ is the exact PageRank score vector, and $\\mathbf{p}_{iter}$ is the iterative one."
      ],
      "metadata": {
        "id": "ZFRTFmN5ovHD"
      }
    },
    {
      "cell_type": "code",
      "execution_count": null,
      "source": [
        "data_home = '/content/drive/MyDrive/data/small'\n",
        "dpr = DensePageRank()\n",
        "dpr.load_graph_dataset(data_home, is_undirected=False)\n",
        "dpr.load_node_labels(data_home)\n",
        "dpr.normalize()\n",
        "\n",
        "p_exact = dpr.compute_exact_PageRank(b=0.15)\n",
        "p_iter, _ = dpr.iterate_PageRank(b=0.15, epsilon=1e-9, maxIters=100)\n",
        "\n",
        "error = np.linalg.norm(p_exact - p_iter, 1)\n",
        "print(\"Error between exact and iterative PageRank scores: {:e}\".format(error))"
      ],
      "outputs": [
        {
          "output_type": "stream",
          "name": "stdout",
          "text": [
            "Error between exact and iterative PageRank scores: 5.964699e-10\n"
          ]
        }
      ],
      "metadata": {
        "id": "_xh43_GQovHD",
        "outputId": "ee381ff5-834c-446c-a430-8b9ca848e140",
        "colab": {
          "base_uri": "https://localhost:8080/"
        }
      }
    },
    {
      "cell_type": "code",
      "execution_count": null,
      "source": [
        "for (i, exact_score, iter_score) in zip(range(dpr.n), p_exact, p_iter):\n",
        "    print(\"node: {:2d}, exact_score: {:.7f}, iter_score: {:.7f}\".format(i, exact_score, iter_score))"
      ],
      "outputs": [
        {
          "output_type": "stream",
          "name": "stdout",
          "text": [
            "node:  0, exact_score: 0.0237413, iter_score: 0.0237413\n",
            "node:  1, exact_score: 0.0393204, iter_score: 0.0393204\n",
            "node:  2, exact_score: 0.0387131, iter_score: 0.0387131\n",
            "node:  3, exact_score: 0.0177171, iter_score: 0.0177171\n",
            "node:  4, exact_score: 0.0345046, iter_score: 0.0345046\n",
            "node:  5, exact_score: 0.0445602, iter_score: 0.0445602\n",
            "node:  6, exact_score: 0.0199576, iter_score: 0.0199576\n",
            "node:  7, exact_score: 0.0521591, iter_score: 0.0521591\n",
            "node:  8, exact_score: 0.0517924, iter_score: 0.0517924\n",
            "node:  9, exact_score: 0.0326633, iter_score: 0.0326633\n",
            "node: 10, exact_score: 0.0508263, iter_score: 0.0508263\n",
            "node: 11, exact_score: 0.0434542, iter_score: 0.0434542\n",
            "node: 12, exact_score: 0.0466453, iter_score: 0.0466453\n",
            "node: 13, exact_score: 0.0453634, iter_score: 0.0453634\n",
            "node: 14, exact_score: 0.0419984, iter_score: 0.0419984\n",
            "node: 15, exact_score: 0.0333760, iter_score: 0.0333760\n",
            "node: 16, exact_score: 0.0214356, iter_score: 0.0214356\n",
            "node: 17, exact_score: 0.0203439, iter_score: 0.0203439\n",
            "node: 18, exact_score: 0.0182682, iter_score: 0.0182682\n",
            "node: 19, exact_score: 0.0437339, iter_score: 0.0437339\n",
            "node: 20, exact_score: 0.0478166, iter_score: 0.0478166\n",
            "node: 21, exact_score: 0.0243393, iter_score: 0.0243393\n",
            "node: 22, exact_score: 0.0449098, iter_score: 0.0449098\n",
            "node: 23, exact_score: 0.0274438, iter_score: 0.0274438\n",
            "node: 24, exact_score: 0.0345592, iter_score: 0.0345592\n",
            "node: 25, exact_score: 0.0350438, iter_score: 0.0350438\n",
            "node: 26, exact_score: 0.0254514, iter_score: 0.0254514\n",
            "node: 27, exact_score: 0.0187322, iter_score: 0.0187322\n",
            "node: 28, exact_score: 0.0211295, iter_score: 0.0211295\n"
          ]
        }
      ],
      "metadata": {
        "id": "dZjdlJrsovHF",
        "outputId": "5e12036a-ecc0-4583-8d88-be2495ac008d",
        "colab": {
          "base_uri": "https://localhost:8080/"
        }
      }
    },
    {
      "cell_type": "markdown",
      "source": [
        "You can check there is no difference between their scores up to 7 decimal places."
      ],
      "metadata": {
        "id": "mfMuetsqovHG"
      }
    },
    {
      "cell_type": "markdown",
      "source": [
        "#### Step 4-3. Check the ranking result from the PageRank scores\n",
        "We will implement a function `rank_nodes` to rank nodes in order of given ranking scores."
      ],
      "metadata": {
        "id": "0kcnwMnnovHH"
      }
    },
    {
      "cell_type": "code",
      "execution_count": null,
      "source": [
        "class DensePageRank(DensePageRank):\n",
        "    def rank_nodes(self, ranking_scores, topk=-1):\n",
        "        '''\n",
        "        Rank nodes in the order of given ranking scores.\n",
        "        This function reports top-k rankings.\n",
        "\n",
        "        inputs:\n",
        "            ranking_scores: np.ndarray\n",
        "                ranking score vector\n",
        "            topk: int\n",
        "                top-k ranking parameter, default is -1 indicating report all ranks\n",
        "        '''\n",
        "        sorted_nodes = np.flipud(np.argsort(ranking_scores)) # argsort in the descending order\n",
        "        sorted_scores = ranking_scores[sorted_nodes]         # sort the ranking scores\n",
        "        ranks = range(1, self.n+1) # 0~n-1\n",
        "\n",
        "        result_labels = self.node_labels.iloc[sorted_nodes][0:topk]\n",
        "        result_labels.insert(0, \"rank\", ranks[0:topk])\n",
        "        result_labels[\"score\"] = sorted_scores[0:topk]\n",
        "        result_labels.reset_index(drop = True, inplace = True)\n",
        "        return result_labels"
      ],
      "outputs": [],
      "metadata": {
        "collapsed": true,
        "id": "VUoaGXjAovHI"
      }
    },
    {
      "cell_type": "markdown",
      "source": [
        "Let's see ranking results from the function.\n",
        "We are going to check top-10 ranks in the order of PageRank scores in the graph."
      ],
      "metadata": {
        "id": "0IQCKhZoovHK"
      }
    },
    {
      "cell_type": "code",
      "execution_count": null,
      "source": [
        "data_home = '/content/drive/MyDrive/data/small'\n",
        "dpr = DensePageRank()\n",
        "dpr.load_graph_dataset(data_home, is_undirected=False)\n",
        "dpr.load_node_labels(data_home)\n",
        "dpr.normalize()\n",
        "p, _ = dpr.iterate_PageRank(b=0.15, epsilon=1e-9, maxIters=100)\n",
        "\n",
        "# display top-10 ranking in the order of PageRank scores\n",
        "display(dpr.rank_nodes(p, topk=10))"
      ],
      "outputs": [
        {
          "output_type": "display_data",
          "data": {
            "text/plain": [
              "   rank  node_id              label     score\n",
              "0     1         7       female_emma  0.052159\n",
              "1     2         8     female_olivia  0.051792\n",
              "2     3        10   female_isabella  0.050826\n",
              "3     4        20      female_emily  0.047817\n",
              "4     5        12        female_mia  0.046645\n",
              "5     6        13     female_amelia  0.045363\n",
              "6     7        22     female_harper  0.044910\n",
              "7     8         5       male_elijah  0.044560\n",
              "8     9        19    female_abigail  0.043734\n",
              "9    10        11     female_sophia  0.043454"
            ],
            "text/html": [
              "\n",
              "  <div id=\"df-705c83a1-a4ec-424f-976f-f15478ae9fad\">\n",
              "    <div class=\"colab-df-container\">\n",
              "      <div>\n",
              "<style scoped>\n",
              "    .dataframe tbody tr th:only-of-type {\n",
              "        vertical-align: middle;\n",
              "    }\n",
              "\n",
              "    .dataframe tbody tr th {\n",
              "        vertical-align: top;\n",
              "    }\n",
              "\n",
              "    .dataframe thead th {\n",
              "        text-align: right;\n",
              "    }\n",
              "</style>\n",
              "<table border=\"1\" class=\"dataframe\">\n",
              "  <thead>\n",
              "    <tr style=\"text-align: right;\">\n",
              "      <th></th>\n",
              "      <th>rank</th>\n",
              "      <th>node_id</th>\n",
              "      <th>label</th>\n",
              "      <th>score</th>\n",
              "    </tr>\n",
              "  </thead>\n",
              "  <tbody>\n",
              "    <tr>\n",
              "      <th>0</th>\n",
              "      <td>1</td>\n",
              "      <td>7</td>\n",
              "      <td>female_emma</td>\n",
              "      <td>0.052159</td>\n",
              "    </tr>\n",
              "    <tr>\n",
              "      <th>1</th>\n",
              "      <td>2</td>\n",
              "      <td>8</td>\n",
              "      <td>female_olivia</td>\n",
              "      <td>0.051792</td>\n",
              "    </tr>\n",
              "    <tr>\n",
              "      <th>2</th>\n",
              "      <td>3</td>\n",
              "      <td>10</td>\n",
              "      <td>female_isabella</td>\n",
              "      <td>0.050826</td>\n",
              "    </tr>\n",
              "    <tr>\n",
              "      <th>3</th>\n",
              "      <td>4</td>\n",
              "      <td>20</td>\n",
              "      <td>female_emily</td>\n",
              "      <td>0.047817</td>\n",
              "    </tr>\n",
              "    <tr>\n",
              "      <th>4</th>\n",
              "      <td>5</td>\n",
              "      <td>12</td>\n",
              "      <td>female_mia</td>\n",
              "      <td>0.046645</td>\n",
              "    </tr>\n",
              "    <tr>\n",
              "      <th>5</th>\n",
              "      <td>6</td>\n",
              "      <td>13</td>\n",
              "      <td>female_amelia</td>\n",
              "      <td>0.045363</td>\n",
              "    </tr>\n",
              "    <tr>\n",
              "      <th>6</th>\n",
              "      <td>7</td>\n",
              "      <td>22</td>\n",
              "      <td>female_harper</td>\n",
              "      <td>0.044910</td>\n",
              "    </tr>\n",
              "    <tr>\n",
              "      <th>7</th>\n",
              "      <td>8</td>\n",
              "      <td>5</td>\n",
              "      <td>male_elijah</td>\n",
              "      <td>0.044560</td>\n",
              "    </tr>\n",
              "    <tr>\n",
              "      <th>8</th>\n",
              "      <td>9</td>\n",
              "      <td>19</td>\n",
              "      <td>female_abigail</td>\n",
              "      <td>0.043734</td>\n",
              "    </tr>\n",
              "    <tr>\n",
              "      <th>9</th>\n",
              "      <td>10</td>\n",
              "      <td>11</td>\n",
              "      <td>female_sophia</td>\n",
              "      <td>0.043454</td>\n",
              "    </tr>\n",
              "  </tbody>\n",
              "</table>\n",
              "</div>\n",
              "      <button class=\"colab-df-convert\" onclick=\"convertToInteractive('df-705c83a1-a4ec-424f-976f-f15478ae9fad')\"\n",
              "              title=\"Convert this dataframe to an interactive table.\"\n",
              "              style=\"display:none;\">\n",
              "        \n",
              "  <svg xmlns=\"http://www.w3.org/2000/svg\" height=\"24px\"viewBox=\"0 0 24 24\"\n",
              "       width=\"24px\">\n",
              "    <path d=\"M0 0h24v24H0V0z\" fill=\"none\"/>\n",
              "    <path d=\"M18.56 5.44l.94 2.06.94-2.06 2.06-.94-2.06-.94-.94-2.06-.94 2.06-2.06.94zm-11 1L8.5 8.5l.94-2.06 2.06-.94-2.06-.94L8.5 2.5l-.94 2.06-2.06.94zm10 10l.94 2.06.94-2.06 2.06-.94-2.06-.94-.94-2.06-.94 2.06-2.06.94z\"/><path d=\"M17.41 7.96l-1.37-1.37c-.4-.4-.92-.59-1.43-.59-.52 0-1.04.2-1.43.59L10.3 9.45l-7.72 7.72c-.78.78-.78 2.05 0 2.83L4 21.41c.39.39.9.59 1.41.59.51 0 1.02-.2 1.41-.59l7.78-7.78 2.81-2.81c.8-.78.8-2.07 0-2.86zM5.41 20L4 18.59l7.72-7.72 1.47 1.35L5.41 20z\"/>\n",
              "  </svg>\n",
              "      </button>\n",
              "      \n",
              "  <style>\n",
              "    .colab-df-container {\n",
              "      display:flex;\n",
              "      flex-wrap:wrap;\n",
              "      gap: 12px;\n",
              "    }\n",
              "\n",
              "    .colab-df-convert {\n",
              "      background-color: #E8F0FE;\n",
              "      border: none;\n",
              "      border-radius: 50%;\n",
              "      cursor: pointer;\n",
              "      display: none;\n",
              "      fill: #1967D2;\n",
              "      height: 32px;\n",
              "      padding: 0 0 0 0;\n",
              "      width: 32px;\n",
              "    }\n",
              "\n",
              "    .colab-df-convert:hover {\n",
              "      background-color: #E2EBFA;\n",
              "      box-shadow: 0px 1px 2px rgba(60, 64, 67, 0.3), 0px 1px 3px 1px rgba(60, 64, 67, 0.15);\n",
              "      fill: #174EA6;\n",
              "    }\n",
              "\n",
              "    [theme=dark] .colab-df-convert {\n",
              "      background-color: #3B4455;\n",
              "      fill: #D2E3FC;\n",
              "    }\n",
              "\n",
              "    [theme=dark] .colab-df-convert:hover {\n",
              "      background-color: #434B5C;\n",
              "      box-shadow: 0px 1px 3px 1px rgba(0, 0, 0, 0.15);\n",
              "      filter: drop-shadow(0px 1px 2px rgba(0, 0, 0, 0.3));\n",
              "      fill: #FFFFFF;\n",
              "    }\n",
              "  </style>\n",
              "\n",
              "      <script>\n",
              "        const buttonEl =\n",
              "          document.querySelector('#df-705c83a1-a4ec-424f-976f-f15478ae9fad button.colab-df-convert');\n",
              "        buttonEl.style.display =\n",
              "          google.colab.kernel.accessAllowed ? 'block' : 'none';\n",
              "\n",
              "        async function convertToInteractive(key) {\n",
              "          const element = document.querySelector('#df-705c83a1-a4ec-424f-976f-f15478ae9fad');\n",
              "          const dataTable =\n",
              "            await google.colab.kernel.invokeFunction('convertToInteractive',\n",
              "                                                     [key], {});\n",
              "          if (!dataTable) return;\n",
              "\n",
              "          const docLinkHtml = 'Like what you see? Visit the ' +\n",
              "            '<a target=\"_blank\" href=https://colab.research.google.com/notebooks/data_table.ipynb>data table notebook</a>'\n",
              "            + ' to learn more about interactive tables.';\n",
              "          element.innerHTML = '';\n",
              "          dataTable['output_type'] = 'display_data';\n",
              "          await google.colab.output.renderOutput(dataTable, element);\n",
              "          const docLink = document.createElement('div');\n",
              "          docLink.innerHTML = docLinkHtml;\n",
              "          element.appendChild(docLink);\n",
              "        }\n",
              "      </script>\n",
              "    </div>\n",
              "  </div>\n",
              "  "
            ]
          },
          "metadata": {}
        }
      ],
      "metadata": {
        "id": "RhuqUsPeovHL",
        "outputId": "c2b31db5-0112-488b-ec37-312c2cc79994",
        "colab": {
          "base_uri": "https://localhost:8080/",
          "height": 363
        }
      }
    },
    {
      "cell_type": "markdown",
      "source": [
        "Note that there are $9$ female students among top-$10$ rankings in the graph.\n",
        "This implies that there would be a strong tie between female students with many connections from other students (remind the intuition behind PageRank that more important students are likely to receive more links from other students)."
      ],
      "metadata": {
        "id": "Ooq6RDGVovHM"
      }
    },
    {
      "cell_type": "markdown",
      "source": [
        "### Step 5. What is the problem of the dense matrix version?\n",
        "\n",
        "Before finishing this session, let's check the problem of the dense matrix version of PageRank `iterate_PageRank`.\n",
        "The main issue of the dense matrix version is a *scalability*, i.e., when we need to handle a large-scale network, that function requires intractable running time and memory space.\n",
        "More specifically, the function requires $O(n^{2})$ space from the row-normalized adjacency matrix `nA`, an $n \\times n$ matrix where $n$ is the number of nodes.\n",
        "Also, for each iteration, it requires $O(n^{2})$ time due to the dense matrix-vector multiplication `nAT.dot(old_p)`.\n",
        "\n",
        "One notable thing is that a (large) real-world network is extremely sparse.\n",
        "From many real-world networks, we can notice that the number $m$ of edges is constantly linear to the number $n$ of nodes, i.e., $m = cn$ where $c$ is a certain constant.\n",
        "If we can ignore storing $0$ values in a matrix (or only store non-zero values), we are able to reduce the time and space complexities to $O(m)$, which is much smaller than $O(n^2)$."
      ],
      "metadata": {
        "id": "KHv9bzpdovHN"
      }
    },
    {
      "cell_type": "markdown",
      "source": [
        "Let's check this point using another real-world network.\n",
        "First, open a medium size dataset at `./data/medium` which is another directed graph (we will not explain the details on this graph since we want to just check the sparsity of the real-world graph)."
      ],
      "metadata": {
        "id": "RUXT2QV-ovHO"
      }
    },
    {
      "cell_type": "code",
      "execution_count": null,
      "source": [
        "dpr = DensePageRank()\n",
        "dpr.load_graph_dataset('/content/drive/MyDrive/data/medium', is_undirected=False)\n",
        "print(\"The number n of nodes: {}\".format(dpr.n))\n",
        "print(\"The number m of edges: {}\".format(dpr.m))"
      ],
      "outputs": [
        {
          "output_type": "stream",
          "name": "stdout",
          "text": [
            "The number n of nodes: 2539\n",
            "The number m of edges: 12969\n"
          ]
        }
      ],
      "metadata": {
        "id": "9tWE1lfBovHO",
        "outputId": "897b004d-52d5-4d52-a079-b0491aaa2e51",
        "colab": {
          "base_uri": "https://localhost:8080/"
        }
      }
    },
    {
      "cell_type": "markdown",
      "source": [
        "Note that the number of edges are linearly proportional to that of nodes (i.e., $m \\simeq 5.1n$).\n",
        "According to the result, we can easily check $O(m)$ is much less than $O(n^2)$.\n",
        "To measure the sparsity of the network, we define the sparsity as follows:\n",
        "\n",
        "$$\n",
        "\\text{sparsity} = 1.0 - \\frac{m}{n^2}\n",
        "$$\n",
        "\n",
        "which is the portion of the empty area in the adjacency matrix with width $n$.\n",
        "Let's see the sparsity of the network using the above metric."
      ],
      "metadata": {
        "id": "T-ElKt_tovHQ"
      }
    },
    {
      "cell_type": "code",
      "execution_count": null,
      "source": [
        "class DensePageRank(DensePageRank):\n",
        "    def compute_sparsity(self):\n",
        "        sparsity = 1.0 - self.m/(self.n*self.n)\n",
        "        return sparsity\n",
        "\n",
        "dpr = DensePageRank()\n",
        "dpr.load_graph_dataset('/content/drive/MyDrive/data/medium', is_undirected=False)\n",
        "sparsity = dpr.compute_sparsity()\n",
        "print(\"The sparsity of the network: {:.4f}\".format(sparsity))"
      ],
      "outputs": [
        {
          "output_type": "stream",
          "name": "stdout",
          "text": [
            "The sparsity of the network: 0.9980\n"
          ]
        }
      ],
      "metadata": {
        "id": "BbsQzs2covHQ",
        "outputId": "1e41a7f8-d3b0-4485-c6ac-34863a3628ff",
        "colab": {
          "base_uri": "https://localhost:8080/"
        }
      }
    },
    {
      "cell_type": "markdown",
      "source": [
        "Note that the network is extremely sparse; there are many empty values in the adjacency matrix.\n",
        "We can visualize the adjacency matrix to inspect the sparsity pattern of the matrix using `spy` function of `matplotlib`.\n",
        "Let's check the following cell."
      ],
      "metadata": {
        "id": "8GjoYYZuovHS"
      }
    },
    {
      "cell_type": "code",
      "execution_count": null,
      "source": [
        "plt.figure(figsize=(10,10))      # resize the figure to be presented\n",
        "plt.spy(dpr.A, markersize=0.1)   # sparsity pattern of the matrix\n",
        "plt.show()"
      ],
      "outputs": [
        {
          "output_type": "display_data",
          "data": {
            "text/plain": [
              "<Figure size 1000x1000 with 1 Axes>"
            ],
            "image/png": "[encoded data removed]"
          },
          "metadata": {}
        }
      ],
      "metadata": {
        "id": "esX9bQbvovHS",
        "outputId": "eb823595-35e0-40bd-a094-17ea21ba2c77",
        "colab": {
          "base_uri": "https://localhost:8080/",
          "height": 839
        }
      }
    },
    {
      "cell_type": "markdown",
      "source": [
        "As shown in the above figure, the matrix has a small number of non-zero entries, i.e., it is sparse.\n",
        "The point is that we do not need to store all those zero values when constructing a matrix.\n",
        "We will learn how to ignore zero values in the next session."
      ],
      "metadata": {
        "id": "vhmpg1wtovHU"
      }
    },
    {
      "cell_type": "markdown",
      "source": [
        "-----\n",
        "## Session 1. Summary\n",
        "\n",
        "In this session, we implemented PageRank (the dense matrix version) in Python.\n",
        "More specifically, we are able to answer the following goals now.\n",
        "* **Goal 1.** How to implement PageRank based on dense matrices using `numpy` in Python\n",
        "    - We implemented the iterative algorithm for PageRank based on dense matrices.\n",
        "* **Goal 2.** How to verify your PageRank implementation\n",
        "    - We learned several techniques (e.g., residual check and comparison with the exact solution) for the validtation.\n",
        "* **Goal 3.** To understand the problem of the dense matrix version\n",
        "    - We explored how real-world networks are sparse quantitatively and visually."
      ],
      "metadata": {
        "id": "DNI1SqnWovHU"
      }
    }
  ],
  "metadata": {
    "anaconda-cloud": {},
    "colab": {
      "provenance": []
    },
    "kernelspec": {
      "name": "python3",
      "display_name": "Python 3.9.11 64-bit"
    },
    "language_info": {
      "codemirror_mode": {
        "name": "ipython",
        "version": 3
      },
      "file_extension": ".py",
      "mimetype": "text/x-python",
      "name": "python",
      "nbconvert_exporter": "python",
      "pygments_lexer": "ipython3",
      "version": "3.9.11"
    },
    "interpreter": {
      "hash": "5c8a46471b4787ca2eb59fae70df0f0bf36ba0bbd4d41f35b955e37c9ac4b07c"
    }
  },
  "nbformat": 4,
  "nbformat_minor": 0
}