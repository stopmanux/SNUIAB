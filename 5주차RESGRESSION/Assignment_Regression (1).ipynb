{
  "nbformat": 4,
  "nbformat_minor": 0,
  "metadata": {
    "colab": {
      "provenance": []
    },
    "kernelspec": {
      "display_name": "Python 3",
      "language": "python",
      "name": "python3"
    },
    "language_info": {
      "codemirror_mode": {
        "name": "ipython",
        "version": 3
      },
      "file_extension": ".py",
      "mimetype": "text/x-python",
      "name": "python",
      "nbconvert_exporter": "python",
      "pygments_lexer": "ipython3",
      "version": "3.7.0"
    }
  },
  "cells": [
    {
      "cell_type": "markdown",
      "metadata": {
        "id": "AHu7bBuqOezk"
      },
      "source": [
        "# **Assignment: General Linear Regression**"
      ]
    },
    {
      "cell_type": "markdown",
      "metadata": {
        "id": "vzo8IVEOOezl"
      },
      "source": [
        "In this assignment, you will perform regression on a given training data set. We will provide the skeleton code to help you through the procedure. Complete the code in the missing spaces shown below. Once you are done, run the last cell to plot your results.\n",
        "# ***DO NOT change anything outside the indicated areas.*** <br>\n",
        "(We will not grade your assignment based on the performance of your model. Instead we will check if you implemented the code correctly.)"
      ]
    },
    {
      "cell_type": "code",
      "metadata": {
        "id": "TEGjphpVOezm"
      },
      "source": [
        "from mpl_toolkits.mplot3d import Axes3D\n",
        "import matplotlib.pyplot as plt\n",
        "import numpy as np\n",
        "%matplotlib inline\n",
        "\n",
        "import torch\n",
        "import torch.nn as nn\n",
        "print(\"Done\")"
      ],
      "execution_count": null,
      "outputs": []
    },
    {
      "cell_type": "markdown",
      "metadata": {
        "id": "lxSPwD7bOezm"
      },
      "source": [
        "We have generated 50 data points by adding Gaussian noise into the following function: <br>\n",
        "$f(x_{1}, x_{2}) = a + b\\cdot exp(x_{1}) + c\\cdot sin(x_{}2) + d\\cdot x_{1}x_{2}$, where $a, b, c, d\\in \\mathbf{R}$ and $x=[x_{1}, x_{2}]^{T}\\in \\mathbf{R}^{2}$ <br>\n",
        "# **OBJECTIVE: find the original values of the scalars (a, b, c, d).**\n",
        "(All four scalars were originally created using the formula np.random.uniform(-5, 5), that is, they are bounded in [-5, 5].)"
      ]
    },
    {
      "cell_type": "code",
      "metadata": {
        "id": "Rtgr7U7DOezm"
      },
      "source": [
        "X_data = np.array([[ 9.55979024e-01,  7.69917408e-02],       [ 2.24092732e-03, -8.55897733e-01],       [-4.63122040e-01, -2.34998349e-04],       [ 3.58459992e-01,  6.07478072e-01],       [-2.38117734e-01, -8.68127306e-01],       [-4.23708801e-01,  8.19187055e-01],       [-5.73229293e-01, -9.57520764e-02],       [ 8.62412039e-01, -9.50201545e-01],       [ 2.01097835e-01,  9.00259001e-01],       [-5.39394242e-01,  9.69798385e-02],       [ 8.18256750e-01, -7.33661108e-01],       [ 4.68251613e-02,  5.00819718e-01],       [ 3.38026482e-01, -6.44942805e-02],       [-5.90301819e-01, -1.84682218e-02],       [-2.55230621e-01, -4.51976903e-02],       [-2.68219228e-01,  6.75835989e-01],       [ 5.37295013e-01, -3.72010646e-01],       [ 1.45250665e-01, -4.47901903e-01],       [-9.43141349e-02, -2.94043268e-01],       [ 3.14798926e-01, -2.59297834e-01],       [-8.18140442e-02,  4.38648245e-01],       [-1.74016342e-01,  8.12846538e-01],       [-6.39096762e-01,  4.82237746e-01],       [-1.55251913e-01, -1.47092855e-01],       [ 2.68759737e-01,  4.58124021e-02],       [-1.70228043e-01, -9.97146239e-01],       [-8.15475308e-01,  4.18788787e-01],       [ 4.86911935e-02,  3.92320927e-01],       [ 9.10936646e-01,  3.65827709e-01],       [-8.93742619e-01, -3.82294630e-01],       [ 1.85189375e-01, -5.29759185e-01],       [ 9.29941999e-01,  8.90096448e-01],       [ 6.96801762e-01, -5.53520074e-02],       [ 6.82953430e-01, -7.37778715e-01],       [-3.82532685e-01, -7.40072117e-02],       [ 4.83694401e-01, -2.83495426e-02],       [-7.26247762e-01, -3.12926941e-01],       [-3.51147661e-01, -3.99162191e-01],       [-6.68997199e-01, -1.70196455e-01],       [-1.03758685e-01,  5.49800752e-01],       [ 5.92781402e-01,  4.47802560e-02],       [-7.87394077e-02,  5.56427203e-01],       [ 7.74577904e-01,  3.49837540e-01],       [ 6.00958098e-01,  8.78222707e-01],       [-9.18688381e-01,  7.51343450e-01],       [-4.46873855e-01, -4.84710012e-02],       [ 5.93521914e-01,  4.34484465e-01],       [-7.05704856e-01,  3.17496518e-01],       [-8.61495860e-01, -2.85858743e-01],       [ 6.25659100e-01, -1.44590334e-01]])\n",
        "Y_data = np.array([[ 6.22063751],       [ 0.36820962],       [-1.37746567],       [ 1.25737619],       [-1.12338287],       [-3.7814721 ],       [-3.82475957],       [ 0.95209517],       [ 3.62767366],       [-1.04316065],       [ 0.49422937],       [-2.49071296],       [-2.04996054],       [-1.90124256],       [-1.23158231],       [-5.77287031],       [ 1.30341816],       [-2.01772604],       [ 1.40425478],       [-0.11287428],       [ 1.43605377],       [-3.56444959],       [-4.30990765],       [-1.09933642],       [ 1.53657901],       [ 0.15251726],       [-6.47914478],       [-1.12505413],       [ 3.29253909],       [-2.95656096],       [-2.07245363],       [ 7.72345787],       [ 0.54906812],       [-1.09884797],       [-0.94447352],       [ 0.55158372],       [-2.33706344],       [-0.15143156],       [-1.46710116],       [-1.43853105],       [ 2.78699858],       [-1.50561015],       [ 0.99700875],       [ 0.84924811],       [-6.12476908],       [-1.94879809],       [-1.00836708],       [-7.21261402],       [-2.15387403],       [-1.79035053]])\n",
        "print(f'X_data: {X_data.shape} \\t{type(X_data)}')\n",
        "print(f'y_data: {Y_data.shape} \\t{type(Y_data)}')\n",
        "print(\"Done\")"
      ],
      "execution_count": null,
      "outputs": []
    },
    {
      "cell_type": "markdown",
      "metadata": {
        "id": "ieFaT24MOezn"
      },
      "source": [
        "1. We start by having a look at how the training data looks like. Set any number you want into the variables \"angle1\" and \"angle2\" to view the data from different perspectives."
      ]
    },
    {
      "cell_type": "code",
      "metadata": {
        "id": "Xeo46kczOezn"
      },
      "source": [
        "def plot_train_data(X, y, angle1, angle2):\n",
        "    assert X_data.shape == (50, 2)\n",
        "    assert Y_data.shape == (50, 1)\n",
        "    fig = plt.figure(figsize=(8, 8))\n",
        "    ax = fig.add_subplot(projection='3d')\n",
        "    ax.plot3D(X_data[:, 0].flatten(), X_data[:, 1].flatten(), Y_data.flatten(), 'r.', label=\"Data\")\n",
        "    plt.legend()\n",
        "    ax.set_xlim3d(-1.5, 1.5)\n",
        "    ax.set_ylim3d(-1.5, 1.5)\n",
        "    ax.view_init(angle1, angle2)\n",
        "    plt.show()\n",
        "    \n",
        "############# COMPLETE THE CODE BELOW #############\n",
        "angle1 = 30\n",
        "angle2 = 30\n",
        "###################################################\n",
        "plot_train_data(X_data, Y_data, angle1, angle2)\n",
        "print(\"Done\")"
      ],
      "execution_count": null,
      "outputs": []
    },
    {
      "cell_type": "markdown",
      "metadata": {
        "id": "lhQCcB1OOezo"
      },
      "source": [
        "## Step 0.5: Basis Function Matrix"
      ]
    },
    {
      "cell_type": "markdown",
      "metadata": {
        "id": "zqXs72BJQUkJ"
      },
      "source": [
        "2. Define the basis function matrix based on the function above <br>\n",
        "HINT: You should output a matrix where each column represents a term in given function $f(x_1, x_2)$"
      ]
    },
    {
      "cell_type": "code",
      "metadata": {
        "id": "nBczq_ZEOezp"
      },
      "source": [
        "def kernelize(X):\n",
        "    n = X.shape[0]\n",
        "    out = np.zeros((n, 4))\n",
        "    assert X.shape == (n, 2)\n",
        "    \n",
        "    ############# COMPLETE THE CODE BELOW #############\n",
        "    out[:, 0] += \n",
        "    out[:, 1] += \n",
        "    out[:, 2] += \n",
        "    out[:, 3] += \n",
        "    ###################################################\n",
        "    \n",
        "    return out\n",
        "X_data_kernel = kernelize(X_data)\n",
        "print(X_data_kernel.shape)\n",
        "print(\"Done\")"
      ],
      "execution_count": null,
      "outputs": []
    },
    {
      "cell_type": "markdown",
      "metadata": {
        "id": "D4IuBJIUOezp"
      },
      "source": [
        "## Step 1: Numpy to PyTorch transformation"
      ]
    },
    {
      "cell_type": "markdown",
      "metadata": {
        "id": "840ulzfXRHoV"
      },
      "source": [
        "3. X_data and Y_data are based on the numpy array. Transform this into PyTorch tensor format <br>(Hint: Look at the class code \"Linear Regression.ipynb\")"
      ]
    },
    {
      "cell_type": "code",
      "metadata": {
        "id": "wZSzjj5SOezp"
      },
      "source": [
        "############# COMPLETE THE CODE BELOW #############\n",
        "X_data_tensor = \n",
        "Y_data_tensor = \n",
        "###################################################\n",
        "\n",
        "assert X_data_tensor.shape == (50, 4)\n",
        "assert Y_data_tensor.shape == (50, 1)\n",
        "print(\"Done\")"
      ],
      "execution_count": null,
      "outputs": []
    },
    {
      "cell_type": "markdown",
      "metadata": {
        "id": "yNLWjL-hOezp"
      },
      "source": [
        "## Step 2: Create linear model"
      ]
    },
    {
      "cell_type": "markdown",
      "metadata": {
        "id": "Ze92DjI-SVPm"
      },
      "source": [
        "4. Specify number of dimensions for both input and output data. Also set linear model.<br>\n",
        "Be aware that linear model of pytorch includes bias value which should not be included."
      ]
    },
    {
      "cell_type": "code",
      "metadata": {
        "id": "8qDBeuikOezq"
      },
      "source": [
        "############# COMPLETE THE CODE BELOW #############\n",
        "input_size = \n",
        "output_size = \n",
        "model = \n",
        "###################################################\n",
        "print(model.weight)\n",
        "print(model.bias) # should output None, since bias should be False in this case\n",
        "print(\"Done\")"
      ],
      "execution_count": null,
      "outputs": []
    },
    {
      "cell_type": "markdown",
      "metadata": {
        "id": "FVeN3ongOezq"
      },
      "source": [
        "## Step 3: Set loss and optimizing methods"
      ]
    },
    {
      "cell_type": "markdown",
      "metadata": {
        "id": "rzL6PcD6SpVR"
      },
      "source": [
        "5. Set parameters learning rate, loss method, and optimizer. <br>\n",
        "Hint: Your learning rate should be set low enough that your algorithm shows convergence."
      ]
    },
    {
      "cell_type": "code",
      "metadata": {
        "id": "cOud7xzfOezq"
      },
      "source": [
        "############# COMPLETE THE CODE BELOW #############\n",
        "learning_rate = \n",
        "loss_method = \n",
        "optimizer = \n",
        "###################################################\n",
        "print(\"Done\")"
      ],
      "execution_count": null,
      "outputs": []
    },
    {
      "cell_type": "markdown",
      "metadata": {
        "id": "ZEpRggw1Oezq"
      },
      "source": [
        "## Step 4: Train the model"
      ]
    },
    {
      "cell_type": "markdown",
      "metadata": {
        "id": "hZUt_y9CmFq5"
      },
      "source": [
        "6. Write code forward pass, loss, backward pass, update parameters\n"
      ]
    },
    {
      "cell_type": "code",
      "metadata": {
        "id": "CgKKZnOnOezr"
      },
      "source": [
        "# Set the number of epochs\n",
        "num_epochs = 3000\n",
        "\n",
        "for epoch in range(num_epochs):\n",
        "    \n",
        "    ############# COMPLETE THE CODE BELOW #############\n",
        "    # Compute forward pass\n",
        "    \n",
        "    # Compute loss\n",
        "\n",
        "    # Compute backward pass\n",
        "    \n",
        "    # Update parameters\n",
        "    \n",
        "    ###################################################\n",
        "    \n",
        "    # Print progress\n",
        "    if (epoch + 1) % 300 == 0:\n",
        "        print(f'Epoch: {epoch+1}\\tLoss = {loss.item():.5f}')\n",
        "print(\"Done\")"
      ],
      "execution_count": null,
      "outputs": []
    },
    {
      "cell_type": "markdown",
      "metadata": {
        "id": "57Xs33lWOezr"
      },
      "source": [
        "## Step 5: Plot the results"
      ]
    },
    {
      "cell_type": "markdown",
      "metadata": {
        "id": "FjxcUbYLmCLO"
      },
      "source": [
        "7. Extract weight values from model"
      ]
    },
    {
      "cell_type": "code",
      "metadata": {
        "id": "8GXGP8onOezr"
      },
      "source": [
        "_, weight_dims = X_data_kernel.shape\n",
        "weight = []\n",
        "############# COMPLETE THE CODE BELOW #############\n",
        "for i in range(weight_dims):\n",
        "    \n",
        "###################################################\n",
        "weight = np.array(weight)\n",
        "assert weight.shape == (4, )\n",
        "print(weight)\n",
        "print(\"Done\")"
      ],
      "execution_count": null,
      "outputs": []
    },
    {
      "cell_type": "markdown",
      "metadata": {
        "id": "7U6gC3eLmRtR"
      },
      "source": [
        "## Step 6: Check your result"
      ]
    },
    {
      "cell_type": "code",
      "metadata": {
        "id": "mdfvAIMIOezr"
      },
      "source": [
        "def plot_3D(X, y, w, x_low=-1.5, x_high=1.5):\n",
        "    '''\n",
        "    Plot the surface of the ground truth function and the points of the training data.\n",
        "    The surface function is given by f(x) = a + b*exp(x1) + c*sin(x2) + d*x1*x2\n",
        "    '''\n",
        "    # Check if parameters and dataset have the correct conditions\n",
        "    n = len(y)\n",
        "    assert weight.shape == (4, )\n",
        "    assert X.shape == (n, 2)\n",
        "    assert y.shape == (n, 1)\n",
        "    \n",
        "    # Create surface points\n",
        "    x1 = np.linspace(x_low, x_high, 100).reshape(-1, 1)\n",
        "    x2 = np.linspace(x_low, x_high, 100).reshape(-1, 1)\n",
        "    X2, X1 = np.meshgrid(x1,x2)\n",
        "    X_true = kernelize(np.concatenate([np.reshape(X1,[-1,1]), np.reshape(X2,[-1,1])], axis=1))\n",
        "    Y_true = np.zeros((100, 100))\n",
        "    X_true_tensor = torch.from_numpy(X_true.astype(np.float32))\n",
        "    Y_predict = model(X_true_tensor)\n",
        "    k = 0\n",
        "    for i in range(100):\n",
        "        for j in range(100):\n",
        "            Y_true[i, j] += Y_predict[k].item()\n",
        "            k += 1\n",
        "    \n",
        "    # Create data points\n",
        "    X_data = X.copy()\n",
        "    Y_data = y.copy()\n",
        "    x1_data = X_data[:, 0]\n",
        "    x2_data = X_data[:, 1]\n",
        "    \n",
        "    # Plot\n",
        "    fig = plt.figure(figsize=(20, 20))\n",
        "    for i in range(9):\n",
        "        ax = fig.add_subplot(3, 3, i+1, projection='3d')\n",
        "        ax.plot_surface(X1, X2, Y_true)\n",
        "        ax.plot3D(x1_data.flatten(), x2_data.flatten(), Y_data.flatten(), 'r.', label=\"Data\")\n",
        "        plt.legend()\n",
        "        ax.set_xlim3d(x_low, x_high)\n",
        "        ax.set_ylim3d(x_low, x_high)\n",
        "        ax.view_init((i%3)*20, (i//3)*30)\n",
        "    plt.show()\n",
        "  \n",
        "plot_3D(X_data, Y_data, weight)"
      ],
      "execution_count": null,
      "outputs": []
    }
  ]
}