{
  "nbformat": 4,
  "nbformat_minor": 0,
  "metadata": {
    "kernelspec": {
      "display_name": "Python 3",
      "language": "python",
      "name": "python3"
    },
    "language_info": {
      "codemirror_mode": {
        "name": "ipython",
        "version": 3
      },
      "file_extension": ".py",
      "mimetype": "text/x-python",
      "name": "python",
      "nbconvert_exporter": "python",
      "pygments_lexer": "ipython3",
      "version": "3.6.2"
    },
    "colab": {
      "name": "Basics_of_Python_Numpy_Matplotlib_sol.ipynb",
      "provenance": [],
      "collapsed_sections": [
        "ouTmyACFHOCs",
        "6aYCJ7mtHOCv"
      ]
    }
  },
  "cells": [
    {
      "cell_type": "markdown",
      "metadata": {
        "id": "nBdyogprHOCc"
      },
      "source": [
        "# IoT·인공지능·빅데이터 개론 및 실습 (M2177.004900_001) <br> 3/4 Basics of Python, Numpy, and Matplotlib\n",
        "\n",
        "Adapted by Seonwoo Min from the IPython version of the `CS231n` Python tutorial (http://cs231n.github.io/python-numpy-tutorial/).\n",
        "\n",
        "In this excercise, we will cover:\n",
        "\n",
        "* Basic Python: List, Dictionary, Function, Class\n",
        "* Numpy: Array, Array indexing, Array math\n",
        "* Matplotlib: Plotting, Subplot"
      ]
    },
    {
      "cell_type": "markdown",
      "metadata": {
        "id": "KZx-5XtXHOCf"
      },
      "source": [
        "## 1. Basic Python"
      ]
    },
    {
      "cell_type": "markdown",
      "metadata": {
        "id": "ZEmZgThvHOCg"
      },
      "source": [
        "### List\n",
        "A list is the Python equivalent of an array, but is resizeable and can contain elements of different types"
      ]
    },
    {
      "cell_type": "code",
      "metadata": {
        "colab": {
          "base_uri": "https://localhost:8080/"
        },
        "id": "IhdE5gs1HOCh",
        "outputId": "b5c23c96-9de7-4f00-ed75-8bf2786d5c82"
      },
      "source": [
        "#############################################################\n",
        "# General Usage\n",
        "#############################################################\n",
        "xs = [3, 1, 2]\n",
        "\n",
        "# Print the last indice\n",
        "# Negative indices count from the end of the list\n",
        "print(xs[-1])"
      ],
      "execution_count": null,
      "outputs": [
        {
          "output_type": "stream",
          "name": "stdout",
          "text": [
            "2\n"
          ]
        }
      ]
    },
    {
      "cell_type": "code",
      "metadata": {
        "colab": {
          "base_uri": "https://localhost:8080/"
        },
        "id": "UvM_iK4EHOCh",
        "outputId": "bc81251e-ff17-43a7-a157-023846c18547"
      },
      "source": [
        "# Add a new element to the end of the list\n",
        "xs.append('bar') \n",
        "print(xs)"
      ],
      "execution_count": null,
      "outputs": [
        {
          "output_type": "stream",
          "name": "stdout",
          "text": [
            "[3, 1, 2, 'bar']\n"
          ]
        }
      ]
    },
    {
      "cell_type": "code",
      "metadata": {
        "colab": {
          "base_uri": "https://localhost:8080/"
        },
        "id": "cI0F1sbXHOCi",
        "outputId": "a768b43b-01da-46e0-c8a3-63a486b22028"
      },
      "source": [
        "# Remove and return the last element of the list\n",
        "x = xs.pop()    \n",
        "print(x, xs)"
      ],
      "execution_count": null,
      "outputs": [
        {
          "output_type": "stream",
          "name": "stdout",
          "text": [
            "bar [3, 1, 2]\n"
          ]
        }
      ]
    },
    {
      "cell_type": "code",
      "metadata": {
        "colab": {
          "base_uri": "https://localhost:8080/"
        },
        "id": "uFSf2baQHOCj",
        "outputId": "3b3571b2-5302-4eeb-e4a4-de53b62d9ed5"
      },
      "source": [
        "#############################################################\n",
        "# Slicing\n",
        "#############################################################\n",
        "# Create a list containing [0, 1, 2, 3, 4, 5]\n",
        "# range is a built-in function that creates a list of integers\n",
        "nums = list(range(5))    \n",
        "print(nums)"
      ],
      "execution_count": null,
      "outputs": [
        {
          "output_type": "stream",
          "name": "stdout",
          "text": [
            "[0, 1, 2, 3, 4]\n"
          ]
        }
      ]
    },
    {
      "cell_type": "code",
      "metadata": {
        "scrolled": true,
        "colab": {
          "base_uri": "https://localhost:8080/"
        },
        "id": "1yXNcp0mHOCj",
        "outputId": "381c0219-6c93-4d89-d42d-3cf4a7d6b606"
      },
      "source": [
        "# Get a slice from index 2 to 4 (exclusive); prints \"[2, 3]\"\n",
        "print(nums[2:4])"
      ],
      "execution_count": null,
      "outputs": [
        {
          "output_type": "stream",
          "name": "stdout",
          "text": [
            "[2, 3]\n"
          ]
        }
      ]
    },
    {
      "cell_type": "code",
      "metadata": {
        "colab": {
          "base_uri": "https://localhost:8080/"
        },
        "id": "2dAUBYMjHOCk",
        "outputId": "f441a3cc-60d0-4e59-d5a1-7c9f223e67be"
      },
      "source": [
        "# Get a slice from index 2 to the end; prints \"[2, 3, 4]\"\n",
        "print(nums[2:])"
      ],
      "execution_count": null,
      "outputs": [
        {
          "output_type": "stream",
          "name": "stdout",
          "text": [
            "[2, 3, 4]\n"
          ]
        }
      ]
    },
    {
      "cell_type": "code",
      "metadata": {
        "colab": {
          "base_uri": "https://localhost:8080/"
        },
        "id": "olIQEEa_HOCk",
        "outputId": "c14c4fac-ee47-4485-88a0-aa7839047f7d"
      },
      "source": [
        "# Get a slice from the start to index 2 (exclusive); prints \"[0, 1]\"\n",
        "print(nums[:2])"
      ],
      "execution_count": null,
      "outputs": [
        {
          "output_type": "stream",
          "name": "stdout",
          "text": [
            "[0, 1]\n"
          ]
        }
      ]
    },
    {
      "cell_type": "code",
      "metadata": {
        "colab": {
          "base_uri": "https://localhost:8080/"
        },
        "id": "Q1o5d_e9HOCl",
        "outputId": "f1f4dde4-2dd1-449c-ab74-2484a91f5091"
      },
      "source": [
        "# Get a slice of the whole list; prints [\"0, 1, 2, 3, 4]\"\n",
        "print(nums[:])"
      ],
      "execution_count": null,
      "outputs": [
        {
          "output_type": "stream",
          "name": "stdout",
          "text": [
            "[0, 1, 2, 3, 4]\n"
          ]
        }
      ]
    },
    {
      "cell_type": "code",
      "metadata": {
        "colab": {
          "base_uri": "https://localhost:8080/"
        },
        "id": "I_xwPkl4HOCl",
        "outputId": "5d4fc2c7-6980-466b-e087-0d235c18ab63"
      },
      "source": [
        "# Assign a new sublist to a slice; change nums into [0, 1, 8, 9, 4]\n",
        "nums[2:4] = [8, 9] \n",
        "print(nums)"
      ],
      "execution_count": null,
      "outputs": [
        {
          "output_type": "stream",
          "name": "stdout",
          "text": [
            "[0, 1, 8, 9, 4]\n"
          ]
        }
      ]
    },
    {
      "cell_type": "code",
      "metadata": {
        "colab": {
          "base_uri": "https://localhost:8080/"
        },
        "id": "u4UejL-WHOCm",
        "outputId": "a3f20bd3-ea06-488a-d7df-a462ec42aa3d"
      },
      "source": [
        "#############################################################\n",
        "# Loop & Enumerate\n",
        "#############################################################\n",
        "animals = ['cat', 'dog', 'monkey']\n",
        "\n",
        "# Loop over and print the elements of the list:\n",
        "for animal in animals:\n",
        "    print(animal)"
      ],
      "execution_count": null,
      "outputs": [
        {
          "output_type": "stream",
          "name": "stdout",
          "text": [
            "cat\n",
            "dog\n",
            "monkey\n"
          ]
        }
      ]
    },
    {
      "cell_type": "code",
      "metadata": {
        "colab": {
          "base_uri": "https://localhost:8080/"
        },
        "id": "8Hy6ARH7HOCm",
        "outputId": "d7d8f794-5430-4de7-8a24-8a5f4c32c580"
      },
      "source": [
        "# Loop over and print the index and value of each elements of the list:\n",
        "for idx, animal in enumerate(animals):\n",
        "    print('#%d: %s' % (idx + 1, animal))"
      ],
      "execution_count": null,
      "outputs": [
        {
          "output_type": "stream",
          "name": "stdout",
          "text": [
            "#1: cat\n",
            "#2: dog\n",
            "#3: monkey\n"
          ]
        }
      ]
    },
    {
      "cell_type": "code",
      "metadata": {
        "colab": {
          "base_uri": "https://localhost:8080/"
        },
        "id": "dYEdPBPoHOCn",
        "outputId": "4667789a-642a-4e26-9cfd-112b7215fb83"
      },
      "source": [
        "#############################################################\n",
        "# List comprehensions\n",
        "#############################################################\n",
        "nums = [0, 1, 2, 3, 4]\n",
        "squares = []\n",
        "for x in nums:\n",
        "    squares.append(x ** 2)\n",
        "print(squares)"
      ],
      "execution_count": null,
      "outputs": [
        {
          "output_type": "stream",
          "name": "stdout",
          "text": [
            "[0, 1, 4, 9, 16]\n"
          ]
        }
      ]
    },
    {
      "cell_type": "code",
      "metadata": {
        "colab": {
          "base_uri": "https://localhost:8080/"
        },
        "id": "qt41HggtHOCn",
        "outputId": "3818c969-024f-4b1f-c9b3-3e238a1882a6"
      },
      "source": [
        "# Make this code simpler using a list comprehension\n",
        "squares = [x ** 2 for x in nums]\n",
        "print(squares)"
      ],
      "execution_count": null,
      "outputs": [
        {
          "output_type": "stream",
          "name": "stdout",
          "text": [
            "[0, 1, 4, 9, 16]\n"
          ]
        }
      ]
    },
    {
      "cell_type": "code",
      "metadata": {
        "colab": {
          "base_uri": "https://localhost:8080/"
        },
        "id": "PQ_DerWZHOCn",
        "outputId": "aff2efd4-2ad1-4244-d2f0-c4ec4c465623"
      },
      "source": [
        "# Make a list of squares of even numbers in the list\n",
        "# List comprehensions can also contain conditions\n",
        "even_squares = [x ** 2 for x in nums if x % 2 == 0]\n",
        "print(even_squares)"
      ],
      "execution_count": null,
      "outputs": [
        {
          "output_type": "stream",
          "name": "stdout",
          "text": [
            "[0, 4, 16]\n"
          ]
        }
      ]
    },
    {
      "cell_type": "markdown",
      "metadata": {
        "id": "6GcNDTV8HOCo"
      },
      "source": [
        "### Dictionary\n",
        "A dictionary stores (key, value) pairs"
      ]
    },
    {
      "cell_type": "code",
      "metadata": {
        "collapsed": true,
        "id": "jD8tkxANHOCo"
      },
      "source": [
        "#############################################################\n",
        "# General Usage\n",
        "#############################################################\n",
        "# Create a dictionary containing the followings key:value pairs\n",
        "# cat:cute  /  dog:furry\n",
        "d = {'cat': 'cute', 'dog': 'furry'}"
      ],
      "execution_count": null,
      "outputs": []
    },
    {
      "cell_type": "code",
      "metadata": {
        "scrolled": true,
        "colab": {
          "base_uri": "https://localhost:8080/"
        },
        "id": "1rIF7rqiHOCp",
        "outputId": "b8e78b46-8c78-4ed3-f79c-527c605a5fd6"
      },
      "source": [
        "# print an entry 'cat' from a dictionary; prints 'cute'\n",
        "print(d['cat'])"
      ],
      "execution_count": null,
      "outputs": [
        {
          "output_type": "stream",
          "name": "stdout",
          "text": [
            "cute\n"
          ]
        }
      ]
    },
    {
      "cell_type": "code",
      "metadata": {
        "collapsed": true,
        "id": "4UamEtDSHOCp"
      },
      "source": [
        "# Add another key:value pair\n",
        "# fish:wet\n",
        "d['fish'] = 'wet'"
      ],
      "execution_count": null,
      "outputs": []
    },
    {
      "cell_type": "code",
      "metadata": {
        "colab": {
          "base_uri": "https://localhost:8080/"
        },
        "id": "4G86ObsrHOCq",
        "outputId": "6662b32d-29c8-4880-a852-adbe3866f6d6"
      },
      "source": [
        "# Get an element with a default; prints \"N/A\" if not exists\n",
        "# fish / monkey\n",
        "print(d.get('fish', 'N/A'))    \n",
        "print(d.get('monkey', 'N/A'))"
      ],
      "execution_count": null,
      "outputs": [
        {
          "output_type": "stream",
          "name": "stdout",
          "text": [
            "wet\n",
            "N/A\n"
          ]
        }
      ]
    },
    {
      "cell_type": "code",
      "metadata": {
        "colab": {
          "base_uri": "https://localhost:8080/"
        },
        "id": "r2S8Tdm_HOCr",
        "outputId": "675de535-7a71-43d0-9bde-8f0152e93f22"
      },
      "source": [
        "# Remove 'fish' from the dictionary\n",
        "del d['fish']       \n",
        "print(d)"
      ],
      "execution_count": null,
      "outputs": [
        {
          "output_type": "stream",
          "name": "stdout",
          "text": [
            "{'cat': 'cute', 'dog': 'furry'}\n"
          ]
        }
      ]
    },
    {
      "cell_type": "code",
      "metadata": {
        "colab": {
          "base_uri": "https://localhost:8080/"
        },
        "id": "LQ2nqVuhHOCr",
        "outputId": "882aff0e-b510-4be2-8382-5f85ae98c6cd"
      },
      "source": [
        "#############################################################\n",
        "# Loop & Dictionary comprehensions\n",
        "#############################################################\n",
        "d = {'person': 2, 'cat': 4, 'spider': 8}\n",
        "\n",
        "# Loop over keys of the dictionary\n",
        "# Access the values with the keys\n",
        "for animal in d:\n",
        "    legs = d[animal]\n",
        "    print('A %s has %d legs' % (animal, legs))"
      ],
      "execution_count": null,
      "outputs": [
        {
          "output_type": "stream",
          "name": "stdout",
          "text": [
            "A person has 2 legs\n",
            "A cat has 4 legs\n",
            "A spider has 8 legs\n"
          ]
        }
      ]
    },
    {
      "cell_type": "code",
      "metadata": {
        "colab": {
          "base_uri": "https://localhost:8080/"
        },
        "id": "N-G4blCDHOCs",
        "outputId": "3dac7675-0be6-4644-97da-81bd1ccf0247"
      },
      "source": [
        "# Loop over keys and values of the dictionary\n",
        "for animal, legs in d.items():\n",
        "    print('A %s has %d legs' % (animal, legs))"
      ],
      "execution_count": null,
      "outputs": [
        {
          "output_type": "stream",
          "name": "stdout",
          "text": [
            "A person has 2 legs\n",
            "A cat has 4 legs\n",
            "A spider has 8 legs\n"
          ]
        }
      ]
    },
    {
      "cell_type": "code",
      "metadata": {
        "colab": {
          "base_uri": "https://localhost:8080/"
        },
        "id": "a44EzA4_HOCs",
        "outputId": "a10d44d5-6f16-45b4-9c7e-4d01f82460b7"
      },
      "source": [
        "# Make a dictionary of key:squares of even numbers in the list\n",
        "# Dictionary comprehensions can also contain conditions\n",
        "nums = [0, 1, 2, 3, 4]\n",
        "even_num_to_square = {x: x ** 2 for x in nums if x % 2 == 0}\n",
        "print(even_num_to_square)"
      ],
      "execution_count": null,
      "outputs": [
        {
          "output_type": "stream",
          "name": "stdout",
          "text": [
            "{0: 0, 2: 4, 4: 16}\n"
          ]
        }
      ]
    },
    {
      "cell_type": "markdown",
      "metadata": {
        "id": "ouTmyACFHOCs"
      },
      "source": [
        "### Function\n",
        "Python functions are defined using the `def` keyword"
      ]
    },
    {
      "cell_type": "code",
      "metadata": {
        "scrolled": false,
        "colab": {
          "base_uri": "https://localhost:8080/"
        },
        "id": "GrvgsWF4HOCt",
        "outputId": "a7651664-f9de-469b-ae12-bdd68055a47c"
      },
      "source": [
        "#############################################################\n",
        "# General Usage\n",
        "#############################################################\n",
        "# Define a function called sign with argument <x>\n",
        "# print 'positive' if x > 0\n",
        "# print 'negative' if x < 0\n",
        "# print 'zero' if x = 0\n",
        "def sign(x):\n",
        "    if x > 0:\n",
        "        return 'positive'\n",
        "    elif x < 0:\n",
        "        return 'negative'\n",
        "    else:\n",
        "        return 'zero'\n",
        "\n",
        "for x in [-1, 0, 1]:\n",
        "    print(sign(x))"
      ],
      "execution_count": null,
      "outputs": [
        {
          "output_type": "stream",
          "name": "stdout",
          "text": [
            "negative\n",
            "zero\n",
            "positive\n"
          ]
        }
      ]
    },
    {
      "cell_type": "code",
      "metadata": {
        "scrolled": true,
        "colab": {
          "base_uri": "https://localhost:8080/"
        },
        "id": "0QH2P_80HOCt",
        "outputId": "fa626ad8-aa0b-4e53-de70-820db2757c2b"
      },
      "source": [
        "#############################################################\n",
        "# Optional keyword argument\n",
        "#############################################################\n",
        "# Define a function called hello takes\n",
        "# arguement <name>\n",
        "# optional argument <loud> with default value False\n",
        "# print \"HELLO, [name in large letter]\" if loud = True\n",
        "# print \"HELLO, [name in given form]\" if loud = False\n",
        "def hello(name, loud=False):\n",
        "    if loud:\n",
        "        print('HELLO, %s' % name.upper())\n",
        "    else:\n",
        "        print('Hello, %s!' % name)\n",
        "        \n",
        "hello('Bob')\n",
        "hello('Fred', loud=True)"
      ],
      "execution_count": null,
      "outputs": [
        {
          "output_type": "stream",
          "name": "stdout",
          "text": [
            "Hello, Bob!\n",
            "HELLO, FRED\n"
          ]
        }
      ]
    },
    {
      "cell_type": "markdown",
      "metadata": {
        "id": "6aYCJ7mtHOCv"
      },
      "source": [
        "### Class\n",
        "Python classes are defined using the `class` keyword"
      ]
    },
    {
      "cell_type": "code",
      "metadata": {
        "colab": {
          "base_uri": "https://localhost:8080/"
        },
        "id": "ucflQ7yzHOCv",
        "outputId": "5771a3a7-6bbf-4058-cd3a-14ce47fb86db"
      },
      "source": [
        "#############################################################\n",
        "# General Usage\n",
        "#############################################################\n",
        "# Define a function called Greeter\n",
        "# initialize its variable <name> with default value \"Alice\"\n",
        "# Define its function <greet> say hello as in the Function example\n",
        "class Greeter:\n",
        "    def __init__(self, name = 'Alice'):\n",
        "        self.name = name  \n",
        "\n",
        "    def greet(self, loud=False):\n",
        "        if loud:\n",
        "            print('HELLO, %s!' % self.name.upper())\n",
        "        else:\n",
        "            print('Hello, %s' % self.name)\n",
        "\n",
        "g1 = Greeter('Fred')  \n",
        "g1.greet()            \n",
        "g1.greet(loud=True)"
      ],
      "execution_count": null,
      "outputs": [
        {
          "output_type": "stream",
          "name": "stdout",
          "text": [
            "Hello, Fred\n",
            "HELLO, FRED!\n"
          ]
        }
      ]
    },
    {
      "cell_type": "code",
      "metadata": {
        "colab": {
          "base_uri": "https://localhost:8080/"
        },
        "id": "-D3_GRl8HOCw",
        "outputId": "17e5a98e-ee73-46dc-f8ab-48db559db132"
      },
      "source": [
        "g2 = Greeter()  \n",
        "g2.greet()            \n",
        "g2.greet(loud=True)"
      ],
      "execution_count": null,
      "outputs": [
        {
          "output_type": "stream",
          "name": "stdout",
          "text": [
            "Hello, Alice\n",
            "HELLO, ALICE!\n"
          ]
        }
      ]
    },
    {
      "cell_type": "markdown",
      "metadata": {
        "id": "-uQfb08cHOCw"
      },
      "source": [
        "## 2. Numpy"
      ]
    },
    {
      "cell_type": "code",
      "metadata": {
        "collapsed": true,
        "id": "Al9kRiJkHOCx"
      },
      "source": [
        "import numpy as np"
      ],
      "execution_count": null,
      "outputs": []
    },
    {
      "cell_type": "markdown",
      "metadata": {
        "id": "GmHAYEY-HOCx"
      },
      "source": [
        "### Array\n",
        "A numpy array is a grid of values, all of the same type, and is indexed by a tuple of nonnegative integers."
      ]
    },
    {
      "cell_type": "code",
      "metadata": {
        "colab": {
          "base_uri": "https://localhost:8080/"
        },
        "id": "lX1rQxCkHOCy",
        "outputId": "b3db1759-df34-4607-aa33-7d46f073389f"
      },
      "source": [
        "# Create an 2-by-2 array of all zeros \n",
        "a = np.zeros((2,2))\n",
        "print(a)"
      ],
      "execution_count": null,
      "outputs": [
        {
          "output_type": "stream",
          "name": "stdout",
          "text": [
            "[[0. 0.]\n",
            " [0. 0.]]\n"
          ]
        }
      ]
    },
    {
      "cell_type": "code",
      "metadata": {
        "colab": {
          "base_uri": "https://localhost:8080/"
        },
        "id": "WLcOyLFLHOCy",
        "outputId": "6301feb9-4d34-4b94-f430-536e9409b1b7"
      },
      "source": [
        "# Create an 2-by-2 array of all ones \n",
        "a = np.ones((2,2))\n",
        "print(a)"
      ],
      "execution_count": null,
      "outputs": [
        {
          "output_type": "stream",
          "name": "stdout",
          "text": [
            "[[1. 1.]\n",
            " [1. 1.]]\n"
          ]
        }
      ]
    },
    {
      "cell_type": "code",
      "metadata": {
        "colab": {
          "base_uri": "https://localhost:8080/"
        },
        "id": "w5BxcBWiHOCy",
        "outputId": "0d491e74-cc92-4add-ca19-d95eec48970b"
      },
      "source": [
        "# Create an 2-by-2 array with random numbers\n",
        "a = np.random.random((2,2))\n",
        "print(a)"
      ],
      "execution_count": null,
      "outputs": [
        {
          "output_type": "stream",
          "name": "stdout",
          "text": [
            "[[0.4760234  0.28300059]\n",
            " [0.69862681 0.50824425]]\n"
          ]
        }
      ]
    },
    {
      "cell_type": "code",
      "metadata": {
        "colab": {
          "base_uri": "https://localhost:8080/"
        },
        "id": "kDlncZUVHOCz",
        "outputId": "b2a7f24f-99e3-4f9a-9247-e5e4b33a2512"
      },
      "source": [
        "# Create an 1-by-6 array with elements 1 to 6\n",
        "a = np.array([1, 2,3 , 4, 5, 6])\n",
        "print(a)"
      ],
      "execution_count": null,
      "outputs": [
        {
          "output_type": "stream",
          "name": "stdout",
          "text": [
            "[1 2 3 4 5 6]\n"
          ]
        }
      ]
    },
    {
      "cell_type": "code",
      "metadata": {
        "colab": {
          "base_uri": "https://localhost:8080/"
        },
        "id": "feD3_1XCHOCz",
        "outputId": "15cdad04-fc49-4324-8356-0a90bca0355f"
      },
      "source": [
        "#Create a rank 2 array with elements 1 to 6\n",
        "b = np.array([[1,2,3],[4,5,6]])\n",
        "print(b)"
      ],
      "execution_count": null,
      "outputs": [
        {
          "output_type": "stream",
          "name": "stdout",
          "text": [
            "[[1 2 3]\n",
            " [4 5 6]]\n"
          ]
        }
      ]
    },
    {
      "cell_type": "code",
      "metadata": {
        "scrolled": true,
        "colab": {
          "base_uri": "https://localhost:8080/"
        },
        "id": "hELqrGM1HOC0",
        "outputId": "0c150f99-ddf7-4d66-e9f2-b4be8774e507"
      },
      "source": [
        "# print shape of the array\n",
        "print(b.shape)"
      ],
      "execution_count": null,
      "outputs": [
        {
          "output_type": "stream",
          "name": "stdout",
          "text": [
            "(2, 3)\n"
          ]
        }
      ]
    },
    {
      "cell_type": "code",
      "metadata": {
        "colab": {
          "base_uri": "https://localhost:8080/"
        },
        "id": "6uPwRyO2HOC0",
        "outputId": "f70c3e78-a25e-4873-d3d8-28d7e603b514"
      },
      "source": [
        "# print the element in the 1 in 1st index and 0 in 2nd index\n",
        "print(b[1][0])"
      ],
      "execution_count": null,
      "outputs": [
        {
          "output_type": "stream",
          "name": "stdout",
          "text": [
            "4\n"
          ]
        }
      ]
    },
    {
      "cell_type": "markdown",
      "metadata": {
        "id": "q-hoXajQHOC0"
      },
      "source": [
        "### Array indexing\n",
        "Since arrays may be multidimensional, you must specify a slice for each dimension of the array"
      ]
    },
    {
      "cell_type": "code",
      "metadata": {
        "colab": {
          "base_uri": "https://localhost:8080/"
        },
        "id": "WDzXC8lDHOC1",
        "outputId": "3f17ed1f-2e17-4138-c4cd-397f4f56aecc"
      },
      "source": [
        "# Create an 3-by-4 array with elements 1 to 12\n",
        "# Use reshape\n",
        "a = np.arange(1,13).reshape(3,4)\n",
        "print(a)"
      ],
      "execution_count": null,
      "outputs": [
        {
          "output_type": "stream",
          "name": "stdout",
          "text": [
            "[[ 1  2  3  4]\n",
            " [ 5  6  7  8]\n",
            " [ 9 10 11 12]]\n"
          ]
        }
      ]
    },
    {
      "cell_type": "code",
      "metadata": {
        "scrolled": false,
        "colab": {
          "base_uri": "https://localhost:8080/"
        },
        "id": "vf3lkGLsHOC1",
        "outputId": "2aa3cb9b-45d2-4043-fbfa-10e0a04e70a7"
      },
      "source": [
        "# Use slicing to pull out the subarray consisting of the first 2 rows and columns 1 and 2; \n",
        "# and modify [0, 0] element of the array b into 0\n",
        "b = a[:2, 1:3]\n",
        "print(b)\n",
        "b[0,0] = 0\n",
        "print(b[0,0], a[0, 1])\n",
        "b[0,0] = 2 # reset"
      ],
      "execution_count": null,
      "outputs": [
        {
          "output_type": "stream",
          "name": "stdout",
          "text": [
            "[[2 3]\n",
            " [6 7]]\n",
            "0 0\n"
          ]
        }
      ]
    },
    {
      "cell_type": "code",
      "metadata": {
        "colab": {
          "base_uri": "https://localhost:8080/"
        },
        "id": "MRPsa29-HOC2",
        "outputId": "d27e33de-2ef0-4985-c0e4-0b9da3eaea01"
      },
      "source": [
        "# Instead create an array with the subarray consisting of the first 2 rows and columns 1 and 2; \n",
        "# and modify [0, 0] element of the array b into 0\n",
        "b = np.array(a[:2, 1:3])\n",
        "print(b)\n",
        "b[0,0] = 0\n",
        "print(b[0,0], a[0, 1])"
      ],
      "execution_count": null,
      "outputs": [
        {
          "output_type": "stream",
          "name": "stdout",
          "text": [
            "[[2 3]\n",
            " [6 7]]\n",
            "0 2\n"
          ]
        }
      ]
    },
    {
      "cell_type": "code",
      "metadata": {
        "colab": {
          "base_uri": "https://localhost:8080/"
        },
        "id": "dBkHa2R-HOC2",
        "outputId": "847eff18-1a71-416d-e3ae-4dbeb2c9eaa0"
      },
      "source": [
        "# Get the [0, 2, 0, 1] indices from each row of a matrix: [0,0], [1,2], [2,1]\n",
        "indices = np.array([0, 2, 1])\n",
        "print(a[np.arange(3), indices])"
      ],
      "execution_count": null,
      "outputs": [
        {
          "output_type": "stream",
          "name": "stdout",
          "text": [
            "[ 1  7 10]\n"
          ]
        }
      ]
    },
    {
      "cell_type": "code",
      "metadata": {
        "colab": {
          "base_uri": "https://localhost:8080/"
        },
        "id": "rRt8Cmb4HOC2",
        "outputId": "c0261945-0c89-43a9-95b3-598ab9de7ac0"
      },
      "source": [
        "# Add 10 to the [0, 2, 0, 1] indices from each row of a matrix\n",
        "a[np.arange(3), indices] += 10\n",
        "print(a)"
      ],
      "execution_count": null,
      "outputs": [
        {
          "output_type": "stream",
          "name": "stdout",
          "text": [
            "[[11  2  3  4]\n",
            " [ 5  6 17  8]\n",
            " [ 9 20 11 12]]\n"
          ]
        }
      ]
    },
    {
      "cell_type": "markdown",
      "metadata": {
        "id": "lcruwSPuHOC3"
      },
      "source": [
        "### Array math\n",
        "Basic mathematical functions operate elementwise on arrays, and are available both as operator overloads and as functions in the numpy module"
      ]
    },
    {
      "cell_type": "code",
      "metadata": {
        "colab": {
          "base_uri": "https://localhost:8080/"
        },
        "id": "F0XrnxauHOC3",
        "outputId": "7594f866-a54f-43a5-e1fc-d19ae52c5d10"
      },
      "source": [
        "#############################################################\n",
        "# General Usage\n",
        "#############################################################\n",
        "x = np.array([[1,2],[3,4]], dtype=np.float64)\n",
        "y = np.array([[5,6],[7,8]], dtype=np.float64)\n",
        "\n",
        "# Elementwise product of x and y\n",
        "z = x * y\n",
        "print(z)"
      ],
      "execution_count": null,
      "outputs": [
        {
          "output_type": "stream",
          "name": "stdout",
          "text": [
            "[[ 5. 12.]\n",
            " [21. 32.]]\n"
          ]
        }
      ]
    },
    {
      "cell_type": "code",
      "metadata": {
        "colab": {
          "base_uri": "https://localhost:8080/"
        },
        "id": "NnDOILzmHOC4",
        "outputId": "c87a996c-15f3-4360-ce35-24953917f530"
      },
      "source": [
        "# Matrix product of x and y\n",
        "z = np.dot(x, y)\n",
        "print(z)"
      ],
      "execution_count": null,
      "outputs": [
        {
          "output_type": "stream",
          "name": "stdout",
          "text": [
            "[[19. 22.]\n",
            " [43. 50.]]\n"
          ]
        }
      ]
    },
    {
      "cell_type": "code",
      "metadata": {
        "colab": {
          "base_uri": "https://localhost:8080/"
        },
        "id": "UlphpC7iHOC4",
        "outputId": "eee7c061-6baf-4272-f240-4a6fdf5776d6"
      },
      "source": [
        "# Compute sum of all elements in x\n",
        "z = np.sum(x)\n",
        "print(z)"
      ],
      "execution_count": null,
      "outputs": [
        {
          "output_type": "stream",
          "name": "stdout",
          "text": [
            "10.0\n"
          ]
        }
      ]
    },
    {
      "cell_type": "code",
      "metadata": {
        "colab": {
          "base_uri": "https://localhost:8080/"
        },
        "id": "aIzOCIcnHOC4",
        "outputId": "ee2f1126-6769-48cd-e5f3-7a83d2296b59"
      },
      "source": [
        "# Compute sum of each column in x;\n",
        "z = np.sum(x, axis=0)\n",
        "print(z)"
      ],
      "execution_count": null,
      "outputs": [
        {
          "output_type": "stream",
          "name": "stdout",
          "text": [
            "[4. 6.]\n"
          ]
        }
      ]
    },
    {
      "cell_type": "code",
      "metadata": {
        "colab": {
          "base_uri": "https://localhost:8080/"
        },
        "id": "eEXiPWVUHOC5",
        "outputId": "e4808686-70f9-4e29-9abe-b84ad0c06843"
      },
      "source": [
        "# Compute sum of each row in x\n",
        "z = np.sum(x, axis=1)\n",
        "print(z)"
      ],
      "execution_count": null,
      "outputs": [
        {
          "output_type": "stream",
          "name": "stdout",
          "text": [
            "[3. 7.]\n"
          ]
        }
      ]
    },
    {
      "cell_type": "code",
      "metadata": {
        "colab": {
          "base_uri": "https://localhost:8080/"
        },
        "id": "0ZwQHPX4HOC5",
        "outputId": "56debb7a-f8a0-4675-e72f-81294a300aaf"
      },
      "source": [
        "#############################################################\n",
        "# Broadcasting\n",
        "#############################################################\n",
        "x = np.array([[1,2,3], [4,5,6], [7,8,9], [10, 11, 12]])\n",
        "v = np.array([1, 0, 1])\n",
        "y = np.empty_like(x) \n",
        "\n",
        "# Add the vector v to each row of the matrix x with an explicit loop\n",
        "for i in range(4):\n",
        "    y[i, :] = x[i, :] + v\n",
        "print(y)"
      ],
      "execution_count": null,
      "outputs": [
        {
          "output_type": "stream",
          "name": "stdout",
          "text": [
            "[[ 2  2  4]\n",
            " [ 5  5  7]\n",
            " [ 8  8 10]\n",
            " [11 11 13]]\n"
          ]
        }
      ]
    },
    {
      "cell_type": "code",
      "metadata": {
        "colab": {
          "base_uri": "https://localhost:8080/"
        },
        "id": "WjmsmqcEHOC6",
        "outputId": "17b13959-335e-4884-d74d-04b7b4e31c90"
      },
      "source": [
        "# Add the vector v to each row of the matrix x with stacking v multiple times\n",
        "vv = np.tile(v, (4, 1))\n",
        "y = x + vv\n",
        "print(y)"
      ],
      "execution_count": null,
      "outputs": [
        {
          "output_type": "stream",
          "name": "stdout",
          "text": [
            "[[ 2  2  4]\n",
            " [ 5  5  7]\n",
            " [ 8  8 10]\n",
            " [11 11 13]]\n"
          ]
        }
      ]
    },
    {
      "cell_type": "code",
      "metadata": {
        "colab": {
          "base_uri": "https://localhost:8080/"
        },
        "id": "KIaFO9e0HOC6",
        "outputId": "622b067b-bd6d-475e-d5f3-3ca865df8e1a"
      },
      "source": [
        "# Add the vector v to each row of the matrix x with broadcasting\n",
        "y = x + v\n",
        "print(y)"
      ],
      "execution_count": null,
      "outputs": [
        {
          "output_type": "stream",
          "name": "stdout",
          "text": [
            "[[ 2  2  4]\n",
            " [ 5  5  7]\n",
            " [ 8  8 10]\n",
            " [11 11 13]]\n"
          ]
        }
      ]
    },
    {
      "cell_type": "code",
      "metadata": {
        "colab": {
          "base_uri": "https://localhost:8080/"
        },
        "id": "J9gDJEBAHOC7",
        "outputId": "a5b9dd42-1255-4241-9b74-f72fe6cb6b27"
      },
      "source": [
        "# Multiply matrix x by a constant 2:\n",
        "z = x * 2\n",
        "print(z)"
      ],
      "execution_count": null,
      "outputs": [
        {
          "output_type": "stream",
          "name": "stdout",
          "text": [
            "[[ 2  4  6]\n",
            " [ 8 10 12]\n",
            " [14 16 18]\n",
            " [20 22 24]]\n"
          ]
        }
      ]
    },
    {
      "cell_type": "markdown",
      "metadata": {
        "id": "E7sQWdGVHOC7"
      },
      "source": [
        "## 3. Matplotlib"
      ]
    },
    {
      "cell_type": "markdown",
      "metadata": {
        "id": "B7KGY3gFHOC7"
      },
      "source": [
        "Matplotlib is a plotting library. In this section give a brief introduction to the `matplotlib.pyplot` module."
      ]
    },
    {
      "cell_type": "code",
      "metadata": {
        "id": "03ojBGtvHOC8"
      },
      "source": [
        "import matplotlib.pyplot as plt\n",
        "\n",
        "#By running this special iPython command, we will be displaying plots inline:\n",
        "%matplotlib inline"
      ],
      "execution_count": null,
      "outputs": []
    },
    {
      "cell_type": "markdown",
      "metadata": {
        "id": "Vz3qOBHtHOC8"
      },
      "source": [
        "### Plotting\n",
        "The most important function in `matplotlib` is plot, which allows you to plot 2D data. Here is a simple example:"
      ]
    },
    {
      "cell_type": "code",
      "metadata": {
        "collapsed": true,
        "id": "OadgZ9xUHOC8"
      },
      "source": [
        "# Compute the x and y coordinates for points on a sine curve\n",
        "x = np.arange(0, 3 * np.pi, 0.3)\n",
        "y = np.sin(x)"
      ],
      "execution_count": null,
      "outputs": []
    },
    {
      "cell_type": "code",
      "metadata": {
        "colab": {
          "base_uri": "https://localhost:8080/",
          "height": 283
        },
        "id": "uicKoXAqHOC8",
        "outputId": "183d6a66-5d05-4d07-dde4-2e04aa1d2193"
      },
      "source": [
        "# Plot the points using matplotlib\n",
        "plt.plot(x, y, 'o-', c='b'    )"
      ],
      "execution_count": null,
      "outputs": [
        {
          "output_type": "execute_result",
          "data": {
            "text/plain": [
              "[<matplotlib.lines.Line2D at 0x7f7439257210>]"
            ]
          },
          "metadata": {},
          "execution_count": 51
        },
        {
          "output_type": "display_data",
          "data": {
            "image/png": "[encoded data removed]",
            "text/plain": [
              "<Figure size 432x288 with 1 Axes>"
            ]
          },
          "metadata": {
            "needs_background": "light"
          }
        }
      ]
    },
    {
      "cell_type": "code",
      "metadata": {
        "colab": {
          "base_uri": "https://localhost:8080/",
          "height": 283
        },
        "id": "fGyyC10VHOC9",
        "outputId": "51798f38-55bd-4a25-a8d2-d5047126c303"
      },
      "source": [
        "# Plot the points using matplotlib\n",
        "plt.plot(x, y, 'o')"
      ],
      "execution_count": null,
      "outputs": [
        {
          "output_type": "execute_result",
          "data": {
            "text/plain": [
              "[<matplotlib.lines.Line2D at 0x7f7438db66d0>]"
            ]
          },
          "metadata": {},
          "execution_count": 52
        },
        {
          "output_type": "display_data",
          "data": {
            "image/png": "[encoded data removed]",
            "text/plain": [
              "<Figure size 432x288 with 1 Axes>"
            ]
          },
          "metadata": {
            "needs_background": "light"
          }
        }
      ]
    },
    {
      "cell_type": "code",
      "metadata": {
        "colab": {
          "base_uri": "https://localhost:8080/",
          "height": 283
        },
        "id": "Y2VQ9YMGHOC9",
        "outputId": "45df148e-3018-42e7-a5a7-bb915b648a84"
      },
      "source": [
        "# Plot the points using matplotlib\n",
        "plt.plot(x, y, '-o')"
      ],
      "execution_count": null,
      "outputs": [
        {
          "output_type": "execute_result",
          "data": {
            "text/plain": [
              "[<matplotlib.lines.Line2D at 0x7f7438d33290>]"
            ]
          },
          "metadata": {},
          "execution_count": 53
        },
        {
          "output_type": "display_data",
          "data": {
            "image/png": "[encoded data removed]",
            "text/plain": [
              "<Figure size 432x288 with 1 Axes>"
            ]
          },
          "metadata": {
            "needs_background": "light"
          }
        }
      ]
    },
    {
      "cell_type": "code",
      "metadata": {
        "colab": {
          "base_uri": "https://localhost:8080/",
          "height": 313
        },
        "id": "aVNinVcJHOC9",
        "outputId": "654a52f3-08fc-4a4a-a328-83964c14a4d8"
      },
      "source": [
        "y_sin = np.sin(x)\n",
        "y_cos = np.cos(x)\n",
        "\n",
        "# Plot the points using matplotlib\n",
        "plt.plot(x, y_sin)\n",
        "plt.plot(x, y_cos)\n",
        "plt.xlabel('x axis label')\n",
        "plt.ylabel('y axis label')\n",
        "plt.title('Sine and Cosine')\n",
        "plt.legend(['Sine', 'Cosine'])"
      ],
      "execution_count": null,
      "outputs": [
        {
          "output_type": "execute_result",
          "data": {
            "text/plain": [
              "<matplotlib.legend.Legend at 0x7f7438c92790>"
            ]
          },
          "metadata": {},
          "execution_count": 54
        },
        {
          "output_type": "display_data",
          "data": {
            "image/png": "[encoded data removed]",
            "text/plain": [
              "<Figure size 432x288 with 1 Axes>"
            ]
          },
          "metadata": {
            "needs_background": "light"
          }
        }
      ]
    },
    {
      "cell_type": "markdown",
      "metadata": {
        "id": "N0eSuqE4HOC9"
      },
      "source": [
        "### Subplots \n",
        "You can plot different things in the same figure using the subplot function. Here is an example:"
      ]
    },
    {
      "cell_type": "code",
      "metadata": {
        "colab": {
          "base_uri": "https://localhost:8080/",
          "height": 281
        },
        "id": "gxPgKyYkHOC-",
        "outputId": "8be42bf4-92fc-45ec-ba24-10f4777c1777"
      },
      "source": [
        "# Compute the x and y coordinates for points on sine and cosine curves\n",
        "x = np.arange(0, 3 * np.pi, 0.1)\n",
        "y_sin = np.sin(x)\n",
        "y_cos = np.cos(x)\n",
        "\n",
        "# Set up a subplot grid that has height 2 and width 1,\n",
        "# and set the first such subplot as active, and make the first plot.\n",
        "plt.subplot(2, 1, 1)\n",
        "plt.plot(x, y_sin)\n",
        "plt.title('Sine')\n",
        "\n",
        "# Set the second subplot as active, and make the second plot.\n",
        "plt.subplot(2, 1, 2)\n",
        "plt.plot(x, y_cos)\n",
        "plt.title('Cosine')\n",
        "\n",
        "# Show the figure.\n",
        "plt.show()"
      ],
      "execution_count": null,
      "outputs": [
        {
          "output_type": "display_data",
          "data": {
            "image/png": "[encoded data removed]",
            "text/plain": [
              "<Figure size 432x288 with 2 Axes>"
            ]
          },
          "metadata": {
            "needs_background": "light"
          }
        }
      ]
    }
  ]
}