{
 "cells": [
  {
   "cell_type": "markdown",
   "metadata": {
    "id": "SqteMLtPsRDk"
   },
   "source": [
    "# IoT·인공지능·빅데이터 개론 및 실습 <br> 3/8 Logistic Regerssion & Neural Network with Scikit-Learn\n",
    "\n",
    "Adapted by Seonwoo Min from the \"An Introduction to Machine Learning with Scikit-learn\" tutorial (http://scikit-learn.org/stable/tutorial/basic/tutorial.html).\n",
    "\n",
    "In this excercise, we will cover:\n",
    "\n",
    "* Loading an example dataset & preprocessing\n",
    "* Logistic regression & neural network models in scikit-learn\n",
    "* Model training & prediction & evaluation\n",
    "* Model save & load\n",
    "* Homework"
   ]
  },
  {
   "cell_type": "markdown",
   "metadata": {
    "id": "oSEhbR92sRDo"
   },
   "source": [
    "## 1. Loading an example dataset & preprocessing"
   ]
  },
  {
   "cell_type": "code",
   "execution_count": 3,
   "metadata": {
    "colab": {
     "base_uri": "https://localhost:8080/"
    },
    "executionInfo": {
     "elapsed": 4,
     "status": "ok",
     "timestamp": 1663304969684,
     "user": {
      "displayName": "jihun yi",
      "userId": "12299053877804363978"
     },
     "user_tz": -540
    },
    "id": "bfN6UX-asRDo",
    "outputId": "3497f1c7-1d6e-4d17-9f70-c2c170b043b7"
   },
   "outputs": [
    {
     "name": "stdout",
     "output_type": "stream",
     "text": [
      "dict_keys(['data', 'target', 'frame', 'feature_names', 'target_names', 'images', 'DESCR'])\n"
     ]
    }
   ],
   "source": [
    "from sklearn.datasets import load_digits\n",
    "data = load_digits()\n",
    "print(data.keys())"
   ]
  },
  {
   "cell_type": "code",
   "execution_count": 11,
   "metadata": {
    "colab": {
     "base_uri": "https://localhost:8080/"
    },
    "executionInfo": {
     "elapsed": 327,
     "status": "ok",
     "timestamp": 1663305497762,
     "user": {
      "displayName": "jihun yi",
      "userId": "12299053877804363978"
     },
     "user_tz": -540
    },
    "id": "KInxItNssRDp",
    "outputId": "622fc482-eae6-4beb-d63c-47d5525edcc9"
   },
   "outputs": [
    {
     "name": "stdout",
     "output_type": "stream",
     "text": [
      "Data:  (1797, 64)\n",
      "Label: (1797,)\n",
      "[0 1 2 3 4 5 6 7 8 9]\n",
      "178\n",
      "In class 0, 178\n",
      "In class 1, 182\n",
      "In class 2, 177\n",
      "In class 3, 183\n",
      "In class 4, 181\n",
      "In class 5, 182\n",
      "In class 6, 181\n",
      "In class 7, 179\n",
      "In class 8, 174\n",
      "In class 9, 180\n"
     ]
    }
   ],
   "source": [
    "# Data shape & statistics\n",
    "print(\"Data: \", data['data'].shape)\n",
    "print(\"Label:\", data['target'].shape)\n",
    "\n",
    "# Print the number of samples for each class\n",
    "import numpy as np\n",
    "#################### To Do #################################\n",
    "\n",
    "print(np.unique(data['target']))\n",
    "\n",
    "print(np.sum(data['target'] == 0))\n",
    "\n",
    "for c in range(10):\n",
    "  is_in_this_class = data['target'] == c\n",
    "  count = np.sum(is_in_this_class)\n",
    "  print('In class %d, %d' % (c, count))\n",
    "\n",
    "############################################################"
   ]
  },
  {
   "cell_type": "code",
   "execution_count": 17,
   "metadata": {
    "colab": {
     "base_uri": "https://localhost:8080/",
     "height": 265
    },
    "executionInfo": {
     "elapsed": 445,
     "status": "ok",
     "timestamp": 1663305768574,
     "user": {
      "displayName": "jihun yi",
      "userId": "12299053877804363978"
     },
     "user_tz": -540
    },
    "id": "X6CE-li6sRDq",
    "outputId": "bd4b3b37-f1ab-4592-d9af-05fe65dfa1f5"
   },
   "outputs": [
    {
     "data": {
      "image/png": "[encoded data removed]",
      "text/plain": [
       "<Figure size 432x288 with 1 Axes>"
      ]
     },
     "metadata": {
      "needs_background": "light"
     },
     "output_type": "display_data"
    }
   ],
   "source": [
    "#############################################################\n",
    "# Data Visaulization\n",
    "#############################################################\n",
    "import matplotlib.pyplot as plt\n",
    "%matplotlib inline\n",
    "\n",
    "#################### To Do #################################\n",
    "plt.imshow(data['data'][8].reshape(8, 8), cmap=plt.cm.gray_r)\n",
    "plt.show()\n",
    "\n",
    "############################################################"
   ]
  },
  {
   "cell_type": "code",
   "execution_count": 19,
   "metadata": {
    "colab": {
     "base_uri": "https://localhost:8080/"
    },
    "executionInfo": {
     "elapsed": 345,
     "status": "ok",
     "timestamp": 1663306472301,
     "user": {
      "displayName": "jihun yi",
      "userId": "12299053877804363978"
     },
     "user_tz": -540
    },
    "id": "8SXTW_t0sRDq",
    "outputId": "3f900e2a-1936-4404-bb83-a063e7648a88"
   },
   "outputs": [
    {
     "name": "stdout",
     "output_type": "stream",
     "text": [
      "(200, 64)\n",
      "(1597, 64)\n"
     ]
    }
   ],
   "source": [
    "#############################################################\n",
    "# 1st Preprocessing\n",
    "# Use the first 20 samples in each clss as test data\n",
    "# Use the others as training data\n",
    "#############################################################\n",
    "train_data = []\n",
    "test_data = []\n",
    "\n",
    "train_target = []\n",
    "test_target = []\n",
    "#################### To Do #################################\n",
    "\n",
    "N = len(data['data'])\n",
    "for c in range(10):\n",
    "  is_in_this_class = data['target'] == c  # boolean (1797,)\n",
    "  \n",
    "  data_in_this_class = data['data'][is_in_this_class]  # (178, 64)\n",
    "  target_in_this_class = data['target'][is_in_this_class]\n",
    "  \n",
    "  test_data.append(data_in_this_class[:20])\n",
    "  train_data.append(data_in_this_class[20:])\n",
    "  test_target.append(target_in_this_class[:20])\n",
    "  train_target.append(target_in_this_class[20:])\n",
    "\n",
    "test_data = np.concatenate(test_data)\n",
    "train_data = np.concatenate(train_data)\n",
    "test_target = np.concatenate(test_target)\n",
    "train_target = np.concatenate(train_target)\n",
    "\n",
    "############################################################\n",
    "\n",
    "print(test_data.shape)\n",
    "print(train_data.shape)"
   ]
  },
  {
   "cell_type": "code",
   "execution_count": 20,
   "metadata": {
    "colab": {
     "base_uri": "https://localhost:8080/"
    },
    "executionInfo": {
     "elapsed": 2,
     "status": "ok",
     "timestamp": 1663306535136,
     "user": {
      "displayName": "jihun yi",
      "userId": "12299053877804363978"
     },
     "user_tz": -540
    },
    "id": "6ndoomKdsRDr",
    "outputId": "796a3bef-f30e-4dc8-c1de-518561a59b00"
   },
   "outputs": [
    {
     "name": "stdout",
     "output_type": "stream",
     "text": [
      "(40, 64)\n",
      "(320, 64)\n"
     ]
    }
   ],
   "source": [
    "#############################################################\n",
    "# 2nd Preprocessing\n",
    "# Let's use only 2 and 3 for binary classification\n",
    "#############################################################\n",
    "\n",
    "#################### To Do #################################\n",
    "train_data23 = []\n",
    "test_data23 = []\n",
    "\n",
    "train_target23 = []\n",
    "test_target23 = []\n",
    "#################### To Do #################################\n",
    "\n",
    "N = len(data['data'])\n",
    "for c in [2, 3]:\n",
    "  is_in_this_class = data['target'] == c  # boolean (1797,)\n",
    "  \n",
    "  data_in_this_class = data['data'][is_in_this_class]  # (178, 64)\n",
    "  target_in_this_class = data['target'][is_in_this_class]\n",
    "  \n",
    "  test_data23.append(data_in_this_class[:20])\n",
    "  train_data23.append(data_in_this_class[20:])\n",
    "  test_target23.append(target_in_this_class[:20])\n",
    "  train_target23.append(target_in_this_class[20:])\n",
    "\n",
    "test_data23 = np.concatenate(test_data23)\n",
    "train_data23 = np.concatenate(train_data23)\n",
    "test_target23 = np.concatenate(test_target23)\n",
    "train_target23 = np.concatenate(train_target23)\n",
    "\n",
    "############################################################\n",
    "\n",
    "print(test_data23.shape)\n",
    "print(train_data23.shape)"
   ]
  },
  {
   "cell_type": "markdown",
   "metadata": {
    "id": "4Ug3ID1msRDs"
   },
   "source": [
    "## 2. Logistic regression & neural network models in scikit-learn\n",
    "\n",
    "For full documentations refer to the following links: <br>\n",
    "Logistic Regression: http://scikit-learn.org/stable/modules/generated/sklearn.linear_model.LogisticRegression.html <br>\n",
    "Neural network: http://scikit-learn.org/stable/modules/generated/sklearn.neural_network.MLPClassifier.html#sklearn.neural_network.MLPClassifier"
   ]
  },
  {
   "cell_type": "code",
   "execution_count": 21,
   "metadata": {
    "executionInfo": {
     "elapsed": 4,
     "status": "ok",
     "timestamp": 1663306948194,
     "user": {
      "displayName": "jihun yi",
      "userId": "12299053877804363978"
     },
     "user_tz": -540
    },
    "id": "Zz95RMOSsRDs"
   },
   "outputs": [],
   "source": [
    "from sklearn.linear_model import LogisticRegression\n",
    "from sklearn.neural_network import MLPClassifier\n",
    "\n",
    "LR = LogisticRegression(max_iter=1000, solver='sag')\n",
    "NN = MLPClassifier(hidden_layer_sizes=(10), activation='relu', learning_rate_init=0.01, max_iter=1000)"
   ]
  },
  {
   "cell_type": "markdown",
   "metadata": {
    "id": "8ySEkC51sRDt"
   },
   "source": [
    "## 3. Model training & prediction & evaluation"
   ]
  },
  {
   "cell_type": "code",
   "execution_count": 46,
   "metadata": {
    "colab": {
     "base_uri": "https://localhost:8080/"
    },
    "executionInfo": {
     "elapsed": 416,
     "status": "ok",
     "timestamp": 1663308376633,
     "user": {
      "displayName": "jihun yi",
      "userId": "12299053877804363978"
     },
     "user_tz": -540
    },
    "id": "8BQGK806sRDt",
    "outputId": "ee56e574-2126-4da6-a265-f95fa68172cf"
   },
   "outputs": [
    {
     "name": "stdout",
     "output_type": "stream",
     "text": [
      "test_prediction : [2 2 2 2 2 2 2 2 3 2 2 2 2 2 2 2 2 2 2 2 3 3 3 3 3 3 3 3 3 3 3 3 3 3 3 3 3\n",
      " 3 3 3]\n",
      "train_prob : [[9.98553352e-01 1.44664815e-03]\n",
      " [9.99990290e-01 9.70995346e-06]\n",
      " [9.99998794e-01 1.20575173e-06]\n",
      " [9.99999994e-01 5.94653124e-09]\n",
      " [9.99999681e-01 3.19365540e-07]\n",
      " [9.99772629e-01 2.27370569e-04]\n",
      " [9.99978442e-01 2.15583586e-05]\n",
      " [9.99999467e-01 5.33074258e-07]\n",
      " [9.99988787e-01 1.12131973e-05]\n",
      " [9.99781428e-01 2.18572475e-04]]\n",
      "test_prob : [[9.94353425e-01 5.64657493e-03]\n",
      " [9.99964310e-01 3.56903036e-05]\n",
      " [9.99999359e-01 6.41277777e-07]\n",
      " [9.94463388e-01 5.53661244e-03]\n",
      " [9.99520423e-01 4.79576988e-04]\n",
      " [5.18924810e-01 4.81075190e-01]\n",
      " [9.36606065e-01 6.33939352e-02]\n",
      " [9.90440567e-01 9.55943251e-03]\n",
      " [4.88854962e-02 9.51114504e-01]\n",
      " [9.99999877e-01 1.23192564e-07]]\n",
      "train_acc : 1.0\n",
      "test_acc  : 0.975\n"
     ]
    }
   ],
   "source": [
    "#############################################################\n",
    "# Logistic regression model\n",
    "#############################################################\n",
    "# Training\n",
    "LR = LogisticRegression(max_iter=100)\n",
    "LR.fit(train_data23, train_target23)\n",
    "\n",
    "# Prediction\n",
    "train_predict23 = LR.predict(train_data23)\n",
    "train_prob23 = LR.predict_proba(train_data23)\n",
    "test_predict23 = LR.predict(test_data23)\n",
    "test_prob23 = LR.predict_proba(test_data23)\n",
    "# print(\"test_target     :\", test_target23)\n",
    "print(\"test_prediction :\", test_predict23)\n",
    "print(\"train_prob :\", train_prob23[:10])\n",
    "print(\"test_prob :\", test_prob23[:10])\n",
    "\n",
    "#################### To Do #################################\n",
    "\n",
    "is_correct = train_predict23 == train_target23\n",
    "train_acc23 = np.mean(is_correct)\n",
    "is_correct = test_predict23 == test_target23\n",
    "test_acc23 = np.mean(is_correct)\n",
    "\n",
    "\n",
    "############################################################\n",
    "\n",
    "print(\"train_acc :\", train_acc23)\n",
    "print(\"test_acc  :\", test_acc23)"
   ]
  },
  {
   "cell_type": "code",
   "execution_count": 71,
   "metadata": {
    "colab": {
     "base_uri": "https://localhost:8080/"
    },
    "executionInfo": {
     "elapsed": 409,
     "status": "ok",
     "timestamp": 1663308756874,
     "user": {
      "displayName": "jihun yi",
      "userId": "12299053877804363978"
     },
     "user_tz": -540
    },
    "id": "EGnukzyTsRDu",
    "outputId": "55375d88-5539-409d-9fd1-308f29feef57"
   },
   "outputs": [
    {
     "name": "stdout",
     "output_type": "stream",
     "text": [
      "train_acc : 1.0\n",
      "test_acc  : 1.0\n"
     ]
    }
   ],
   "source": [
    "#############################################################\n",
    "# Neural network model\n",
    "#############################################################\n",
    "\n",
    "#################### To Do #################################\n",
    "# Training\n",
    "NN = MLPClassifier(hidden_layer_sizes=(10,), activation='tanh', learning_rate_init=1e-2, max_iter=100)\n",
    "NN.fit(train_data23, train_target23)\n",
    "\n",
    "# Prediction\n",
    "train_predict23 = NN.predict(train_data23)\n",
    "train_prob23 = NN.predict_proba(train_data23)\n",
    "test_predict23 = NN.predict(test_data23)\n",
    "test_prob23 = NN.predict_proba(test_data23)\n",
    "# print(\"test_target     :\", test_target23)\n",
    "# print(\"test_prediction :\", test_predict23)\n",
    "# print(\"train_prob :\", train_prob23[:10])\n",
    "# print(\"test_prob :\", test_prob23[:10])\n",
    "\n",
    "#################### To Do #################################\n",
    "\n",
    "is_correct = train_predict23 == train_target23\n",
    "train_acc23 = np.mean(is_correct)\n",
    "is_correct = test_predict23 == test_target23\n",
    "test_acc23 = np.mean(is_correct)\n",
    "\n",
    "\n",
    "############################################################\n",
    "\n",
    "print(\"train_acc :\", train_acc23)\n",
    "print(\"test_acc  :\", test_acc23)\n",
    "############################################################"
   ]
  },
  {
   "cell_type": "markdown",
   "metadata": {
    "id": "tscW8V1gsRDu"
   },
   "source": [
    "## 4. Model save & load"
   ]
  },
  {
   "cell_type": "code",
   "execution_count": 72,
   "metadata": {
    "executionInfo": {
     "elapsed": 341,
     "status": "ok",
     "timestamp": 1663308772484,
     "user": {
      "displayName": "jihun yi",
      "userId": "12299053877804363978"
     },
     "user_tz": -540
    },
    "id": "iifP7nPksRDu"
   },
   "outputs": [],
   "source": [
    "# from sklearn.externals import joblib\n",
    "import joblib\n",
    "import os\n",
    "\n",
    "if not os.path.exists('models'):\n",
    "    os.makedirs('models')\n",
    "    \n",
    "# save\n",
    "joblib.dump(NN, 'models/NN23.joblib') \n",
    "\n",
    "# load\n",
    "NN_load = joblib.load('models/NN23.joblib') \n",
    "\n",
    "#################### To Do #################################\n",
    "\n",
    "############################################################"
   ]
  },
  {
   "cell_type": "markdown",
   "metadata": {
    "id": "0HUpuYxisRDv"
   },
   "source": [
    "## 5. Homework\n",
    "Now it's your job to experiment with models and achieve higher accuracy on the  **<font color=red>on the entire dataset</font>**. <br>\n",
    "Try different hyperparameter configurations and save the final model as \"final_model.joblib\" <br>\n",
    "Submit the current **notebook file and the saved final model** on ETL.\n",
    "* Maximum 10 points for >= 97% accuracy on the test set\n",
    "* Maximum 8 points for >= 96% accuracy on the test set\n",
    "* Maximum 6 points for >= 95% accuracy on the test set\n",
    "* Maximum 4 points for >= 94% accuracy on the test set"
   ]
  },
  {
   "cell_type": "code",
   "execution_count": null,
   "metadata": {
    "id": "2Ow5QRJhsRDv"
   },
   "outputs": [],
   "source": [
    "#############################################################\n",
    "# Try different hyperparameters\n",
    "# Final model training\n",
    "#############################################################\n",
    "\n",
    "#################### To Do #################################\n",
    "\n",
    "############################################################"
   ]
  },
  {
   "cell_type": "code",
   "execution_count": null,
   "metadata": {
    "id": "5b_nwL_MsRDv"
   },
   "outputs": [],
   "source": [
    "#############################################################\n",
    "# Final model test\n",
    "# Load the final model and obatin the test accuracy\n",
    "#############################################################\n",
    "\n",
    "#################### To Do #################################\n",
    "\n",
    "############################################################"
   ]
  },
  {
   "cell_type": "markdown",
   "metadata": {
    "id": "m0LBN4egsRDv"
   },
   "source": [
    "### Describe what you did here\n",
    "In this cell you should also write an explanation of what you did, any additional features that you implemented, and any visualizations or graphs that you make in the process of training and evaluating your model.\n",
    "* Maximum 10 points"
   ]
  },
  {
   "cell_type": "code",
   "execution_count": null,
   "metadata": {
    "id": "vod6i2wk8XEJ"
   },
   "outputs": [],
   "source": []
  },
  {
   "cell_type": "markdown",
   "metadata": {
    "id": "-GgswtDZsRDv"
   },
   "source": [
    "fasdfasdfsa"
   ]
  },
  {
   "cell_type": "code",
   "execution_count": null,
   "metadata": {
    "id": "VmPnjbkg8ZCp"
   },
   "outputs": [],
   "source": []
  }
 ],
 "metadata": {
  "colab": {
   "collapsed_sections": [],
   "provenance": []
  },
  "kernelspec": {
   "display_name": "Python 3",
   "language": "python",
   "name": "python3"
  },
  "language_info": {
   "codemirror_mode": {
    "name": "ipython",
    "version": 3
   },
   "file_extension": ".py",
   "mimetype": "text/x-python",
   "name": "python",
   "nbconvert_exporter": "python",
   "pygments_lexer": "ipython3",
   "version": "3.7.4"
  }
 },
 "nbformat": 4,
 "nbformat_minor": 1
}
