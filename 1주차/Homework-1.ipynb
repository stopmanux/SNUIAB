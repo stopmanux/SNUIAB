{
  "nbformat": 4,
  "nbformat_minor": 0,
  "metadata": {
    "kernelspec": {
      "display_name": "Python 3",
      "language": "python",
      "name": "python3"
    },
    "language_info": {
      "codemirror_mode": {
        "name": "ipython",
        "version": 3
      },
      "file_extension": ".py",
      "mimetype": "text/x-python",
      "name": "python",
      "nbconvert_exporter": "python",
      "pygments_lexer": "ipython3",
      "version": "3.6.2"
    },
    "colab": {
      "provenance": [],
      "collapsed_sections": []
    }
  },
  "cells": [
    {
      "cell_type": "markdown",
      "metadata": {
        "id": "zfERSnIs4Pbp"
      },
      "source": [
        "# 지원 부서 추천 프로그램\n",
        "\n",
        "가상의 학교 '파이썬 스쿨'을 수료한 학생들은 가상의 기업 '파이썬컴퍼니'에 취직을 하려 한다. 파이썬컴퍼니에는 네개의 부서 A,B,C,D 가 있다. 각 부서는 {학점,어학점수,코딩능력시험점수,경력점수} 네가지 항목으로 지원자를 심사하지만 각 항목에 두는 가중치가 서로 다르다. 학생들은 네개의 사업부 중 하나에만 지원할 수 있다. 파이썬 스쿨에서 가장 배려심이 깊은 당신은 각 학생들에게 선발 가능성이 가장 높은 부서를 알려주는 Solution 함수를 만들어주려 한다.\n",
        "\n",
        "{학점, 어학점수, 코딩능력시험점수, 경력점수} 각 항목은 모두 100점 만점이다(0~100). <br>\n",
        "각각의 항목에 대한 가중치는 0.0에서 1.0 사이이고 네 항목에 대한 가중치 합은 1.0이다. <br>\n",
        "\n",
        "-----------------------------------------------------------------------------------------------------------------------------------"
      ]
    },
    {
      "cell_type": "markdown",
      "metadata": {
        "id": "HjSvYlpx4Pbp"
      },
      "source": [
        "**라이브러리 import 하기**(Import anything if you need)"
      ]
    },
    {
      "cell_type": "code",
      "metadata": {
        "id": "ANPS66ox4Pbq"
      },
      "source": [
        "###########################To do#################################\n",
        "import numpy as np\n",
        "#################################################################"
      ],
      "execution_count": null,
      "outputs": []
    },
    {
      "cell_type": "markdown",
      "metadata": {
        "id": "2953GLqY4Pbt"
      },
      "source": [
        "**<학생 목록 및 항목별 성적>** <br>\n",
        "이름 / 학점 / 어학점수 / 코딩능력시험점수 / 경력점수 <br>\n",
        "\n",
        "Choi / 73 / 66 / 47 / 83 <br>\n",
        "Delao / 82 / 72 / 93 / 89 <br>\n",
        "Henry / 46 / 74 / 100 / 48 <br>\n",
        "Kim / 59 / 47 / 65 / 41 <br>\n",
        "Parish / 92 / 42 / 77 / 62 <br>\n",
        "Park / 71 / 41 / 64 / 59 <br>\n",
        "Stamps / 43 / 57 / 59 / 78 <br>\n",
        "Taylor / 70 / 91 / 88 / 54 <br>"
      ]
    },
    {
      "cell_type": "code",
      "metadata": {
        "id": "cXSdPJqu4Pbt"
      },
      "source": [
        "students_list = ['Parish', 'Stamps', 'Henry', 'Kim', 'Choi', 'Park', 'Delao', 'Taylor']\n",
        "students = np.array([[92,42,77,62],\n",
        "                     [43,57,59,78],\n",
        "                     [46,74,100,48],\n",
        "                     [59,47,65,41],\n",
        "                     [73,66,47,83],\n",
        "                     [71,41,64,59],\n",
        "                     [82,72,93,89],\n",
        "                     [70,91,88,54]])"
      ],
      "execution_count": null,
      "outputs": []
    },
    {
      "cell_type": "markdown",
      "metadata": {
        "id": "5diAEcVw4Pbx"
      },
      "source": [
        "**<부서별 가중치>** <br>\n",
        "부서 / 학점 가중치 / 어학점수 가중치 / 코딩능력시험점수 가중치 / 경력점수 가중치\n",
        "\n",
        "A / 0.50 / 0.10 / 0.30 / 0.10 <br>\n",
        "B / 0.05 / 0.55 / 0.20 / 0.20 <br>\n",
        "C / 0.10 / 0.10 / 0.70 / 0.10 <br>\n",
        "D / 0.15 / 0.18 / 0.22 / 0.45"
      ]
    },
    {
      "cell_type": "code",
      "metadata": {
        "id": "euC-5YQ54Pby"
      },
      "source": [
        "departments_list = ['A', 'B', 'C', 'D']\n",
        "departments =  np.array([[0.50,0.10,0.30,0.10],\n",
        "                         [0.05,0.55,0.20,0.20],\n",
        "                         [0.10,0.10,0.70,0.10],\n",
        "                         [0.15,0.18,0.22,0.45]])"
      ],
      "execution_count": null,
      "outputs": []
    },
    {
      "cell_type": "markdown",
      "metadata": {
        "id": "QjqY4XPX4Pb0"
      },
      "source": [
        "## 1. 각 부서가 절대평가로 지원자를 선발할 때,\n",
        "**학생별로 가장 높은 점수를 얻을 수 있는 추천부서를 알려주는 solution_1 함수 구현**"
      ]
    },
    {
      "cell_type": "code",
      "metadata": {
        "id": "jlGbF93r4Pb1"
      },
      "source": [
        "###########################To do#################################\n",
        "def solution_1(stu_list, stu, dep_list, dep):\n",
        "    results = {} # 학생이름을 key, 최고 점수 부서를 value 로 가지는 dictionary\n",
        "    \n",
        "\n",
        "        \n",
        "    return results\n",
        "#################################################################"
      ],
      "execution_count": null,
      "outputs": []
    },
    {
      "cell_type": "markdown",
      "metadata": {
        "id": "1w9oXFIm4Pb3"
      },
      "source": [
        "**정답 확인**"
      ]
    },
    {
      "cell_type": "code",
      "metadata": {
        "id": "fashHe6D4Pb3"
      },
      "source": [
        "result = solution_1(students_list, students, departments_list, departments)\n",
        "print(result)\n",
        "\n",
        "answer = {'Park': 'A', 'Choi': 'D', 'Kim': 'C', 'Delao': 'C', 'Parish': 'A', 'Taylor': 'C', 'Henry': 'C', 'Stamps': 'D'}\n",
        "\n",
        "correct = True\n",
        "for i in answer.items():\n",
        "    if i not in result.items():\n",
        "        correct = False\n",
        "if correct: print('정답!')\n",
        "else: print('어딘가 틀렸습니다.')"
      ],
      "execution_count": null,
      "outputs": []
    },
    {
      "cell_type": "markdown",
      "metadata": {
        "id": "7UC3IyfQ4Pb5"
      },
      "source": [
        "## 2. 각 부서가 상대평가로 지원자를 선발할 때,\n",
        "**각 부서 별로 가장 높은 점수를 얻은 학생 2명을 선발하며, A, B, C, D 부서의 순서로 우선권을 갖는다고 가정** <br>\n",
        "(1). A부서에서 가장 높은 점수를 받은 2명의 학생은 A부서를 추천<br>\n",
        "(2). (1)의 학생을 제외한 나머지 학생 중에, B부서에서 가장 높은 점수를 받은 2명의 학생은 B부서를 추천<br>\n",
        "(3). (1,2)의 학생을 제외한 나머지 학생 중에, C부서에서 가장 높은 점수를 받은 2명의 학생은 C부서를 추천<br>\n",
        "(4). (1,2,3)의 학생을 제외한 나머지 학생 중에, D부서에서 가장 높은 점수를 받은 2명의 학생은 D부서를 추천<br>\n",
        "**학생별로 선발될 추천부서를 알려주는 solution_2 함수 구현**"
      ]
    },
    {
      "cell_type": "code",
      "metadata": {
        "id": "tGvuT12-4Pb6"
      },
      "source": [
        "###########################To do#################################\n",
        "def solution_2(stu_list, stu, dep_list, dep):\n",
        "    results = {} # 학생이름을 key, 최고 점수 부서를 value 로 가지는 dictionary\n",
        "    \n",
        "    return results\n",
        "#################################################################"
      ],
      "execution_count": null,
      "outputs": []
    },
    {
      "cell_type": "code",
      "metadata": {
        "id": "m40Jo_tu4Pb8"
      },
      "source": [
        "result = solution_2(students_list, students, departments_list, departments)\n",
        "print(result)\n",
        "\n",
        "answer = {'Park': 'C', 'Henry': 'B', 'Parish': 'A', 'Choi': 'D', 'Stamps': 'D', 'Delao': 'A', 'Kim': 'C', 'Taylor': 'B'}\n",
        "\n",
        "correct = True\n",
        "for i in answer.items():\n",
        "    if i not in result.items():\n",
        "        correct = False\n",
        "if correct: print('정답!')\n",
        "else: print('어딘가 틀렸습니다.')"
      ],
      "execution_count": null,
      "outputs": []
    }
  ]
}